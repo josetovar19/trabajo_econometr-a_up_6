{
 "cells": [
  {
   "cell_type": "markdown",
   "metadata": {},
   "source": [
    "# Avance proyecto final econometría II\n"
   ]
  },
  {
   "cell_type": "markdown",
   "metadata": {},
   "source": [
    "**Por;**\n",
    "\n",
    "Santiago Sánchez\n",
    "\n",
    "José Angel Tovar\n",
    "\n",
    "**Objetivo**\n",
    "\n",
    "Pronosticar en la medida de lo posible los resultados de los siguietes equipos por jornada.\n",
    "\n",
    "**Motivación**\n",
    "\n",
    "El futbol es un deporte sumamente dificil de predecir, esto porque interfieren una serie de variables incontrolables en muchas de las ocasiones, es por esto, que nosotros como aficionados nos emociona y motiva el tratar de crear un modelo que pronostique resultados concretos mas aun de equipos de una liga tan competitiva como lo es la Premier League.\n",
    "\n",
    "**Modelo general**\n",
    "\n",
    "*Y(p:gane/pierda) = a + B1(local/visitante) + B2(Goal por partido) + B3(DF) + B4(Posición) + B6(Posición contrincante) + Error*\n",
    "\n",
    "**4 modelos a evaluar**\n",
    "\n",
    "Y = P(Manchester_City_gane_la_siguiente_jornada: Si/No)\n",
    "\n",
    "Y = P(Liverpool_gane_la_siguiente_jornada: Si/No)\n",
    "\n",
    "Y = P(Chelsea_gane_la_siguiente_jornada: Si/No)\n",
    "\n",
    "Y = P(Tottenham_gane_la_siguiente_jornada: Si/No)\n",
    "\n",
    "**Data set**\n",
    "\n",
    "29 datos para cada variable x"
   ]
  },
  {
   "cell_type": "code",
   "execution_count": 2,
   "metadata": {},
   "outputs": [
    {
     "name": "stdout",
     "output_type": "stream",
     "text": [
      "https://www.resultados-futbol.com/premier/grupo1/jornada1\n"
     ]
    }
   ],
   "source": [
    "print('https://www.resultados-futbol.com/premier/grupo1/jornada1')"
   ]
  },
  {
   "cell_type": "code",
   "execution_count": 3,
   "metadata": {},
   "outputs": [],
   "source": [
    "import urllib\n",
    "from urllib.request import urlopen\n",
    "from bs4 import BeautifulSoup\n",
    "import requests\n",
    "import pandas as pd\n",
    "resultados_home = 'http://www.resultados-futbol.com/premier/grupo1/jornada{}'\n",
    "headers = {'User-agent': 'Safari/13.1'}"
   ]
  },
  {
   "cell_type": "code",
   "execution_count": 4,
   "metadata": {},
   "outputs": [
    {
     "name": "stdout",
     "output_type": "stream",
     "text": [
      "http://www.resultados-futbol.com/premier/grupo1/jornada0\n",
      "http://www.resultados-futbol.com/premier/grupo1/jornada1\n",
      "http://www.resultados-futbol.com/premier/grupo1/jornada2\n",
      "http://www.resultados-futbol.com/premier/grupo1/jornada3\n",
      "http://www.resultados-futbol.com/premier/grupo1/jornada4\n",
      "http://www.resultados-futbol.com/premier/grupo1/jornada5\n",
      "http://www.resultados-futbol.com/premier/grupo1/jornada6\n",
      "http://www.resultados-futbol.com/premier/grupo1/jornada7\n",
      "http://www.resultados-futbol.com/premier/grupo1/jornada8\n",
      "http://www.resultados-futbol.com/premier/grupo1/jornada9\n",
      "http://www.resultados-futbol.com/premier/grupo1/jornada10\n",
      "http://www.resultados-futbol.com/premier/grupo1/jornada11\n",
      "http://www.resultados-futbol.com/premier/grupo1/jornada12\n",
      "http://www.resultados-futbol.com/premier/grupo1/jornada13\n",
      "http://www.resultados-futbol.com/premier/grupo1/jornada14\n",
      "http://www.resultados-futbol.com/premier/grupo1/jornada15\n",
      "http://www.resultados-futbol.com/premier/grupo1/jornada16\n",
      "http://www.resultados-futbol.com/premier/grupo1/jornada17\n",
      "http://www.resultados-futbol.com/premier/grupo1/jornada18\n",
      "http://www.resultados-futbol.com/premier/grupo1/jornada19\n",
      "http://www.resultados-futbol.com/premier/grupo1/jornada20\n",
      "http://www.resultados-futbol.com/premier/grupo1/jornada21\n",
      "http://www.resultados-futbol.com/premier/grupo1/jornada22\n",
      "http://www.resultados-futbol.com/premier/grupo1/jornada23\n",
      "http://www.resultados-futbol.com/premier/grupo1/jornada24\n",
      "http://www.resultados-futbol.com/premier/grupo1/jornada25\n",
      "http://www.resultados-futbol.com/premier/grupo1/jornada26\n",
      "http://www.resultados-futbol.com/premier/grupo1/jornada27\n",
      "http://www.resultados-futbol.com/premier/grupo1/jornada28\n",
      "http://www.resultados-futbol.com/premier/grupo1/jornada29\n"
     ]
    }
   ],
   "source": [
    "for i in range (30):\n",
    "    print(resultados_home.format(i))"
   ]
  },
  {
   "cell_type": "code",
   "execution_count": 5,
   "metadata": {},
   "outputs": [
    {
     "name": "stdout",
     "output_type": "stream",
     "text": [
      "1 | 2 | 3 | 4 | 5 | 6 | 7 | 8 | 9 | 10 | 11 | 12 | 13 | 14 | 15 | 16 | 17 | 18 | 19 | 20 | 21 | 22 | 23 | 24 | 25 | 26 | 27 | 28 | 29 | "
     ]
    }
   ],
   "source": [
    "equipos_info = {}\n",
    "for page in range(1, 30):\n",
    "    equipos_info[page] = {}\n",
    "    url = resultados_home.format(page)\n",
    "    html = requests.get(url, headers=headers)\n",
    "    soup = BeautifulSoup(html.content, \"lxml\")\n",
    "    table_2 = soup.find(\"table\", {\"id\" : \"tabla2\"})\n",
    "    tds = table_2.findAll(\"td\")\n",
    "    for i, td in enumerate(tds):\n",
    "        try:\n",
    "            clase = td['class'][0]\n",
    "            if clase == 'equipo':\n",
    "                equipo = td.get_text().strip()\n",
    "                equipos_info[page][equipo] = []\n",
    "                for ii in range(1, 30):\n",
    "                    value = int(tds[i + ii].get_text())\n",
    "                    equipos_info[page][equipo].append(value)\n",
    "        except:\n",
    "            pass\n",
    "    print(page, end=' | ')"
   ]
  },
  {
   "cell_type": "code",
   "execution_count": 6,
   "metadata": {
    "scrolled": true
   },
   "outputs": [],
   "source": [
    "liverpool_1 = list(equipos_info[1]['Liverpool'])"
   ]
  },
  {
   "cell_type": "code",
   "execution_count": 7,
   "metadata": {},
   "outputs": [
    {
     "data": {
      "text/plain": [
       "{'Man. City': [3, 1, 1, 0, 0, 5, 0],\n",
       " 'Man. Utd': [3, 1, 1, 0, 0, 4, 0],\n",
       " 'Liverpool': [3, 1, 1, 0, 0, 4, 1],\n",
       " 'Brighton Hove A.': [3, 1, 1, 0, 0, 3, 0],\n",
       " 'Burnley': [3, 1, 1, 0, 0, 3, 0],\n",
       " 'Tottenham': [3, 1, 1, 0, 0, 3, 1],\n",
       " 'Arsenal': [3, 1, 1, 0, 0, 1, 0],\n",
       " 'AFC Bournemouth': [1, 1, 0, 1, 0, 1, 1],\n",
       " 'Sheffield United': [1, 1, 0, 1, 0, 1, 1],\n",
       " 'Crystal Palace': [1, 1, 0, 1, 0, 0, 0],\n",
       " 'Everton': [1, 1, 0, 1, 0, 0, 0],\n",
       " 'Leicester': [1, 1, 0, 1, 0, 0, 0],\n",
       " 'Wolves': [1, 1, 0, 1, 0, 0, 0],\n",
       " 'Newcastle': [0, 1, 0, 0, 1, 0, 1],\n",
       " 'Aston Villa': [0, 1, 0, 0, 1, 1, 3],\n",
       " 'Norwich City': [0, 1, 0, 0, 1, 1, 4],\n",
       " 'Southampton': [0, 1, 0, 0, 1, 0, 3],\n",
       " 'Watford': [0, 1, 0, 0, 1, 0, 3],\n",
       " 'Chelsea': [0, 1, 0, 0, 1, 0, 4],\n",
       " 'West Ham': [0, 1, 0, 0, 1, 0, 5]}"
      ]
     },
     "execution_count": 7,
     "metadata": {},
     "output_type": "execute_result"
    }
   ],
   "source": [
    "equipos_info[1]"
   ]
  },
  {
   "cell_type": "code",
   "execution_count": 8,
   "metadata": {},
   "outputs": [
    {
     "data": {
      "text/plain": [
       "[3, 1, 1, 0, 0, 4, 1]"
      ]
     },
     "execution_count": 8,
     "metadata": {},
     "output_type": "execute_result"
    }
   ],
   "source": [
    "liverpool_1"
   ]
  },
  {
   "cell_type": "code",
   "execution_count": 9,
   "metadata": {},
   "outputs": [
    {
     "data": {
      "text/plain": [
       "[6, 2, 2, 0, 0, 6, 2]"
      ]
     },
     "execution_count": 9,
     "metadata": {},
     "output_type": "execute_result"
    }
   ],
   "source": [
    "liverpool_2 = list(equipos_info[2]['Liverpool'])\n",
    "liverpool_2"
   ]
  },
  {
   "cell_type": "code",
   "execution_count": 10,
   "metadata": {},
   "outputs": [],
   "source": [
    "liverpool_3 = list(equipos_info[3]['Liverpool'])"
   ]
  },
  {
   "cell_type": "code",
   "execution_count": 11,
   "metadata": {},
   "outputs": [
    {
     "data": {
      "text/plain": [
       "[9, 3, 3, 0, 0, 9, 3]"
      ]
     },
     "execution_count": 11,
     "metadata": {},
     "output_type": "execute_result"
    }
   ],
   "source": [
    "liverpool_3"
   ]
  },
  {
   "cell_type": "code",
   "execution_count": 12,
   "metadata": {},
   "outputs": [
    {
     "name": "stdout",
     "output_type": "stream",
     "text": [
      "[12, 4, 4, 0, 0, 12, 3]\n"
     ]
    }
   ],
   "source": [
    "liverpool_4 = list(equipos_info[4]['Liverpool'])\n",
    "print(liverpool_4)"
   ]
  },
  {
   "cell_type": "code",
   "execution_count": 13,
   "metadata": {},
   "outputs": [
    {
     "name": "stdout",
     "output_type": "stream",
     "text": [
      "[15, 5, 5, 0, 0, 15, 4]\n"
     ]
    }
   ],
   "source": [
    "liverpool_5 = list(equipos_info[5]['Liverpool'])\n",
    "print(liverpool_5)"
   ]
  },
  {
   "cell_type": "code",
   "execution_count": 14,
   "metadata": {},
   "outputs": [
    {
     "name": "stdout",
     "output_type": "stream",
     "text": [
      "[18, 6, 6, 0, 0, 17, 5]\n"
     ]
    }
   ],
   "source": [
    "liverpool_6 = list(equipos_info[6]['Liverpool'])\n",
    "print(liverpool_6)"
   ]
  },
  {
   "cell_type": "code",
   "execution_count": 15,
   "metadata": {},
   "outputs": [
    {
     "name": "stdout",
     "output_type": "stream",
     "text": [
      "[21, 7, 7, 0, 0, 18, 5]\n"
     ]
    }
   ],
   "source": [
    "liverpool_7 = list(equipos_info[7]['Liverpool'])\n",
    "print(liverpool_7)"
   ]
  },
  {
   "cell_type": "code",
   "execution_count": 16,
   "metadata": {},
   "outputs": [
    {
     "name": "stdout",
     "output_type": "stream",
     "text": [
      "[24, 8, 8, 0, 0, 20, 6]\n"
     ]
    }
   ],
   "source": [
    "liverpool_8 = list(equipos_info[8]['Liverpool'])\n",
    "print(liverpool_8)"
   ]
  },
  {
   "cell_type": "code",
   "execution_count": 17,
   "metadata": {},
   "outputs": [
    {
     "name": "stdout",
     "output_type": "stream",
     "text": [
      "[25, 9, 8, 1, 0, 21, 7]\n"
     ]
    }
   ],
   "source": [
    "liverpool_9 = list(equipos_info[9]['Liverpool'])\n",
    "print(liverpool_9)"
   ]
  },
  {
   "cell_type": "code",
   "execution_count": 18,
   "metadata": {},
   "outputs": [
    {
     "name": "stdout",
     "output_type": "stream",
     "text": [
      "[28, 10, 9, 1, 0, 23, 8]\n"
     ]
    }
   ],
   "source": [
    "liverpool_10 = list(equipos_info[10]['Liverpool'])\n",
    "print(liverpool_10)"
   ]
  },
  {
   "cell_type": "code",
   "execution_count": 19,
   "metadata": {},
   "outputs": [
    {
     "name": "stdout",
     "output_type": "stream",
     "text": [
      "[31, 11, 10, 1, 0, 25, 9]\n"
     ]
    }
   ],
   "source": [
    "liverpool_11 = list(equipos_info[11]['Liverpool'])\n",
    "print(liverpool_11)"
   ]
  },
  {
   "cell_type": "code",
   "execution_count": 20,
   "metadata": {},
   "outputs": [
    {
     "name": "stdout",
     "output_type": "stream",
     "text": [
      "[34, 12, 11, 1, 0, 28, 10]\n"
     ]
    }
   ],
   "source": [
    "liverpool_12 = list(equipos_info[12]['Liverpool'])\n",
    "print(liverpool_12)"
   ]
  },
  {
   "cell_type": "code",
   "execution_count": 21,
   "metadata": {},
   "outputs": [
    {
     "name": "stdout",
     "output_type": "stream",
     "text": [
      "[37, 13, 12, 1, 0, 30, 11]\n"
     ]
    }
   ],
   "source": [
    "liverpool_13 = list(equipos_info[13]['Liverpool'])\n",
    "print(liverpool_13)"
   ]
  },
  {
   "cell_type": "code",
   "execution_count": 22,
   "metadata": {},
   "outputs": [
    {
     "name": "stdout",
     "output_type": "stream",
     "text": [
      "[40, 14, 13, 1, 0, 32, 12]\n"
     ]
    }
   ],
   "source": [
    "liverpool_14 = list(equipos_info[14]['Liverpool'])\n",
    "print(liverpool_14)"
   ]
  },
  {
   "cell_type": "code",
   "execution_count": 23,
   "metadata": {},
   "outputs": [
    {
     "name": "stdout",
     "output_type": "stream",
     "text": [
      "[43, 15, 14, 1, 0, 37, 14]\n"
     ]
    }
   ],
   "source": [
    "liverpool_15 = list(equipos_info[15]['Liverpool'])\n",
    "print(liverpool_15)"
   ]
  },
  {
   "cell_type": "code",
   "execution_count": 24,
   "metadata": {},
   "outputs": [
    {
     "name": "stdout",
     "output_type": "stream",
     "text": [
      "[46, 16, 15, 1, 0, 40, 14]\n"
     ]
    }
   ],
   "source": [
    "liverpool_16 = list(equipos_info[16]['Liverpool'])\n",
    "print(liverpool_16)"
   ]
  },
  {
   "cell_type": "code",
   "execution_count": 25,
   "metadata": {},
   "outputs": [
    {
     "name": "stdout",
     "output_type": "stream",
     "text": [
      "[49, 17, 16, 1, 0, 42, 14]\n"
     ]
    }
   ],
   "source": [
    "liverpool_17 = list(equipos_info[17]['Liverpool'])\n",
    "print(liverpool_17)"
   ]
  },
  {
   "cell_type": "code",
   "execution_count": 26,
   "metadata": {},
   "outputs": [
    {
     "name": "stdout",
     "output_type": "stream",
     "text": [
      "[52, 18, 17, 1, 0, 44, 14]\n"
     ]
    }
   ],
   "source": [
    "liverpool_18 = list(equipos_info[18]['Liverpool'])\n",
    "print(liverpool_18)"
   ]
  },
  {
   "cell_type": "code",
   "execution_count": 27,
   "metadata": {},
   "outputs": [
    {
     "name": "stdout",
     "output_type": "stream",
     "text": [
      "[55, 19, 18, 1, 0, 48, 14]\n"
     ]
    }
   ],
   "source": [
    "liverpool_19 = list(equipos_info[19]['Liverpool'])\n",
    "print(liverpool_19)"
   ]
  },
  {
   "cell_type": "code",
   "execution_count": 28,
   "metadata": {},
   "outputs": [
    {
     "name": "stdout",
     "output_type": "stream",
     "text": [
      "[58, 20, 19, 1, 0, 49, 14]\n"
     ]
    }
   ],
   "source": [
    "liverpool_20 = list(equipos_info[20]['Liverpool'])\n",
    "print(liverpool_20)"
   ]
  },
  {
   "cell_type": "code",
   "execution_count": 29,
   "metadata": {},
   "outputs": [
    {
     "name": "stdout",
     "output_type": "stream",
     "text": [
      "[61, 21, 20, 1, 0, 51, 14]\n"
     ]
    }
   ],
   "source": [
    "liverpool_21 = list(equipos_info[21]['Liverpool'])\n",
    "print(liverpool_21)"
   ]
  },
  {
   "cell_type": "code",
   "execution_count": 30,
   "metadata": {},
   "outputs": [
    {
     "name": "stdout",
     "output_type": "stream",
     "text": [
      "[64, 22, 21, 1, 0, 52, 14]\n"
     ]
    }
   ],
   "source": [
    "liverpool_22 = list(equipos_info[22]['Liverpool'])\n",
    "print(liverpool_22)"
   ]
  },
  {
   "cell_type": "code",
   "execution_count": 31,
   "metadata": {},
   "outputs": [
    {
     "name": "stdout",
     "output_type": "stream",
     "text": [
      "[67, 23, 22, 1, 0, 54, 14]\n"
     ]
    }
   ],
   "source": [
    "liverpool_23 = list(equipos_info[23]['Liverpool'])\n",
    "print(liverpool_23)"
   ]
  },
  {
   "cell_type": "code",
   "execution_count": 32,
   "metadata": {},
   "outputs": [
    {
     "name": "stdout",
     "output_type": "stream",
     "text": [
      "[70, 24, 23, 1, 0, 56, 15]\n"
     ]
    }
   ],
   "source": [
    "liverpool_24 = list(equipos_info[24]['Liverpool'])\n",
    "print(liverpool_24)"
   ]
  },
  {
   "cell_type": "code",
   "execution_count": 33,
   "metadata": {},
   "outputs": [
    {
     "name": "stdout",
     "output_type": "stream",
     "text": [
      "[73, 25, 24, 1, 0, 60, 15]\n"
     ]
    }
   ],
   "source": [
    "liverpool_25 = list(equipos_info[25]['Liverpool'])\n",
    "print(liverpool_25)"
   ]
  },
  {
   "cell_type": "code",
   "execution_count": 34,
   "metadata": {},
   "outputs": [
    {
     "name": "stdout",
     "output_type": "stream",
     "text": [
      "[76, 26, 25, 1, 0, 61, 15]\n"
     ]
    }
   ],
   "source": [
    "liverpool_26 = list(equipos_info[26]['Liverpool'])\n",
    "print(liverpool_26)"
   ]
  },
  {
   "cell_type": "code",
   "execution_count": 35,
   "metadata": {},
   "outputs": [
    {
     "name": "stdout",
     "output_type": "stream",
     "text": [
      "[79, 27, 26, 1, 0, 64, 17]\n"
     ]
    }
   ],
   "source": [
    "liverpool_27 = list(equipos_info[27]['Liverpool'])\n",
    "print(liverpool_27)"
   ]
  },
  {
   "cell_type": "code",
   "execution_count": 36,
   "metadata": {},
   "outputs": [
    {
     "name": "stdout",
     "output_type": "stream",
     "text": [
      "[79, 28, 26, 1, 1, 64, 20]\n"
     ]
    }
   ],
   "source": [
    "liverpool_28 = list(equipos_info[28]['Liverpool'])\n",
    "print(liverpool_28)"
   ]
  },
  {
   "cell_type": "code",
   "execution_count": 37,
   "metadata": {},
   "outputs": [
    {
     "name": "stdout",
     "output_type": "stream",
     "text": [
      "[82, 29, 27, 1, 1, 66, 21]\n"
     ]
    }
   ],
   "source": [
    "liverpool_29 = list(equipos_info[29]['Liverpool'])\n",
    "print(liverpool_29)"
   ]
  },
  {
   "cell_type": "code",
   "execution_count": 38,
   "metadata": {},
   "outputs": [
    {
     "name": "stdout",
     "output_type": "stream",
     "text": [
      "[3, 1, 1, 0, 0, 4, 1] [6, 2, 2, 0, 0, 6, 2] [9, 3, 3, 0, 0, 9, 3]\n"
     ]
    }
   ],
   "source": [
    "print(liverpool_1, liverpool_2, liverpool_3)"
   ]
  },
  {
   "cell_type": "code",
   "execution_count": 39,
   "metadata": {
    "scrolled": true
   },
   "outputs": [
    {
     "ename": "NameError",
     "evalue": "name 'liverpool_data' is not defined",
     "output_type": "error",
     "traceback": [
      "\u001b[0;31m---------------------------------------------------------------------------\u001b[0m",
      "\u001b[0;31mNameError\u001b[0m                                 Traceback (most recent call last)",
      "\u001b[0;32m<ipython-input-39-eda3a5de028c>\u001b[0m in \u001b[0;36m<module>\u001b[0;34m\u001b[0m\n\u001b[1;32m      1\u001b[0m \u001b[0mliv_win\u001b[0m \u001b[0;34m=\u001b[0m \u001b[0;34m[\u001b[0m\u001b[0;34m]\u001b[0m\u001b[0;34m\u001b[0m\u001b[0;34m\u001b[0m\u001b[0m\n\u001b[0;32m----> 2\u001b[0;31m \u001b[0;32mfor\u001b[0m \u001b[0mi\u001b[0m \u001b[0;32min\u001b[0m \u001b[0mrange\u001b[0m\u001b[0;34m(\u001b[0m\u001b[0mlen\u001b[0m\u001b[0;34m(\u001b[0m\u001b[0mliverpool_data\u001b[0m\u001b[0;34m)\u001b[0m\u001b[0;34m)\u001b[0m\u001b[0;34m:\u001b[0m\u001b[0;34m\u001b[0m\u001b[0;34m\u001b[0m\u001b[0m\n\u001b[0m\u001b[1;32m      3\u001b[0m     \u001b[0;32mtry\u001b[0m\u001b[0;34m:\u001b[0m\u001b[0;34m\u001b[0m\u001b[0;34m\u001b[0m\u001b[0m\n\u001b[1;32m      4\u001b[0m         \u001b[0;32mif\u001b[0m \u001b[0mliverpool_data\u001b[0m\u001b[0;34m[\u001b[0m\u001b[0;34m'variable_1'\u001b[0m\u001b[0;34m]\u001b[0m\u001b[0;34m[\u001b[0m\u001b[0mi\u001b[0m\u001b[0;34m-\u001b[0m\u001b[0;36m1\u001b[0m\u001b[0;34m]\u001b[0m \u001b[0;34m==\u001b[0m \u001b[0mliverpool_data\u001b[0m\u001b[0;34m[\u001b[0m\u001b[0;34m'variable_1'\u001b[0m\u001b[0;34m]\u001b[0m\u001b[0;34m[\u001b[0m\u001b[0mi\u001b[0m\u001b[0;34m]\u001b[0m\u001b[0;34m:\u001b[0m\u001b[0;34m\u001b[0m\u001b[0;34m\u001b[0m\u001b[0m\n\u001b[1;32m      5\u001b[0m             \u001b[0mliv_win\u001b[0m\u001b[0;34m.\u001b[0m\u001b[0mappend\u001b[0m\u001b[0;34m(\u001b[0m\u001b[0;34m'0'\u001b[0m\u001b[0;34m)\u001b[0m\u001b[0;34m\u001b[0m\u001b[0;34m\u001b[0m\u001b[0m\n",
      "\u001b[0;31mNameError\u001b[0m: name 'liverpool_data' is not defined"
     ]
    }
   ],
   "source": [
    "liv_win = []\n",
    "for i in range(len(liverpool_data)):\n",
    "    try:\n",
    "        if liverpool_data['variable_1'][i-1] == liverpool_data['variable_1'][i]:\n",
    "            liv_win.append('0') \n",
    "        else:\n",
    "            liv_win.append('1')\n",
    "    except:\n",
    "         pass\n",
    "liverpool_data['y'] = liv_win"
   ]
  },
  {
   "cell_type": "code",
   "execution_count": null,
   "metadata": {},
   "outputs": [],
   "source": [
    "clases = [\"1\"] + [\"2\"] + [\"3\"] + [\"4\"] + [\"5\"] + [\"6\"] + [\"7\"]  + [\"8\"]  + [\"9\"]  + [\"10\"] + [\"11\"] + [\"12\"] + [\"13\"] +[\"14\"] + [\"15\"] + [\"16\"] + [\"17\"] + [\"18\"] + [\"19\"] + [\"20\"] + [\"21\"] + [\"22\"] + [\"23\"] + [\"24\"] + [\"25\"] + [\"26\"] + [\"27\"] + [\"28\"] + [\"29\"]\n",
    "variable_0 = [liverpool_1[0]] + [liverpool_2[0]] + [liverpool_3[0]] + [liverpool_4[0]]+ [liverpool_5[0]] + [liverpool_6[0]] + [liverpool_7[0]] + [liverpool_8[0]] + [liverpool_9[0]] + [liverpool_10[0]] + [liverpool_11[0]] + [liverpool_12[0]] + [liverpool_13[0]] + [liverpool_14[0]] + [liverpool_15[0]] + [liverpool_16[0]] + [liverpool_17[0]] + [liverpool_18[0]] + [liverpool_19[0]] + [liverpool_20[0]] + [liverpool_21[0]] + [liverpool_22[0]] + [liverpool_23[0]] + [liverpool_24[0]] + [liverpool_25[0]] + [liverpool_26[0]] + [liverpool_27[0]] + [liverpool_28[0]] + [liverpool_29[0]]\n",
    "variable_1 = [liverpool_1[2]] + [liverpool_2[2]] + [liverpool_3[2]] + [liverpool_4[2]] + [liverpool_5[2]]+ [liverpool_6[2]] + [liverpool_7[2]] + [liverpool_8[2]] + [liverpool_9[2]] + [liverpool_10[2]] + [liverpool_11[2]] + [liverpool_12[2]] + [liverpool_13[2]] + [liverpool_14[2]] + [liverpool_15[2]] + [liverpool_16[2]] + [liverpool_17[2]] + [liverpool_18[2]] + [liverpool_19[2]] + [liverpool_20[2]] + [liverpool_21[2]] + [liverpool_22[2]] + [liverpool_23[2]] + [liverpool_24[2]] + [liverpool_25[2]]+ [liverpool_26[2]] + [liverpool_27[2]] + [liverpool_28[2]] + [liverpool_29[2]] \n",
    "grr = [grr[0]] + [grr[1]] + [grr[2]] + [grr[3]] + [grr[4]] + [grr[5]] + [grr[6]] + [grr[7]] + [grr[8]] + [grr[9]] + [grr[10]] + [grr[11]] + [grr[12]] + [grr[13]] + [grr[14]] + [grr[15]] + [grr[16]] + [grr[17]] + [grr[18]] + [grr[19]] + [grr[20]] + [grr[21]] + [grr[22]] + [grr[23]] + [grr[24]] + [grr[25]] + [grr[26]] + [grr[27]] + [grr[28]] \n",
    "goles_favor = [liverpool_1[5]] + [liverpool_2[5]] + [liverpool_3[5]] + [liverpool_4[5]] + [liverpool_5[5]] + [liverpool_6[5]] + [liverpool_7[5]] + [liverpool_8[5]] + [liverpool_9[5]] + [liverpool_10[5]] + [liverpool_11[5]] + [liverpool_12[5]] + [liverpool_13[5]] + [liverpool_14[5]] + [liverpool_15[5]] + [liverpool_16[5]] + [liverpool_17[5]] + [liverpool_18[5]] + [liverpool_19[5]] + [liverpool_20[5]] + [liverpool_21[5]] + [liverpool_22[5]] + [liverpool_23[5]] + [liverpool_24[5]] + [liverpool_25[5]] + [liverpool_26[5]] + [liverpool_27[5]] + [liverpool_28[5]] + [liverpool_29[5]]\n",
    "goles_contra = [liverpool_1[6]] + [liverpool_2[6]] + [liverpool_3[6]] + [liverpool_4[6]] + [liverpool_5[6]] + [liverpool_6[6]] + [liverpool_7[6]] + [liverpool_8[6]] + [liverpool_9[6]] + [liverpool_10[6]] + [liverpool_11[6]] + [liverpool_12[6]] + [liverpool_13[6]] + [liverpool_14[6]] + [liverpool_15[6]] + [liverpool_16[6]] + [liverpool_17[6]] + [liverpool_18[6]] + [liverpool_19[6]] + [liverpool_20[6]] + [liverpool_21[6]] + [liverpool_22[6]] + [liverpool_23[6]] + [liverpool_24[6]] + [liverpool_25[6]] + [liverpool_26[6]] + [liverpool_27[6]] + [liverpool_28[6]] + [liverpool_29[6]]\n",
    "goles_for = [goles_favor_data[0]] + [goles_favor_data[1]] + [goles_favor_data[2]]+[goles_favor_data[3]]+[goles_favor_data[4]]+[goles_favor_data[5]]+[goles_favor_data[6]]+[goles_favor_data[7]]+[goles_favor_data[8]]+[goles_favor_data[9]]+[goles_favor_data[10]]+[goles_favor_data[11]]+[goles_favor_data[12]]+[goles_favor_data[13]]+[goles_favor_data[14]]+[goles_favor_data[15]]+[goles_favor_data[16]]+[goles_favor_data[17]]+[goles_favor_data[18]]+[goles_favor_data[19]]+[goles_favor_data[20]]+[goles_favor_data[21]]+[goles_favor_data[22]]+[goles_favor_data[23]]+[goles_favor_data[24]]+[goles_favor_data[25]]+[goles_favor_data[26]]+[goles_favor_data[27]]+[goles_favor_data[28]]\n",
    "goles_against = [goles_contra_data[0]]+[goles_contra_data[1]]+[goles_contra_data[2]]+[goles_contra_data[3]]+[goles_contra_data[4]]+[goles_contra_data[5]]+[goles_contra_data[6]]+[goles_contra_data[7]]+[goles_contra_data[8]]+[goles_contra_data[9]]+[goles_contra_data[10]]+[goles_contra_data[11]]+[goles_contra_data[12]]+[goles_contra_data[13]]+[goles_contra_data[14]]+[goles_contra_data[15]]+[goles_contra_data[16]]+[goles_contra_data[17]]+[goles_contra_data[18]]+[goles_contra_data[19]]+[goles_contra_data[20]]+[goles_contra_data[21]]+[goles_contra_data[22]]+[goles_contra_data[23]]+[goles_contra_data[24]]+[goles_contra_data[25]]+[goles_contra_data[26]]+[goles_contra_data[27]]+[goles_contra_data[28]]\n",
    "dif_goles = [dif[0]]+[dif[1]]+[dif[2]]+[dif[3]]+[dif[4]]+[dif[5]]+[dif[6]]+[dif[7]]+[dif[8]]+[dif[9]]+[dif[10]]+[dif[11]]+[dif[12]]+[dif[13]]+[dif[14]]+[dif[15]]+[dif[16]]+[dif[17]]+[dif[18]]+[dif[19]]+[dif[20]]+[dif[21]]+[dif[22]]+[dif[23]]+[dif[24]]+[dif[25]]+[dif[26]]+[dif[27]]+[dif[28]]\n",
    "liverpool_data = pd.DataFrame({\"Nº_jornadas\": clases, \"Ptos_acum\": variable_0, \"jgos_win\": variable_1, 'Casa/vist': grr, 'Goles_favor':goles_for, 'Goles_contra':goles_against,'Dif_goles':dif_goles})"
   ]
  },
  {
   "cell_type": "code",
   "execution_count": null,
   "metadata": {},
   "outputs": [],
   "source": [
    "liverpool_data"
   ]
  },
  {
   "cell_type": "code",
   "execution_count": 40,
   "metadata": {},
   "outputs": [],
   "source": [
    "grr = ['1','0','1','0','1','0','0','1','0','1','0','1','0','1','1','0','1','0','0','1','1','0','1','0','1','0','1','0','1']"
   ]
  },
  {
   "cell_type": "code",
   "execution_count": 41,
   "metadata": {
    "scrolled": true
   },
   "outputs": [
    {
     "ename": "NameError",
     "evalue": "name 'goles_favor' is not defined",
     "output_type": "error",
     "traceback": [
      "\u001b[0;31m---------------------------------------------------------------------------\u001b[0m",
      "\u001b[0;31mNameError\u001b[0m                                 Traceback (most recent call last)",
      "\u001b[0;32m<ipython-input-41-8c2d93b0639b>\u001b[0m in \u001b[0;36m<module>\u001b[0;34m\u001b[0m\n\u001b[0;32m----> 1\u001b[0;31m \u001b[0mgoles_favor_data\u001b[0m \u001b[0;34m=\u001b[0m \u001b[0;34m[\u001b[0m\u001b[0mgoles_favor\u001b[0m\u001b[0;34m[\u001b[0m\u001b[0;36m0\u001b[0m\u001b[0;34m]\u001b[0m\u001b[0;34m,\u001b[0m\u001b[0mgoles_favor\u001b[0m\u001b[0;34m[\u001b[0m\u001b[0;36m1\u001b[0m\u001b[0;34m]\u001b[0m\u001b[0;34m-\u001b[0m\u001b[0mgoles_favor\u001b[0m\u001b[0;34m[\u001b[0m\u001b[0;36m0\u001b[0m\u001b[0;34m]\u001b[0m\u001b[0;34m,\u001b[0m\u001b[0mgoles_favor\u001b[0m\u001b[0;34m[\u001b[0m\u001b[0;36m2\u001b[0m\u001b[0;34m]\u001b[0m\u001b[0;34m-\u001b[0m\u001b[0mgoles_favor\u001b[0m\u001b[0;34m[\u001b[0m\u001b[0;36m1\u001b[0m\u001b[0;34m]\u001b[0m\u001b[0;34m,\u001b[0m\u001b[0mgoles_favor\u001b[0m\u001b[0;34m[\u001b[0m\u001b[0;36m3\u001b[0m\u001b[0;34m]\u001b[0m\u001b[0;34m-\u001b[0m\u001b[0mgoles_favor\u001b[0m\u001b[0;34m[\u001b[0m\u001b[0;36m2\u001b[0m\u001b[0;34m]\u001b[0m\u001b[0;34m,\u001b[0m \u001b[0mgoles_favor\u001b[0m\u001b[0;34m[\u001b[0m\u001b[0;36m4\u001b[0m\u001b[0;34m]\u001b[0m\u001b[0;34m-\u001b[0m\u001b[0mgoles_favor\u001b[0m\u001b[0;34m[\u001b[0m\u001b[0;36m3\u001b[0m\u001b[0;34m]\u001b[0m\u001b[0;34m,\u001b[0m\u001b[0mgoles_favor\u001b[0m\u001b[0;34m[\u001b[0m\u001b[0;36m5\u001b[0m\u001b[0;34m]\u001b[0m\u001b[0;34m-\u001b[0m\u001b[0mgoles_favor\u001b[0m\u001b[0;34m[\u001b[0m\u001b[0;36m4\u001b[0m\u001b[0;34m]\u001b[0m\u001b[0;34m,\u001b[0m\u001b[0mgoles_favor\u001b[0m\u001b[0;34m[\u001b[0m\u001b[0;36m6\u001b[0m\u001b[0;34m]\u001b[0m\u001b[0;34m-\u001b[0m\u001b[0mgoles_favor\u001b[0m\u001b[0;34m[\u001b[0m\u001b[0;36m5\u001b[0m\u001b[0;34m]\u001b[0m\u001b[0;34m,\u001b[0m\u001b[0mgoles_favor\u001b[0m\u001b[0;34m[\u001b[0m\u001b[0;36m7\u001b[0m\u001b[0;34m]\u001b[0m\u001b[0;34m-\u001b[0m\u001b[0mgoles_favor\u001b[0m\u001b[0;34m[\u001b[0m\u001b[0;36m6\u001b[0m\u001b[0;34m]\u001b[0m\u001b[0;34m,\u001b[0m\u001b[0mgoles_favor\u001b[0m\u001b[0;34m[\u001b[0m\u001b[0;36m8\u001b[0m\u001b[0;34m]\u001b[0m\u001b[0;34m-\u001b[0m\u001b[0mgoles_favor\u001b[0m\u001b[0;34m[\u001b[0m\u001b[0;36m7\u001b[0m\u001b[0;34m]\u001b[0m\u001b[0;34m,\u001b[0m\u001b[0mgoles_favor\u001b[0m\u001b[0;34m[\u001b[0m\u001b[0;36m9\u001b[0m\u001b[0;34m]\u001b[0m\u001b[0;34m-\u001b[0m\u001b[0mgoles_favor\u001b[0m\u001b[0;34m[\u001b[0m\u001b[0;36m8\u001b[0m\u001b[0;34m]\u001b[0m\u001b[0;34m,\u001b[0m\u001b[0mgoles_favor\u001b[0m\u001b[0;34m[\u001b[0m\u001b[0;36m10\u001b[0m\u001b[0;34m]\u001b[0m\u001b[0;34m-\u001b[0m\u001b[0mgoles_favor\u001b[0m\u001b[0;34m[\u001b[0m\u001b[0;36m9\u001b[0m\u001b[0;34m]\u001b[0m\u001b[0;34m,\u001b[0m\u001b[0mgoles_favor\u001b[0m\u001b[0;34m[\u001b[0m\u001b[0;36m11\u001b[0m\u001b[0;34m]\u001b[0m\u001b[0;34m-\u001b[0m\u001b[0mgoles_favor\u001b[0m\u001b[0;34m[\u001b[0m\u001b[0;36m10\u001b[0m\u001b[0;34m]\u001b[0m\u001b[0;34m,\u001b[0m\u001b[0mgoles_favor\u001b[0m\u001b[0;34m[\u001b[0m\u001b[0;36m12\u001b[0m\u001b[0;34m]\u001b[0m\u001b[0;34m-\u001b[0m\u001b[0mgoles_favor\u001b[0m\u001b[0;34m[\u001b[0m\u001b[0;36m11\u001b[0m\u001b[0;34m]\u001b[0m\u001b[0;34m,\u001b[0m\u001b[0mgoles_favor\u001b[0m\u001b[0;34m[\u001b[0m\u001b[0;36m13\u001b[0m\u001b[0;34m]\u001b[0m\u001b[0;34m-\u001b[0m\u001b[0mgoles_favor\u001b[0m\u001b[0;34m[\u001b[0m\u001b[0;36m12\u001b[0m\u001b[0;34m]\u001b[0m\u001b[0;34m,\u001b[0m\u001b[0mgoles_favor\u001b[0m\u001b[0;34m[\u001b[0m\u001b[0;36m14\u001b[0m\u001b[0;34m]\u001b[0m\u001b[0;34m-\u001b[0m\u001b[0mgoles_favor\u001b[0m\u001b[0;34m[\u001b[0m\u001b[0;36m13\u001b[0m\u001b[0;34m]\u001b[0m\u001b[0;34m,\u001b[0m\u001b[0mgoles_favor\u001b[0m\u001b[0;34m[\u001b[0m\u001b[0;36m15\u001b[0m\u001b[0;34m]\u001b[0m\u001b[0;34m-\u001b[0m\u001b[0mgoles_favor\u001b[0m\u001b[0;34m[\u001b[0m\u001b[0;36m14\u001b[0m\u001b[0;34m]\u001b[0m\u001b[0;34m,\u001b[0m\u001b[0mgoles_favor\u001b[0m\u001b[0;34m[\u001b[0m\u001b[0;36m16\u001b[0m\u001b[0;34m]\u001b[0m\u001b[0;34m-\u001b[0m\u001b[0mgoles_favor\u001b[0m\u001b[0;34m[\u001b[0m\u001b[0;36m15\u001b[0m\u001b[0;34m]\u001b[0m\u001b[0;34m,\u001b[0m\u001b[0mgoles_favor\u001b[0m\u001b[0;34m[\u001b[0m\u001b[0;36m17\u001b[0m\u001b[0;34m]\u001b[0m\u001b[0;34m-\u001b[0m\u001b[0mgoles_favor\u001b[0m\u001b[0;34m[\u001b[0m\u001b[0;36m16\u001b[0m\u001b[0;34m]\u001b[0m\u001b[0;34m,\u001b[0m\u001b[0mgoles_favor\u001b[0m\u001b[0;34m[\u001b[0m\u001b[0;36m18\u001b[0m\u001b[0;34m]\u001b[0m\u001b[0;34m-\u001b[0m\u001b[0mgoles_favor\u001b[0m\u001b[0;34m[\u001b[0m\u001b[0;36m17\u001b[0m\u001b[0;34m]\u001b[0m\u001b[0;34m,\u001b[0m\u001b[0mgoles_favor\u001b[0m\u001b[0;34m[\u001b[0m\u001b[0;36m19\u001b[0m\u001b[0;34m]\u001b[0m\u001b[0;34m-\u001b[0m\u001b[0mgoles_favor\u001b[0m\u001b[0;34m[\u001b[0m\u001b[0;36m18\u001b[0m\u001b[0;34m]\u001b[0m\u001b[0;34m,\u001b[0m\u001b[0mgoles_favor\u001b[0m\u001b[0;34m[\u001b[0m\u001b[0;36m20\u001b[0m\u001b[0;34m]\u001b[0m\u001b[0;34m-\u001b[0m\u001b[0mgoles_favor\u001b[0m\u001b[0;34m[\u001b[0m\u001b[0;36m19\u001b[0m\u001b[0;34m]\u001b[0m\u001b[0;34m,\u001b[0m\u001b[0mgoles_favor\u001b[0m\u001b[0;34m[\u001b[0m\u001b[0;36m21\u001b[0m\u001b[0;34m]\u001b[0m\u001b[0;34m-\u001b[0m\u001b[0mgoles_favor\u001b[0m\u001b[0;34m[\u001b[0m\u001b[0;36m20\u001b[0m\u001b[0;34m]\u001b[0m\u001b[0;34m,\u001b[0m\u001b[0mgoles_favor\u001b[0m\u001b[0;34m[\u001b[0m\u001b[0;36m22\u001b[0m\u001b[0;34m]\u001b[0m\u001b[0;34m-\u001b[0m\u001b[0mgoles_favor\u001b[0m\u001b[0;34m[\u001b[0m\u001b[0;36m21\u001b[0m\u001b[0;34m]\u001b[0m\u001b[0;34m,\u001b[0m\u001b[0mgoles_favor\u001b[0m\u001b[0;34m[\u001b[0m\u001b[0;36m23\u001b[0m\u001b[0;34m]\u001b[0m\u001b[0;34m-\u001b[0m\u001b[0mgoles_favor\u001b[0m\u001b[0;34m[\u001b[0m\u001b[0;36m22\u001b[0m\u001b[0;34m]\u001b[0m\u001b[0;34m,\u001b[0m\u001b[0mgoles_favor\u001b[0m\u001b[0;34m[\u001b[0m\u001b[0;36m24\u001b[0m\u001b[0;34m]\u001b[0m\u001b[0;34m-\u001b[0m\u001b[0mgoles_favor\u001b[0m\u001b[0;34m[\u001b[0m\u001b[0;36m23\u001b[0m\u001b[0;34m]\u001b[0m\u001b[0;34m,\u001b[0m\u001b[0mgoles_favor\u001b[0m\u001b[0;34m[\u001b[0m\u001b[0;36m25\u001b[0m\u001b[0;34m]\u001b[0m\u001b[0;34m-\u001b[0m\u001b[0mgoles_favor\u001b[0m\u001b[0;34m[\u001b[0m\u001b[0;36m24\u001b[0m\u001b[0;34m]\u001b[0m\u001b[0;34m,\u001b[0m\u001b[0mgoles_favor\u001b[0m\u001b[0;34m[\u001b[0m\u001b[0;36m26\u001b[0m\u001b[0;34m]\u001b[0m\u001b[0;34m-\u001b[0m\u001b[0mgoles_favor\u001b[0m\u001b[0;34m[\u001b[0m\u001b[0;36m25\u001b[0m\u001b[0;34m]\u001b[0m\u001b[0;34m,\u001b[0m\u001b[0mgoles_favor\u001b[0m\u001b[0;34m[\u001b[0m\u001b[0;36m27\u001b[0m\u001b[0;34m]\u001b[0m\u001b[0;34m-\u001b[0m\u001b[0mgoles_favor\u001b[0m\u001b[0;34m[\u001b[0m\u001b[0;36m26\u001b[0m\u001b[0;34m]\u001b[0m\u001b[0;34m,\u001b[0m\u001b[0mgoles_favor\u001b[0m\u001b[0;34m[\u001b[0m\u001b[0;36m28\u001b[0m\u001b[0;34m]\u001b[0m\u001b[0;34m-\u001b[0m\u001b[0mgoles_favor\u001b[0m\u001b[0;34m[\u001b[0m\u001b[0;36m27\u001b[0m\u001b[0;34m]\u001b[0m\u001b[0;34m]\u001b[0m\u001b[0;34m\u001b[0m\u001b[0;34m\u001b[0m\u001b[0m\n\u001b[0m",
      "\u001b[0;31mNameError\u001b[0m: name 'goles_favor' is not defined"
     ]
    }
   ],
   "source": [
    "goles_favor_data = [goles_favor[0],goles_favor[1]-goles_favor[0],goles_favor[2]-goles_favor[1],goles_favor[3]-goles_favor[2], goles_favor[4]-goles_favor[3],goles_favor[5]-goles_favor[4],goles_favor[6]-goles_favor[5],goles_favor[7]-goles_favor[6],goles_favor[8]-goles_favor[7],goles_favor[9]-goles_favor[8],goles_favor[10]-goles_favor[9],goles_favor[11]-goles_favor[10],goles_favor[12]-goles_favor[11],goles_favor[13]-goles_favor[12],goles_favor[14]-goles_favor[13],goles_favor[15]-goles_favor[14],goles_favor[16]-goles_favor[15],goles_favor[17]-goles_favor[16],goles_favor[18]-goles_favor[17],goles_favor[19]-goles_favor[18],goles_favor[20]-goles_favor[19],goles_favor[21]-goles_favor[20],goles_favor[22]-goles_favor[21],goles_favor[23]-goles_favor[22],goles_favor[24]-goles_favor[23],goles_favor[25]-goles_favor[24],goles_favor[26]-goles_favor[25],goles_favor[27]-goles_favor[26],goles_favor[28]-goles_favor[27]]"
   ]
  },
  {
   "cell_type": "code",
   "execution_count": 42,
   "metadata": {},
   "outputs": [
    {
     "ename": "NameError",
     "evalue": "name 'goles_contra' is not defined",
     "output_type": "error",
     "traceback": [
      "\u001b[0;31m---------------------------------------------------------------------------\u001b[0m",
      "\u001b[0;31mNameError\u001b[0m                                 Traceback (most recent call last)",
      "\u001b[0;32m<ipython-input-42-467f5671dca1>\u001b[0m in \u001b[0;36m<module>\u001b[0;34m\u001b[0m\n\u001b[0;32m----> 1\u001b[0;31m \u001b[0mgoles_contra_data\u001b[0m \u001b[0;34m=\u001b[0m \u001b[0;34m[\u001b[0m\u001b[0mgoles_contra\u001b[0m\u001b[0;34m[\u001b[0m\u001b[0;36m0\u001b[0m\u001b[0;34m]\u001b[0m\u001b[0;34m,\u001b[0m\u001b[0mgoles_contra\u001b[0m\u001b[0;34m[\u001b[0m\u001b[0;36m1\u001b[0m\u001b[0;34m]\u001b[0m\u001b[0;34m-\u001b[0m\u001b[0mgoles_contra\u001b[0m\u001b[0;34m[\u001b[0m\u001b[0;36m0\u001b[0m\u001b[0;34m]\u001b[0m\u001b[0;34m,\u001b[0m\u001b[0mgoles_contra\u001b[0m\u001b[0;34m[\u001b[0m\u001b[0;36m2\u001b[0m\u001b[0;34m]\u001b[0m\u001b[0;34m-\u001b[0m\u001b[0mgoles_contra\u001b[0m\u001b[0;34m[\u001b[0m\u001b[0;36m1\u001b[0m\u001b[0;34m]\u001b[0m\u001b[0;34m,\u001b[0m\u001b[0mgoles_contra\u001b[0m\u001b[0;34m[\u001b[0m\u001b[0;36m3\u001b[0m\u001b[0;34m]\u001b[0m\u001b[0;34m-\u001b[0m\u001b[0mgoles_contra\u001b[0m\u001b[0;34m[\u001b[0m\u001b[0;36m2\u001b[0m\u001b[0;34m]\u001b[0m\u001b[0;34m,\u001b[0m\u001b[0mgoles_contra\u001b[0m\u001b[0;34m[\u001b[0m\u001b[0;36m4\u001b[0m\u001b[0;34m]\u001b[0m\u001b[0;34m-\u001b[0m\u001b[0mgoles_contra\u001b[0m\u001b[0;34m[\u001b[0m\u001b[0;36m3\u001b[0m\u001b[0;34m]\u001b[0m\u001b[0;34m,\u001b[0m\u001b[0mgoles_contra\u001b[0m\u001b[0;34m[\u001b[0m\u001b[0;36m5\u001b[0m\u001b[0;34m]\u001b[0m\u001b[0;34m-\u001b[0m\u001b[0mgoles_contra\u001b[0m\u001b[0;34m[\u001b[0m\u001b[0;36m4\u001b[0m\u001b[0;34m]\u001b[0m\u001b[0;34m,\u001b[0m\u001b[0mgoles_contra\u001b[0m\u001b[0;34m[\u001b[0m\u001b[0;36m6\u001b[0m\u001b[0;34m]\u001b[0m\u001b[0;34m-\u001b[0m\u001b[0mgoles_contra\u001b[0m\u001b[0;34m[\u001b[0m\u001b[0;36m5\u001b[0m\u001b[0;34m]\u001b[0m\u001b[0;34m,\u001b[0m\u001b[0mgoles_contra\u001b[0m\u001b[0;34m[\u001b[0m\u001b[0;36m7\u001b[0m\u001b[0;34m]\u001b[0m\u001b[0;34m-\u001b[0m\u001b[0mgoles_contra\u001b[0m\u001b[0;34m[\u001b[0m\u001b[0;36m6\u001b[0m\u001b[0;34m]\u001b[0m\u001b[0;34m,\u001b[0m\u001b[0mgoles_contra\u001b[0m\u001b[0;34m[\u001b[0m\u001b[0;36m8\u001b[0m\u001b[0;34m]\u001b[0m\u001b[0;34m-\u001b[0m\u001b[0mgoles_contra\u001b[0m\u001b[0;34m[\u001b[0m\u001b[0;36m7\u001b[0m\u001b[0;34m]\u001b[0m\u001b[0;34m,\u001b[0m\u001b[0mgoles_contra\u001b[0m\u001b[0;34m[\u001b[0m\u001b[0;36m9\u001b[0m\u001b[0;34m]\u001b[0m\u001b[0;34m-\u001b[0m\u001b[0mgoles_contra\u001b[0m\u001b[0;34m[\u001b[0m\u001b[0;36m8\u001b[0m\u001b[0;34m]\u001b[0m\u001b[0;34m,\u001b[0m\u001b[0mgoles_contra\u001b[0m\u001b[0;34m[\u001b[0m\u001b[0;36m10\u001b[0m\u001b[0;34m]\u001b[0m\u001b[0;34m-\u001b[0m\u001b[0mgoles_contra\u001b[0m\u001b[0;34m[\u001b[0m\u001b[0;36m9\u001b[0m\u001b[0;34m]\u001b[0m\u001b[0;34m,\u001b[0m\u001b[0mgoles_contra\u001b[0m\u001b[0;34m[\u001b[0m\u001b[0;36m11\u001b[0m\u001b[0;34m]\u001b[0m\u001b[0;34m-\u001b[0m\u001b[0mgoles_contra\u001b[0m\u001b[0;34m[\u001b[0m\u001b[0;36m10\u001b[0m\u001b[0;34m]\u001b[0m\u001b[0;34m,\u001b[0m\u001b[0mgoles_contra\u001b[0m\u001b[0;34m[\u001b[0m\u001b[0;36m12\u001b[0m\u001b[0;34m]\u001b[0m\u001b[0;34m-\u001b[0m\u001b[0mgoles_contra\u001b[0m\u001b[0;34m[\u001b[0m\u001b[0;36m11\u001b[0m\u001b[0;34m]\u001b[0m\u001b[0;34m,\u001b[0m\u001b[0mgoles_contra\u001b[0m\u001b[0;34m[\u001b[0m\u001b[0;36m13\u001b[0m\u001b[0;34m]\u001b[0m\u001b[0;34m-\u001b[0m\u001b[0mgoles_contra\u001b[0m\u001b[0;34m[\u001b[0m\u001b[0;36m12\u001b[0m\u001b[0;34m]\u001b[0m\u001b[0;34m,\u001b[0m\u001b[0mgoles_contra\u001b[0m\u001b[0;34m[\u001b[0m\u001b[0;36m14\u001b[0m\u001b[0;34m]\u001b[0m\u001b[0;34m-\u001b[0m\u001b[0mgoles_contra\u001b[0m\u001b[0;34m[\u001b[0m\u001b[0;36m13\u001b[0m\u001b[0;34m]\u001b[0m\u001b[0;34m,\u001b[0m\u001b[0mgoles_contra\u001b[0m\u001b[0;34m[\u001b[0m\u001b[0;36m15\u001b[0m\u001b[0;34m]\u001b[0m\u001b[0;34m-\u001b[0m\u001b[0mgoles_contra\u001b[0m\u001b[0;34m[\u001b[0m\u001b[0;36m14\u001b[0m\u001b[0;34m]\u001b[0m\u001b[0;34m,\u001b[0m\u001b[0mgoles_contra\u001b[0m\u001b[0;34m[\u001b[0m\u001b[0;36m16\u001b[0m\u001b[0;34m]\u001b[0m\u001b[0;34m-\u001b[0m\u001b[0mgoles_contra\u001b[0m\u001b[0;34m[\u001b[0m\u001b[0;36m15\u001b[0m\u001b[0;34m]\u001b[0m\u001b[0;34m,\u001b[0m\u001b[0mgoles_contra\u001b[0m\u001b[0;34m[\u001b[0m\u001b[0;36m17\u001b[0m\u001b[0;34m]\u001b[0m\u001b[0;34m-\u001b[0m\u001b[0mgoles_contra\u001b[0m\u001b[0;34m[\u001b[0m\u001b[0;36m16\u001b[0m\u001b[0;34m]\u001b[0m\u001b[0;34m,\u001b[0m\u001b[0mgoles_contra\u001b[0m\u001b[0;34m[\u001b[0m\u001b[0;36m18\u001b[0m\u001b[0;34m]\u001b[0m\u001b[0;34m-\u001b[0m\u001b[0mgoles_contra\u001b[0m\u001b[0;34m[\u001b[0m\u001b[0;36m17\u001b[0m\u001b[0;34m]\u001b[0m\u001b[0;34m,\u001b[0m\u001b[0mgoles_contra\u001b[0m\u001b[0;34m[\u001b[0m\u001b[0;36m19\u001b[0m\u001b[0;34m]\u001b[0m\u001b[0;34m-\u001b[0m\u001b[0mgoles_contra\u001b[0m\u001b[0;34m[\u001b[0m\u001b[0;36m18\u001b[0m\u001b[0;34m]\u001b[0m\u001b[0;34m,\u001b[0m\u001b[0mgoles_contra\u001b[0m\u001b[0;34m[\u001b[0m\u001b[0;36m20\u001b[0m\u001b[0;34m]\u001b[0m\u001b[0;34m-\u001b[0m\u001b[0mgoles_contra\u001b[0m\u001b[0;34m[\u001b[0m\u001b[0;36m19\u001b[0m\u001b[0;34m]\u001b[0m\u001b[0;34m,\u001b[0m\u001b[0mgoles_contra\u001b[0m\u001b[0;34m[\u001b[0m\u001b[0;36m21\u001b[0m\u001b[0;34m]\u001b[0m\u001b[0;34m-\u001b[0m\u001b[0mgoles_contra\u001b[0m\u001b[0;34m[\u001b[0m\u001b[0;36m20\u001b[0m\u001b[0;34m]\u001b[0m\u001b[0;34m,\u001b[0m\u001b[0mgoles_contra\u001b[0m\u001b[0;34m[\u001b[0m\u001b[0;36m22\u001b[0m\u001b[0;34m]\u001b[0m\u001b[0;34m-\u001b[0m\u001b[0mgoles_contra\u001b[0m\u001b[0;34m[\u001b[0m\u001b[0;36m21\u001b[0m\u001b[0;34m]\u001b[0m\u001b[0;34m,\u001b[0m\u001b[0mgoles_contra\u001b[0m\u001b[0;34m[\u001b[0m\u001b[0;36m23\u001b[0m\u001b[0;34m]\u001b[0m\u001b[0;34m-\u001b[0m\u001b[0mgoles_contra\u001b[0m\u001b[0;34m[\u001b[0m\u001b[0;36m22\u001b[0m\u001b[0;34m]\u001b[0m\u001b[0;34m,\u001b[0m\u001b[0mgoles_contra\u001b[0m\u001b[0;34m[\u001b[0m\u001b[0;36m24\u001b[0m\u001b[0;34m]\u001b[0m\u001b[0;34m-\u001b[0m\u001b[0mgoles_contra\u001b[0m\u001b[0;34m[\u001b[0m\u001b[0;36m23\u001b[0m\u001b[0;34m]\u001b[0m\u001b[0;34m,\u001b[0m\u001b[0mgoles_contra\u001b[0m\u001b[0;34m[\u001b[0m\u001b[0;36m25\u001b[0m\u001b[0;34m]\u001b[0m\u001b[0;34m-\u001b[0m\u001b[0mgoles_contra\u001b[0m\u001b[0;34m[\u001b[0m\u001b[0;36m24\u001b[0m\u001b[0;34m]\u001b[0m\u001b[0;34m,\u001b[0m\u001b[0mgoles_contra\u001b[0m\u001b[0;34m[\u001b[0m\u001b[0;36m26\u001b[0m\u001b[0;34m]\u001b[0m\u001b[0;34m-\u001b[0m\u001b[0mgoles_contra\u001b[0m\u001b[0;34m[\u001b[0m\u001b[0;36m25\u001b[0m\u001b[0;34m]\u001b[0m\u001b[0;34m,\u001b[0m\u001b[0mgoles_contra\u001b[0m\u001b[0;34m[\u001b[0m\u001b[0;36m27\u001b[0m\u001b[0;34m]\u001b[0m\u001b[0;34m-\u001b[0m\u001b[0mgoles_contra\u001b[0m\u001b[0;34m[\u001b[0m\u001b[0;36m26\u001b[0m\u001b[0;34m]\u001b[0m\u001b[0;34m,\u001b[0m\u001b[0mgoles_contra\u001b[0m\u001b[0;34m[\u001b[0m\u001b[0;36m28\u001b[0m\u001b[0;34m]\u001b[0m\u001b[0;34m-\u001b[0m\u001b[0mgoles_contra\u001b[0m\u001b[0;34m[\u001b[0m\u001b[0;36m27\u001b[0m\u001b[0;34m]\u001b[0m\u001b[0;34m]\u001b[0m\u001b[0;34m\u001b[0m\u001b[0;34m\u001b[0m\u001b[0m\n\u001b[0m",
      "\u001b[0;31mNameError\u001b[0m: name 'goles_contra' is not defined"
     ]
    }
   ],
   "source": [
    "goles_contra_data = [goles_contra[0],goles_contra[1]-goles_contra[0],goles_contra[2]-goles_contra[1],goles_contra[3]-goles_contra[2],goles_contra[4]-goles_contra[3],goles_contra[5]-goles_contra[4],goles_contra[6]-goles_contra[5],goles_contra[7]-goles_contra[6],goles_contra[8]-goles_contra[7],goles_contra[9]-goles_contra[8],goles_contra[10]-goles_contra[9],goles_contra[11]-goles_contra[10],goles_contra[12]-goles_contra[11],goles_contra[13]-goles_contra[12],goles_contra[14]-goles_contra[13],goles_contra[15]-goles_contra[14],goles_contra[16]-goles_contra[15],goles_contra[17]-goles_contra[16],goles_contra[18]-goles_contra[17],goles_contra[19]-goles_contra[18],goles_contra[20]-goles_contra[19],goles_contra[21]-goles_contra[20],goles_contra[22]-goles_contra[21],goles_contra[23]-goles_contra[22],goles_contra[24]-goles_contra[23],goles_contra[25]-goles_contra[24],goles_contra[26]-goles_contra[25],goles_contra[27]-goles_contra[26],goles_contra[28]-goles_contra[27]]"
   ]
  },
  {
   "cell_type": "code",
   "execution_count": 43,
   "metadata": {
    "scrolled": true
   },
   "outputs": [
    {
     "ename": "NameError",
     "evalue": "name 'goles_for' is not defined",
     "output_type": "error",
     "traceback": [
      "\u001b[0;31m---------------------------------------------------------------------------\u001b[0m",
      "\u001b[0;31mNameError\u001b[0m                                 Traceback (most recent call last)",
      "\u001b[0;32m<ipython-input-43-6478e8c35022>\u001b[0m in \u001b[0;36m<module>\u001b[0;34m\u001b[0m\n\u001b[0;32m----> 1\u001b[0;31m \u001b[0mdif\u001b[0m \u001b[0;34m=\u001b[0m \u001b[0;34m[\u001b[0m\u001b[0mx1\u001b[0m \u001b[0;34m-\u001b[0m \u001b[0mx2\u001b[0m \u001b[0;32mfor\u001b[0m \u001b[0;34m(\u001b[0m\u001b[0mx1\u001b[0m\u001b[0;34m,\u001b[0m \u001b[0mx2\u001b[0m\u001b[0;34m)\u001b[0m \u001b[0;32min\u001b[0m \u001b[0mzip\u001b[0m\u001b[0;34m(\u001b[0m\u001b[0mgoles_for\u001b[0m\u001b[0;34m,\u001b[0m\u001b[0mgoles_against\u001b[0m\u001b[0;34m)\u001b[0m\u001b[0;34m]\u001b[0m\u001b[0;34m\u001b[0m\u001b[0;34m\u001b[0m\u001b[0m\n\u001b[0m",
      "\u001b[0;31mNameError\u001b[0m: name 'goles_for' is not defined"
     ]
    }
   ],
   "source": [
    "dif = [x1 - x2 for (x1, x2) in zip(goles_for,goles_against)] "
   ]
  },
  {
   "cell_type": "code",
   "execution_count": 79,
   "metadata": {},
   "outputs": [],
   "source": [
    "chelsea = list(equipos_info[1]['Chelsea'])"
   ]
  },
  {
   "cell_type": "code",
   "execution_count": 149,
   "metadata": {},
   "outputs": [],
   "source": [
    "chelsea_data = []\n",
    "for i in range(len(equipos_info)):\n",
    "    try:\n",
    "        chelsea_data.append(equipos_info[i]['Chelsea'])\n",
    "    except:\n",
    "        pass\n",
    "chelsea_data.append(equipos_info[29]['Chelsea']) "
   ]
  },
  {
   "cell_type": "code",
   "execution_count": 150,
   "metadata": {},
   "outputs": [
    {
     "data": {
      "text/plain": [
       "[[0, 1, 0, 0, 1, 0, 4],\n",
       " [1, 2, 0, 1, 1, 1, 5],\n",
       " [4, 3, 1, 1, 1, 4, 7],\n",
       " [5, 4, 1, 2, 1, 6, 9],\n",
       " [8, 5, 2, 2, 1, 11, 11],\n",
       " [8, 6, 2, 2, 2, 12, 13],\n",
       " [11, 7, 3, 2, 2, 14, 13],\n",
       " [14, 8, 4, 2, 2, 18, 14],\n",
       " [17, 9, 5, 2, 2, 19, 14],\n",
       " [20, 10, 6, 2, 2, 23, 16],\n",
       " [23, 11, 7, 2, 2, 25, 17],\n",
       " [26, 12, 8, 2, 2, 27, 17],\n",
       " [26, 13, 8, 2, 3, 28, 19],\n",
       " [26, 14, 8, 2, 4, 28, 20],\n",
       " [29, 15, 9, 2, 4, 30, 21],\n",
       " [29, 16, 9, 2, 5, 31, 24],\n",
       " [29, 17, 9, 2, 6, 31, 25],\n",
       " [32, 18, 10, 2, 6, 33, 25],\n",
       " [32, 19, 10, 2, 7, 33, 27],\n",
       " [35, 20, 11, 2, 7, 35, 28],\n",
       " [36, 21, 11, 3, 7, 36, 29],\n",
       " [39, 22, 12, 3, 7, 39, 29],\n",
       " [39, 23, 12, 3, 8, 39, 30],\n",
       " [40, 24, 12, 4, 8, 41, 32],\n",
       " [41, 25, 12, 5, 8, 43, 34],\n",
       " [41, 26, 12, 5, 9, 43, 36],\n",
       " [44, 27, 13, 5, 9, 45, 37],\n",
       " [45, 28, 13, 6, 9, 47, 39],\n",
       " [48, 29, 14, 6, 9, 51, 39]]"
      ]
     },
     "execution_count": 150,
     "metadata": {},
     "output_type": "execute_result"
    }
   ],
   "source": [
    "chelsea_data"
   ]
  },
  {
   "cell_type": "code",
   "execution_count": 172,
   "metadata": {},
   "outputs": [
    {
     "name": "stdout",
     "output_type": "stream",
     "text": [
      "[0, 1, 4, 5, 8, 8, 11, 14, 17, 20, 23, 26, 26, 26, 29, 29, 29, 32, 32, 35, 36, 39, 39, 40, 41, 41, 44, 45, 48]\n",
      "[0, 0, 1, 1, 2, 2, 3, 4, 5, 6, 7, 8, 8, 8, 9, 9, 9, 10, 10, 11, 11, 12, 12, 12, 12, 12, 13, 13, 14]\n",
      "[0, 1, 4, 6, 11, 12, 14, 18, 19, 23, 25, 27, 28, 28, 30, 31, 31, 33, 33, 35, 36, 39, 39, 41, 43, 43, 45, 47, 51]\n",
      "[1, 2, 3, 4, 5, 6, 7, 8, 9, 10, 11, 12, 13, 14, 15, 16, 17, 18, 19, 20, 21, 22, 23, 24, 25, 26, 27, 28, 29]\n",
      "[4, 5, 7, 9, 11, 13, 13, 14, 14, 16, 17, 17, 19, 20, 21, 24, 25, 25, 27, 28, 29, 29, 30, 32, 34, 36, 37, 39, 39]\n"
     ]
    }
   ],
   "source": [
    "chelsea_puntos = []\n",
    "for i in range(len(chelsea_data)):\n",
    "    try:\n",
    "        chelsea_puntos.append(chelsea_data[i][0])\n",
    "    except:\n",
    "        pass\n",
    "print(chelsea_puntos)\n",
    "\n",
    "chelsea_ganados = []\n",
    "for i in range(len(chelsea_data)):\n",
    "    try:\n",
    "        chelsea_ganados.append(chelsea_data[i][2])\n",
    "    except:\n",
    "        pass\n",
    "print(chelsea_ganados)\n",
    "\n",
    "chelsea_goles_favor = []\n",
    "for i in range(len(chelsea_data)):\n",
    "    try:\n",
    "        chelsea_goles_favor.append(chelsea_data[i][5])\n",
    "    except:\n",
    "        pass\n",
    "print(chelsea_goles_favor)\n",
    "\n",
    "chelsea_jornadas = []\n",
    "for i in range(len(chelsea_data)):\n",
    "    try:\n",
    "        chelsea_jornadas.append(chelsea_data[i][1])\n",
    "    except:\n",
    "        pass\n",
    "print(chelsea_jornadas)\n",
    "\n",
    "chelsea_goles_contra = []\n",
    "for i in range(len(chelsea_data)):\n",
    "    try:\n",
    "        chelsea_goles_contra.append(chelsea_data[i][6])\n",
    "    except:\n",
    "        pass\n",
    "print(chelsea_goles_contra)\n"
   ]
  },
  {
   "cell_type": "code",
   "execution_count": 209,
   "metadata": {},
   "outputs": [
    {
     "name": "stdout",
     "output_type": "stream",
     "text": [
      "[1, 0, 1, 0, 1, 0, 1, 1, 1, 1, 1, 1, 0, 0, 1, 0, 0, 1, 0, 1, 0, 1, 0, 0, 0, 0, 1, 0, 1]\n"
     ]
    }
   ],
   "source": [
    "chelsea_y = []\n",
    "for i in range(len(chelsea_ganados)):\n",
    "    try:\n",
    "        if chelsea_ganados[i] == chelsea_ganados[i-1]:\n",
    "            chelsea_y.append(0) \n",
    "        else:\n",
    "            chelsea_y.append(1)\n",
    "    except:\n",
    "        chelsea_y.append(0)\n",
    "        \n",
    "print(chelsea_y)"
   ]
  },
  {
   "cell_type": "code",
   "execution_count": 210,
   "metadata": {},
   "outputs": [
    {
     "data": {
      "text/html": [
       "<div>\n",
       "<style scoped>\n",
       "    .dataframe tbody tr th:only-of-type {\n",
       "        vertical-align: middle;\n",
       "    }\n",
       "\n",
       "    .dataframe tbody tr th {\n",
       "        vertical-align: top;\n",
       "    }\n",
       "\n",
       "    .dataframe thead th {\n",
       "        text-align: right;\n",
       "    }\n",
       "</style>\n",
       "<table border=\"1\" class=\"dataframe\">\n",
       "  <thead>\n",
       "    <tr style=\"text-align: right;\">\n",
       "      <th></th>\n",
       "      <th>ganados</th>\n",
       "      <th>y</th>\n",
       "    </tr>\n",
       "  </thead>\n",
       "  <tbody>\n",
       "    <tr>\n",
       "      <th>0</th>\n",
       "      <td>0</td>\n",
       "      <td>1</td>\n",
       "    </tr>\n",
       "    <tr>\n",
       "      <th>1</th>\n",
       "      <td>0</td>\n",
       "      <td>0</td>\n",
       "    </tr>\n",
       "    <tr>\n",
       "      <th>2</th>\n",
       "      <td>1</td>\n",
       "      <td>1</td>\n",
       "    </tr>\n",
       "    <tr>\n",
       "      <th>3</th>\n",
       "      <td>1</td>\n",
       "      <td>0</td>\n",
       "    </tr>\n",
       "    <tr>\n",
       "      <th>4</th>\n",
       "      <td>2</td>\n",
       "      <td>1</td>\n",
       "    </tr>\n",
       "    <tr>\n",
       "      <th>5</th>\n",
       "      <td>2</td>\n",
       "      <td>0</td>\n",
       "    </tr>\n",
       "    <tr>\n",
       "      <th>6</th>\n",
       "      <td>3</td>\n",
       "      <td>1</td>\n",
       "    </tr>\n",
       "    <tr>\n",
       "      <th>7</th>\n",
       "      <td>4</td>\n",
       "      <td>1</td>\n",
       "    </tr>\n",
       "    <tr>\n",
       "      <th>8</th>\n",
       "      <td>5</td>\n",
       "      <td>1</td>\n",
       "    </tr>\n",
       "    <tr>\n",
       "      <th>9</th>\n",
       "      <td>6</td>\n",
       "      <td>1</td>\n",
       "    </tr>\n",
       "    <tr>\n",
       "      <th>10</th>\n",
       "      <td>7</td>\n",
       "      <td>1</td>\n",
       "    </tr>\n",
       "    <tr>\n",
       "      <th>11</th>\n",
       "      <td>8</td>\n",
       "      <td>1</td>\n",
       "    </tr>\n",
       "    <tr>\n",
       "      <th>12</th>\n",
       "      <td>8</td>\n",
       "      <td>0</td>\n",
       "    </tr>\n",
       "    <tr>\n",
       "      <th>13</th>\n",
       "      <td>8</td>\n",
       "      <td>0</td>\n",
       "    </tr>\n",
       "    <tr>\n",
       "      <th>14</th>\n",
       "      <td>9</td>\n",
       "      <td>1</td>\n",
       "    </tr>\n",
       "    <tr>\n",
       "      <th>15</th>\n",
       "      <td>9</td>\n",
       "      <td>0</td>\n",
       "    </tr>\n",
       "    <tr>\n",
       "      <th>16</th>\n",
       "      <td>9</td>\n",
       "      <td>0</td>\n",
       "    </tr>\n",
       "    <tr>\n",
       "      <th>17</th>\n",
       "      <td>10</td>\n",
       "      <td>1</td>\n",
       "    </tr>\n",
       "    <tr>\n",
       "      <th>18</th>\n",
       "      <td>10</td>\n",
       "      <td>0</td>\n",
       "    </tr>\n",
       "    <tr>\n",
       "      <th>19</th>\n",
       "      <td>11</td>\n",
       "      <td>1</td>\n",
       "    </tr>\n",
       "    <tr>\n",
       "      <th>20</th>\n",
       "      <td>11</td>\n",
       "      <td>0</td>\n",
       "    </tr>\n",
       "    <tr>\n",
       "      <th>21</th>\n",
       "      <td>12</td>\n",
       "      <td>1</td>\n",
       "    </tr>\n",
       "    <tr>\n",
       "      <th>22</th>\n",
       "      <td>12</td>\n",
       "      <td>0</td>\n",
       "    </tr>\n",
       "    <tr>\n",
       "      <th>23</th>\n",
       "      <td>12</td>\n",
       "      <td>0</td>\n",
       "    </tr>\n",
       "    <tr>\n",
       "      <th>24</th>\n",
       "      <td>12</td>\n",
       "      <td>0</td>\n",
       "    </tr>\n",
       "    <tr>\n",
       "      <th>25</th>\n",
       "      <td>12</td>\n",
       "      <td>0</td>\n",
       "    </tr>\n",
       "    <tr>\n",
       "      <th>26</th>\n",
       "      <td>13</td>\n",
       "      <td>1</td>\n",
       "    </tr>\n",
       "    <tr>\n",
       "      <th>27</th>\n",
       "      <td>13</td>\n",
       "      <td>0</td>\n",
       "    </tr>\n",
       "    <tr>\n",
       "      <th>28</th>\n",
       "      <td>14</td>\n",
       "      <td>1</td>\n",
       "    </tr>\n",
       "  </tbody>\n",
       "</table>\n",
       "</div>"
      ],
      "text/plain": [
       "    ganados  y\n",
       "0         0  1\n",
       "1         0  0\n",
       "2         1  1\n",
       "3         1  0\n",
       "4         2  1\n",
       "5         2  0\n",
       "6         3  1\n",
       "7         4  1\n",
       "8         5  1\n",
       "9         6  1\n",
       "10        7  1\n",
       "11        8  1\n",
       "12        8  0\n",
       "13        8  0\n",
       "14        9  1\n",
       "15        9  0\n",
       "16        9  0\n",
       "17       10  1\n",
       "18       10  0\n",
       "19       11  1\n",
       "20       11  0\n",
       "21       12  1\n",
       "22       12  0\n",
       "23       12  0\n",
       "24       12  0\n",
       "25       12  0\n",
       "26       13  1\n",
       "27       13  0\n",
       "28       14  1"
      ]
     },
     "execution_count": 210,
     "metadata": {},
     "output_type": "execute_result"
    }
   ],
   "source": [
    "ejemplo = pd.DataFrame({'ganados':chelsea_ganados,'y': chelsea_y})\n",
    "ejemplo"
   ]
  },
  {
   "cell_type": "code",
   "execution_count": 211,
   "metadata": {},
   "outputs": [],
   "source": [
    "jornadas_chelsea = chelsea_jornadas\n",
    "chelsea_puntos = chelsea_puntos\n",
    "chelsea_y = chelsea_y\n",
    "chelsea_ganados = chelsea_ganados \n",
    "chelsea_goles_favor = chelsea_goles_favor \n",
    "chelsea_goles_contra = chelsea_goles_contra\n",
    "chelsea_df = pd.DataFrame({'jornadas': jornadas_chelsea,'ptos': chelsea_puntos,'y' : chelsea_y, 'ganados': chelsea_ganados, 'goles_favor': chelsea_goles_favor, 'goles_contra': chelsea_goles_contra})"
   ]
  },
  {
   "cell_type": "code",
   "execution_count": 212,
   "metadata": {},
   "outputs": [
    {
     "data": {
      "text/html": [
       "<div>\n",
       "<style scoped>\n",
       "    .dataframe tbody tr th:only-of-type {\n",
       "        vertical-align: middle;\n",
       "    }\n",
       "\n",
       "    .dataframe tbody tr th {\n",
       "        vertical-align: top;\n",
       "    }\n",
       "\n",
       "    .dataframe thead th {\n",
       "        text-align: right;\n",
       "    }\n",
       "</style>\n",
       "<table border=\"1\" class=\"dataframe\">\n",
       "  <thead>\n",
       "    <tr style=\"text-align: right;\">\n",
       "      <th></th>\n",
       "      <th>jornadas</th>\n",
       "      <th>ptos</th>\n",
       "      <th>y</th>\n",
       "      <th>ganados</th>\n",
       "      <th>goles_favor</th>\n",
       "      <th>goles_contra</th>\n",
       "    </tr>\n",
       "  </thead>\n",
       "  <tbody>\n",
       "    <tr>\n",
       "      <th>0</th>\n",
       "      <td>1</td>\n",
       "      <td>0</td>\n",
       "      <td>1</td>\n",
       "      <td>0</td>\n",
       "      <td>0</td>\n",
       "      <td>4</td>\n",
       "    </tr>\n",
       "    <tr>\n",
       "      <th>1</th>\n",
       "      <td>2</td>\n",
       "      <td>1</td>\n",
       "      <td>0</td>\n",
       "      <td>0</td>\n",
       "      <td>1</td>\n",
       "      <td>5</td>\n",
       "    </tr>\n",
       "    <tr>\n",
       "      <th>2</th>\n",
       "      <td>3</td>\n",
       "      <td>4</td>\n",
       "      <td>1</td>\n",
       "      <td>1</td>\n",
       "      <td>4</td>\n",
       "      <td>7</td>\n",
       "    </tr>\n",
       "    <tr>\n",
       "      <th>3</th>\n",
       "      <td>4</td>\n",
       "      <td>5</td>\n",
       "      <td>0</td>\n",
       "      <td>1</td>\n",
       "      <td>6</td>\n",
       "      <td>9</td>\n",
       "    </tr>\n",
       "    <tr>\n",
       "      <th>4</th>\n",
       "      <td>5</td>\n",
       "      <td>8</td>\n",
       "      <td>1</td>\n",
       "      <td>2</td>\n",
       "      <td>11</td>\n",
       "      <td>11</td>\n",
       "    </tr>\n",
       "    <tr>\n",
       "      <th>5</th>\n",
       "      <td>6</td>\n",
       "      <td>8</td>\n",
       "      <td>0</td>\n",
       "      <td>2</td>\n",
       "      <td>12</td>\n",
       "      <td>13</td>\n",
       "    </tr>\n",
       "    <tr>\n",
       "      <th>6</th>\n",
       "      <td>7</td>\n",
       "      <td>11</td>\n",
       "      <td>1</td>\n",
       "      <td>3</td>\n",
       "      <td>14</td>\n",
       "      <td>13</td>\n",
       "    </tr>\n",
       "    <tr>\n",
       "      <th>7</th>\n",
       "      <td>8</td>\n",
       "      <td>14</td>\n",
       "      <td>1</td>\n",
       "      <td>4</td>\n",
       "      <td>18</td>\n",
       "      <td>14</td>\n",
       "    </tr>\n",
       "    <tr>\n",
       "      <th>8</th>\n",
       "      <td>9</td>\n",
       "      <td>17</td>\n",
       "      <td>1</td>\n",
       "      <td>5</td>\n",
       "      <td>19</td>\n",
       "      <td>14</td>\n",
       "    </tr>\n",
       "    <tr>\n",
       "      <th>9</th>\n",
       "      <td>10</td>\n",
       "      <td>20</td>\n",
       "      <td>1</td>\n",
       "      <td>6</td>\n",
       "      <td>23</td>\n",
       "      <td>16</td>\n",
       "    </tr>\n",
       "    <tr>\n",
       "      <th>10</th>\n",
       "      <td>11</td>\n",
       "      <td>23</td>\n",
       "      <td>1</td>\n",
       "      <td>7</td>\n",
       "      <td>25</td>\n",
       "      <td>17</td>\n",
       "    </tr>\n",
       "    <tr>\n",
       "      <th>11</th>\n",
       "      <td>12</td>\n",
       "      <td>26</td>\n",
       "      <td>1</td>\n",
       "      <td>8</td>\n",
       "      <td>27</td>\n",
       "      <td>17</td>\n",
       "    </tr>\n",
       "    <tr>\n",
       "      <th>12</th>\n",
       "      <td>13</td>\n",
       "      <td>26</td>\n",
       "      <td>0</td>\n",
       "      <td>8</td>\n",
       "      <td>28</td>\n",
       "      <td>19</td>\n",
       "    </tr>\n",
       "    <tr>\n",
       "      <th>13</th>\n",
       "      <td>14</td>\n",
       "      <td>26</td>\n",
       "      <td>0</td>\n",
       "      <td>8</td>\n",
       "      <td>28</td>\n",
       "      <td>20</td>\n",
       "    </tr>\n",
       "    <tr>\n",
       "      <th>14</th>\n",
       "      <td>15</td>\n",
       "      <td>29</td>\n",
       "      <td>1</td>\n",
       "      <td>9</td>\n",
       "      <td>30</td>\n",
       "      <td>21</td>\n",
       "    </tr>\n",
       "    <tr>\n",
       "      <th>15</th>\n",
       "      <td>16</td>\n",
       "      <td>29</td>\n",
       "      <td>0</td>\n",
       "      <td>9</td>\n",
       "      <td>31</td>\n",
       "      <td>24</td>\n",
       "    </tr>\n",
       "    <tr>\n",
       "      <th>16</th>\n",
       "      <td>17</td>\n",
       "      <td>29</td>\n",
       "      <td>0</td>\n",
       "      <td>9</td>\n",
       "      <td>31</td>\n",
       "      <td>25</td>\n",
       "    </tr>\n",
       "    <tr>\n",
       "      <th>17</th>\n",
       "      <td>18</td>\n",
       "      <td>32</td>\n",
       "      <td>1</td>\n",
       "      <td>10</td>\n",
       "      <td>33</td>\n",
       "      <td>25</td>\n",
       "    </tr>\n",
       "    <tr>\n",
       "      <th>18</th>\n",
       "      <td>19</td>\n",
       "      <td>32</td>\n",
       "      <td>0</td>\n",
       "      <td>10</td>\n",
       "      <td>33</td>\n",
       "      <td>27</td>\n",
       "    </tr>\n",
       "    <tr>\n",
       "      <th>19</th>\n",
       "      <td>20</td>\n",
       "      <td>35</td>\n",
       "      <td>1</td>\n",
       "      <td>11</td>\n",
       "      <td>35</td>\n",
       "      <td>28</td>\n",
       "    </tr>\n",
       "    <tr>\n",
       "      <th>20</th>\n",
       "      <td>21</td>\n",
       "      <td>36</td>\n",
       "      <td>0</td>\n",
       "      <td>11</td>\n",
       "      <td>36</td>\n",
       "      <td>29</td>\n",
       "    </tr>\n",
       "    <tr>\n",
       "      <th>21</th>\n",
       "      <td>22</td>\n",
       "      <td>39</td>\n",
       "      <td>1</td>\n",
       "      <td>12</td>\n",
       "      <td>39</td>\n",
       "      <td>29</td>\n",
       "    </tr>\n",
       "    <tr>\n",
       "      <th>22</th>\n",
       "      <td>23</td>\n",
       "      <td>39</td>\n",
       "      <td>0</td>\n",
       "      <td>12</td>\n",
       "      <td>39</td>\n",
       "      <td>30</td>\n",
       "    </tr>\n",
       "    <tr>\n",
       "      <th>23</th>\n",
       "      <td>24</td>\n",
       "      <td>40</td>\n",
       "      <td>0</td>\n",
       "      <td>12</td>\n",
       "      <td>41</td>\n",
       "      <td>32</td>\n",
       "    </tr>\n",
       "    <tr>\n",
       "      <th>24</th>\n",
       "      <td>25</td>\n",
       "      <td>41</td>\n",
       "      <td>0</td>\n",
       "      <td>12</td>\n",
       "      <td>43</td>\n",
       "      <td>34</td>\n",
       "    </tr>\n",
       "    <tr>\n",
       "      <th>25</th>\n",
       "      <td>26</td>\n",
       "      <td>41</td>\n",
       "      <td>0</td>\n",
       "      <td>12</td>\n",
       "      <td>43</td>\n",
       "      <td>36</td>\n",
       "    </tr>\n",
       "    <tr>\n",
       "      <th>26</th>\n",
       "      <td>27</td>\n",
       "      <td>44</td>\n",
       "      <td>1</td>\n",
       "      <td>13</td>\n",
       "      <td>45</td>\n",
       "      <td>37</td>\n",
       "    </tr>\n",
       "    <tr>\n",
       "      <th>27</th>\n",
       "      <td>28</td>\n",
       "      <td>45</td>\n",
       "      <td>0</td>\n",
       "      <td>13</td>\n",
       "      <td>47</td>\n",
       "      <td>39</td>\n",
       "    </tr>\n",
       "    <tr>\n",
       "      <th>28</th>\n",
       "      <td>29</td>\n",
       "      <td>48</td>\n",
       "      <td>1</td>\n",
       "      <td>14</td>\n",
       "      <td>51</td>\n",
       "      <td>39</td>\n",
       "    </tr>\n",
       "  </tbody>\n",
       "</table>\n",
       "</div>"
      ],
      "text/plain": [
       "    jornadas  ptos  y  ganados  goles_favor  goles_contra\n",
       "0          1     0  1        0            0             4\n",
       "1          2     1  0        0            1             5\n",
       "2          3     4  1        1            4             7\n",
       "3          4     5  0        1            6             9\n",
       "4          5     8  1        2           11            11\n",
       "5          6     8  0        2           12            13\n",
       "6          7    11  1        3           14            13\n",
       "7          8    14  1        4           18            14\n",
       "8          9    17  1        5           19            14\n",
       "9         10    20  1        6           23            16\n",
       "10        11    23  1        7           25            17\n",
       "11        12    26  1        8           27            17\n",
       "12        13    26  0        8           28            19\n",
       "13        14    26  0        8           28            20\n",
       "14        15    29  1        9           30            21\n",
       "15        16    29  0        9           31            24\n",
       "16        17    29  0        9           31            25\n",
       "17        18    32  1       10           33            25\n",
       "18        19    32  0       10           33            27\n",
       "19        20    35  1       11           35            28\n",
       "20        21    36  0       11           36            29\n",
       "21        22    39  1       12           39            29\n",
       "22        23    39  0       12           39            30\n",
       "23        24    40  0       12           41            32\n",
       "24        25    41  0       12           43            34\n",
       "25        26    41  0       12           43            36\n",
       "26        27    44  1       13           45            37\n",
       "27        28    45  0       13           47            39\n",
       "28        29    48  1       14           51            39"
      ]
     },
     "execution_count": 212,
     "metadata": {},
     "output_type": "execute_result"
    }
   ],
   "source": [
    "chelsea_df"
   ]
  },
  {
   "cell_type": "code",
   "execution_count": 213,
   "metadata": {},
   "outputs": [],
   "source": [
    "from pandas import ExcelWriter\n",
    "from pandas import ExcelFile"
   ]
  },
  {
   "cell_type": "code",
   "execution_count": 214,
   "metadata": {},
   "outputs": [],
   "source": [
    "chelsea_df.to_excel(r'/Users/josetovar/Desktop/Python docs/proyecto final econometría.xlsx', index = False)"
   ]
  },
  {
   "cell_type": "code",
   "execution_count": 220,
   "metadata": {},
   "outputs": [],
   "source": [
    "chelsea_df=pd.read_excel(r\"/Users/josetovar/Desktop/Python docs/proyecto final econometría.xlsx\")"
   ]
  },
  {
   "cell_type": "code",
   "execution_count": 221,
   "metadata": {},
   "outputs": [
    {
     "data": {
      "text/html": [
       "<div>\n",
       "<style scoped>\n",
       "    .dataframe tbody tr th:only-of-type {\n",
       "        vertical-align: middle;\n",
       "    }\n",
       "\n",
       "    .dataframe tbody tr th {\n",
       "        vertical-align: top;\n",
       "    }\n",
       "\n",
       "    .dataframe thead th {\n",
       "        text-align: right;\n",
       "    }\n",
       "</style>\n",
       "<table border=\"1\" class=\"dataframe\">\n",
       "  <thead>\n",
       "    <tr style=\"text-align: right;\">\n",
       "      <th></th>\n",
       "      <th>jornadas</th>\n",
       "      <th>ptos</th>\n",
       "      <th>y</th>\n",
       "      <th>ganados</th>\n",
       "      <th>goles_favor</th>\n",
       "      <th>goles_contra</th>\n",
       "      <th>for</th>\n",
       "      <th>against</th>\n",
       "      <th>dif</th>\n",
       "      <th>y_chelsea</th>\n",
       "    </tr>\n",
       "  </thead>\n",
       "  <tbody>\n",
       "    <tr>\n",
       "      <th>0</th>\n",
       "      <td>1</td>\n",
       "      <td>0</td>\n",
       "      <td>0</td>\n",
       "      <td>0</td>\n",
       "      <td>0</td>\n",
       "      <td>4</td>\n",
       "      <td>0</td>\n",
       "      <td>4</td>\n",
       "      <td>-4</td>\n",
       "      <td>0</td>\n",
       "    </tr>\n",
       "    <tr>\n",
       "      <th>1</th>\n",
       "      <td>2</td>\n",
       "      <td>1</td>\n",
       "      <td>0</td>\n",
       "      <td>0</td>\n",
       "      <td>1</td>\n",
       "      <td>5</td>\n",
       "      <td>1</td>\n",
       "      <td>1</td>\n",
       "      <td>0</td>\n",
       "      <td>0</td>\n",
       "    </tr>\n",
       "    <tr>\n",
       "      <th>2</th>\n",
       "      <td>3</td>\n",
       "      <td>4</td>\n",
       "      <td>1</td>\n",
       "      <td>1</td>\n",
       "      <td>4</td>\n",
       "      <td>7</td>\n",
       "      <td>3</td>\n",
       "      <td>2</td>\n",
       "      <td>1</td>\n",
       "      <td>1</td>\n",
       "    </tr>\n",
       "    <tr>\n",
       "      <th>3</th>\n",
       "      <td>4</td>\n",
       "      <td>5</td>\n",
       "      <td>0</td>\n",
       "      <td>1</td>\n",
       "      <td>6</td>\n",
       "      <td>9</td>\n",
       "      <td>2</td>\n",
       "      <td>2</td>\n",
       "      <td>0</td>\n",
       "      <td>0</td>\n",
       "    </tr>\n",
       "    <tr>\n",
       "      <th>4</th>\n",
       "      <td>5</td>\n",
       "      <td>8</td>\n",
       "      <td>1</td>\n",
       "      <td>2</td>\n",
       "      <td>11</td>\n",
       "      <td>11</td>\n",
       "      <td>5</td>\n",
       "      <td>2</td>\n",
       "      <td>3</td>\n",
       "      <td>1</td>\n",
       "    </tr>\n",
       "    <tr>\n",
       "      <th>5</th>\n",
       "      <td>6</td>\n",
       "      <td>8</td>\n",
       "      <td>0</td>\n",
       "      <td>2</td>\n",
       "      <td>12</td>\n",
       "      <td>13</td>\n",
       "      <td>1</td>\n",
       "      <td>2</td>\n",
       "      <td>-1</td>\n",
       "      <td>0</td>\n",
       "    </tr>\n",
       "    <tr>\n",
       "      <th>6</th>\n",
       "      <td>7</td>\n",
       "      <td>11</td>\n",
       "      <td>1</td>\n",
       "      <td>3</td>\n",
       "      <td>14</td>\n",
       "      <td>13</td>\n",
       "      <td>2</td>\n",
       "      <td>0</td>\n",
       "      <td>2</td>\n",
       "      <td>1</td>\n",
       "    </tr>\n",
       "    <tr>\n",
       "      <th>7</th>\n",
       "      <td>8</td>\n",
       "      <td>14</td>\n",
       "      <td>1</td>\n",
       "      <td>4</td>\n",
       "      <td>18</td>\n",
       "      <td>14</td>\n",
       "      <td>4</td>\n",
       "      <td>1</td>\n",
       "      <td>3</td>\n",
       "      <td>1</td>\n",
       "    </tr>\n",
       "    <tr>\n",
       "      <th>8</th>\n",
       "      <td>9</td>\n",
       "      <td>17</td>\n",
       "      <td>1</td>\n",
       "      <td>5</td>\n",
       "      <td>19</td>\n",
       "      <td>14</td>\n",
       "      <td>1</td>\n",
       "      <td>0</td>\n",
       "      <td>1</td>\n",
       "      <td>1</td>\n",
       "    </tr>\n",
       "    <tr>\n",
       "      <th>9</th>\n",
       "      <td>10</td>\n",
       "      <td>20</td>\n",
       "      <td>1</td>\n",
       "      <td>6</td>\n",
       "      <td>23</td>\n",
       "      <td>16</td>\n",
       "      <td>4</td>\n",
       "      <td>2</td>\n",
       "      <td>2</td>\n",
       "      <td>1</td>\n",
       "    </tr>\n",
       "    <tr>\n",
       "      <th>10</th>\n",
       "      <td>11</td>\n",
       "      <td>23</td>\n",
       "      <td>1</td>\n",
       "      <td>7</td>\n",
       "      <td>25</td>\n",
       "      <td>17</td>\n",
       "      <td>2</td>\n",
       "      <td>1</td>\n",
       "      <td>1</td>\n",
       "      <td>1</td>\n",
       "    </tr>\n",
       "    <tr>\n",
       "      <th>11</th>\n",
       "      <td>12</td>\n",
       "      <td>26</td>\n",
       "      <td>1</td>\n",
       "      <td>8</td>\n",
       "      <td>27</td>\n",
       "      <td>17</td>\n",
       "      <td>2</td>\n",
       "      <td>0</td>\n",
       "      <td>2</td>\n",
       "      <td>1</td>\n",
       "    </tr>\n",
       "    <tr>\n",
       "      <th>12</th>\n",
       "      <td>13</td>\n",
       "      <td>26</td>\n",
       "      <td>0</td>\n",
       "      <td>8</td>\n",
       "      <td>28</td>\n",
       "      <td>19</td>\n",
       "      <td>1</td>\n",
       "      <td>2</td>\n",
       "      <td>-1</td>\n",
       "      <td>0</td>\n",
       "    </tr>\n",
       "    <tr>\n",
       "      <th>13</th>\n",
       "      <td>14</td>\n",
       "      <td>26</td>\n",
       "      <td>0</td>\n",
       "      <td>8</td>\n",
       "      <td>28</td>\n",
       "      <td>20</td>\n",
       "      <td>0</td>\n",
       "      <td>1</td>\n",
       "      <td>-1</td>\n",
       "      <td>0</td>\n",
       "    </tr>\n",
       "    <tr>\n",
       "      <th>14</th>\n",
       "      <td>15</td>\n",
       "      <td>29</td>\n",
       "      <td>1</td>\n",
       "      <td>9</td>\n",
       "      <td>30</td>\n",
       "      <td>21</td>\n",
       "      <td>2</td>\n",
       "      <td>1</td>\n",
       "      <td>1</td>\n",
       "      <td>1</td>\n",
       "    </tr>\n",
       "    <tr>\n",
       "      <th>15</th>\n",
       "      <td>16</td>\n",
       "      <td>29</td>\n",
       "      <td>0</td>\n",
       "      <td>9</td>\n",
       "      <td>31</td>\n",
       "      <td>24</td>\n",
       "      <td>1</td>\n",
       "      <td>3</td>\n",
       "      <td>-2</td>\n",
       "      <td>0</td>\n",
       "    </tr>\n",
       "    <tr>\n",
       "      <th>16</th>\n",
       "      <td>17</td>\n",
       "      <td>29</td>\n",
       "      <td>0</td>\n",
       "      <td>9</td>\n",
       "      <td>31</td>\n",
       "      <td>25</td>\n",
       "      <td>0</td>\n",
       "      <td>1</td>\n",
       "      <td>-1</td>\n",
       "      <td>0</td>\n",
       "    </tr>\n",
       "    <tr>\n",
       "      <th>17</th>\n",
       "      <td>18</td>\n",
       "      <td>32</td>\n",
       "      <td>1</td>\n",
       "      <td>10</td>\n",
       "      <td>33</td>\n",
       "      <td>25</td>\n",
       "      <td>2</td>\n",
       "      <td>0</td>\n",
       "      <td>2</td>\n",
       "      <td>1</td>\n",
       "    </tr>\n",
       "    <tr>\n",
       "      <th>18</th>\n",
       "      <td>19</td>\n",
       "      <td>32</td>\n",
       "      <td>0</td>\n",
       "      <td>10</td>\n",
       "      <td>33</td>\n",
       "      <td>27</td>\n",
       "      <td>0</td>\n",
       "      <td>2</td>\n",
       "      <td>-2</td>\n",
       "      <td>0</td>\n",
       "    </tr>\n",
       "    <tr>\n",
       "      <th>19</th>\n",
       "      <td>20</td>\n",
       "      <td>35</td>\n",
       "      <td>1</td>\n",
       "      <td>11</td>\n",
       "      <td>35</td>\n",
       "      <td>28</td>\n",
       "      <td>2</td>\n",
       "      <td>1</td>\n",
       "      <td>1</td>\n",
       "      <td>1</td>\n",
       "    </tr>\n",
       "    <tr>\n",
       "      <th>20</th>\n",
       "      <td>21</td>\n",
       "      <td>36</td>\n",
       "      <td>0</td>\n",
       "      <td>11</td>\n",
       "      <td>36</td>\n",
       "      <td>29</td>\n",
       "      <td>1</td>\n",
       "      <td>1</td>\n",
       "      <td>0</td>\n",
       "      <td>0</td>\n",
       "    </tr>\n",
       "    <tr>\n",
       "      <th>21</th>\n",
       "      <td>22</td>\n",
       "      <td>39</td>\n",
       "      <td>1</td>\n",
       "      <td>12</td>\n",
       "      <td>39</td>\n",
       "      <td>29</td>\n",
       "      <td>3</td>\n",
       "      <td>0</td>\n",
       "      <td>3</td>\n",
       "      <td>1</td>\n",
       "    </tr>\n",
       "    <tr>\n",
       "      <th>22</th>\n",
       "      <td>23</td>\n",
       "      <td>39</td>\n",
       "      <td>0</td>\n",
       "      <td>12</td>\n",
       "      <td>39</td>\n",
       "      <td>30</td>\n",
       "      <td>0</td>\n",
       "      <td>1</td>\n",
       "      <td>-1</td>\n",
       "      <td>0</td>\n",
       "    </tr>\n",
       "    <tr>\n",
       "      <th>23</th>\n",
       "      <td>24</td>\n",
       "      <td>40</td>\n",
       "      <td>0</td>\n",
       "      <td>12</td>\n",
       "      <td>41</td>\n",
       "      <td>32</td>\n",
       "      <td>2</td>\n",
       "      <td>2</td>\n",
       "      <td>0</td>\n",
       "      <td>0</td>\n",
       "    </tr>\n",
       "    <tr>\n",
       "      <th>24</th>\n",
       "      <td>25</td>\n",
       "      <td>41</td>\n",
       "      <td>0</td>\n",
       "      <td>12</td>\n",
       "      <td>43</td>\n",
       "      <td>34</td>\n",
       "      <td>2</td>\n",
       "      <td>2</td>\n",
       "      <td>0</td>\n",
       "      <td>0</td>\n",
       "    </tr>\n",
       "    <tr>\n",
       "      <th>25</th>\n",
       "      <td>26</td>\n",
       "      <td>41</td>\n",
       "      <td>0</td>\n",
       "      <td>12</td>\n",
       "      <td>43</td>\n",
       "      <td>36</td>\n",
       "      <td>0</td>\n",
       "      <td>2</td>\n",
       "      <td>-2</td>\n",
       "      <td>0</td>\n",
       "    </tr>\n",
       "    <tr>\n",
       "      <th>26</th>\n",
       "      <td>27</td>\n",
       "      <td>44</td>\n",
       "      <td>1</td>\n",
       "      <td>13</td>\n",
       "      <td>45</td>\n",
       "      <td>37</td>\n",
       "      <td>2</td>\n",
       "      <td>1</td>\n",
       "      <td>1</td>\n",
       "      <td>1</td>\n",
       "    </tr>\n",
       "    <tr>\n",
       "      <th>27</th>\n",
       "      <td>28</td>\n",
       "      <td>45</td>\n",
       "      <td>0</td>\n",
       "      <td>13</td>\n",
       "      <td>47</td>\n",
       "      <td>39</td>\n",
       "      <td>2</td>\n",
       "      <td>2</td>\n",
       "      <td>0</td>\n",
       "      <td>0</td>\n",
       "    </tr>\n",
       "    <tr>\n",
       "      <th>28</th>\n",
       "      <td>29</td>\n",
       "      <td>48</td>\n",
       "      <td>1</td>\n",
       "      <td>14</td>\n",
       "      <td>51</td>\n",
       "      <td>39</td>\n",
       "      <td>4</td>\n",
       "      <td>0</td>\n",
       "      <td>4</td>\n",
       "      <td>1</td>\n",
       "    </tr>\n",
       "  </tbody>\n",
       "</table>\n",
       "</div>"
      ],
      "text/plain": [
       "    jornadas  ptos  y  ganados  goles_favor  goles_contra  for  against  dif  \\\n",
       "0          1     0  0        0            0             4    0        4   -4   \n",
       "1          2     1  0        0            1             5    1        1    0   \n",
       "2          3     4  1        1            4             7    3        2    1   \n",
       "3          4     5  0        1            6             9    2        2    0   \n",
       "4          5     8  1        2           11            11    5        2    3   \n",
       "5          6     8  0        2           12            13    1        2   -1   \n",
       "6          7    11  1        3           14            13    2        0    2   \n",
       "7          8    14  1        4           18            14    4        1    3   \n",
       "8          9    17  1        5           19            14    1        0    1   \n",
       "9         10    20  1        6           23            16    4        2    2   \n",
       "10        11    23  1        7           25            17    2        1    1   \n",
       "11        12    26  1        8           27            17    2        0    2   \n",
       "12        13    26  0        8           28            19    1        2   -1   \n",
       "13        14    26  0        8           28            20    0        1   -1   \n",
       "14        15    29  1        9           30            21    2        1    1   \n",
       "15        16    29  0        9           31            24    1        3   -2   \n",
       "16        17    29  0        9           31            25    0        1   -1   \n",
       "17        18    32  1       10           33            25    2        0    2   \n",
       "18        19    32  0       10           33            27    0        2   -2   \n",
       "19        20    35  1       11           35            28    2        1    1   \n",
       "20        21    36  0       11           36            29    1        1    0   \n",
       "21        22    39  1       12           39            29    3        0    3   \n",
       "22        23    39  0       12           39            30    0        1   -1   \n",
       "23        24    40  0       12           41            32    2        2    0   \n",
       "24        25    41  0       12           43            34    2        2    0   \n",
       "25        26    41  0       12           43            36    0        2   -2   \n",
       "26        27    44  1       13           45            37    2        1    1   \n",
       "27        28    45  0       13           47            39    2        2    0   \n",
       "28        29    48  1       14           51            39    4        0    4   \n",
       "\n",
       "    y_chelsea  \n",
       "0           0  \n",
       "1           0  \n",
       "2           1  \n",
       "3           0  \n",
       "4           1  \n",
       "5           0  \n",
       "6           1  \n",
       "7           1  \n",
       "8           1  \n",
       "9           1  \n",
       "10          1  \n",
       "11          1  \n",
       "12          0  \n",
       "13          0  \n",
       "14          1  \n",
       "15          0  \n",
       "16          0  \n",
       "17          1  \n",
       "18          0  \n",
       "19          1  \n",
       "20          0  \n",
       "21          1  \n",
       "22          0  \n",
       "23          0  \n",
       "24          0  \n",
       "25          0  \n",
       "26          1  \n",
       "27          0  \n",
       "28          1  "
      ]
     },
     "execution_count": 221,
     "metadata": {},
     "output_type": "execute_result"
    }
   ],
   "source": [
    "chelsea_df"
   ]
  },
  {
   "cell_type": "code",
   "execution_count": null,
   "metadata": {},
   "outputs": [],
   "source": []
  }
 ],
 "metadata": {
  "kernelspec": {
   "display_name": "Python 3",
   "language": "python",
   "name": "python3"
  },
  "language_info": {
   "codemirror_mode": {
    "name": "ipython",
    "version": 3
   },
   "file_extension": ".py",
   "mimetype": "text/x-python",
   "name": "python",
   "nbconvert_exporter": "python",
   "pygments_lexer": "ipython3",
   "version": "3.7.6"
  }
 },
 "nbformat": 4,
 "nbformat_minor": 4
}
