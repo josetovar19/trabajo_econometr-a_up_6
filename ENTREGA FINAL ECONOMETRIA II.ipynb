{
 "cells": [
  {
   "cell_type": "markdown",
   "metadata": {},
   "source": [
    "# Proyecto Final Econometría II\n"
   ]
  },
  {
   "cell_type": "markdown",
   "metadata": {},
   "source": [
    "**Por;**\n",
    "\n",
    "Santiago Sánchez\n",
    "\n",
    "José Angel Tovar\n",
    "\n",
    "**Objetivo**\n",
    "\n",
    "Pronosticar en la medida de lo posible los resultados de los siguietes equipos por jornada.\n",
    "\n",
    "**Motivación**\n",
    "\n",
    "El futbol es un deporte sumamente dificil de predecir, esto porque interfieren una serie de variables incontrolables en muchas de las ocasiones, es por esto, que nosotros como aficionados nos emociona y motiva el tratar de crear un modelo que pronostique resultados concretos mas aun de equipos de una liga tan competitiva como lo es la Premier League.\n",
    "\n",
    "**Modelo general**\n",
    "\n",
    "*Y(p:gane/pierda) = a + B1(local/visitante) + B2(Goal por partido) + B3(Posición) + B4(Posición contrincante) + Error*\n",
    "\n",
    "**3 modelos a evaluar**\n",
    "\n",
    "Y = P(Liverpool_gane_la_siguiente_jornada: Si/No)\n",
    "\n",
    "Y = P(Chelsea_gane_la_siguiente_jornada: Si/No)\n",
    "\n",
    "Y = P(Tottenham_gane_la_siguiente_jornada: Si/No)\n",
    "\n",
    "**Data set**\n",
    "\n",
    "29 datos para cada variable x"
   ]
  },
  {
   "cell_type": "code",
   "execution_count": 1,
   "metadata": {},
   "outputs": [],
   "source": [
    "import urllib\n",
    "from urllib.request import urlopen\n",
    "from bs4 import BeautifulSoup\n",
    "import requests\n",
    "import pandas as pd\n",
    "import numpy as np\n",
    "import statsmodels.api as sm\n",
    "import seaborn as sns\n",
    "import statistics as stats\n",
    "from scipy import stats\n",
    "from sklearn import linear_model\n",
    "from sklearn import model_selection \n",
    "from sklearn.metrics import classification_report\n",
    "from sklearn.metrics import confusion_matrix\n",
    "from sklearn.metrics import accuracy_score\n",
    "import seaborn as sb\n",
    "import matplotlib.pyplot as plt\n",
    "from matplotlib import colors\n",
    "from matplotlib.ticker import PercentFormatter\n",
    "resultados_home = 'http://www.resultados-futbol.com/premier/grupo1/jornada{}'\n",
    "headers = {'User-agent': 'Safari/13.1'}"
   ]
  },
  {
   "cell_type": "code",
   "execution_count": 2,
   "metadata": {},
   "outputs": [
    {
     "name": "stdout",
     "output_type": "stream",
     "text": [
      "1 | 2 | 3 | 4 | 5 | 6 | 7 | 8 | 9 | 10 | 11 | 12 | 13 | 14 | 15 | 16 | 17 | 18 | 19 | 20 | 21 | 22 | 23 | 24 | 25 | 26 | 27 | 28 | 29 | "
     ]
    }
   ],
   "source": [
    "equipos_info = {}\n",
    "for page in range(1, 30):\n",
    "    equipos_info[page] = {}\n",
    "    url = resultados_home.format(page)\n",
    "    html = requests.get(url, headers=headers)\n",
    "    soup = BeautifulSoup(html.content, \"lxml\")\n",
    "    table_2 = soup.find(\"table\", {\"id\" : \"tabla2\"})\n",
    "    tds = table_2.findAll(\"td\")\n",
    "    for i, td in enumerate(tds):\n",
    "        try:\n",
    "            clase = td['class'][0]\n",
    "            if clase == 'equipo':\n",
    "                equipo = td.get_text().strip()\n",
    "                equipos_info[page][equipo] = []\n",
    "                for ii in range(1, 30):\n",
    "                    value = int(tds[i + ii].get_text())\n",
    "                    equipos_info[page][equipo].append(value)\n",
    "        except:\n",
    "            pass\n",
    "    print(page, end=' | ')"
   ]
  },
  {
   "cell_type": "code",
   "execution_count": 3,
   "metadata": {},
   "outputs": [],
   "source": [
    "def create_dataframe_for_team(equipos_info, team):\n",
    "    lista_jornadas = []\n",
    "    lista_ptos = []\n",
    "    lista_ganados = []\n",
    "    lista_goles_favor = []\n",
    "    lista_goles_contra = []\n",
    "    lista_y = []\n",
    "    for jornada, jornada_info in equipos_info.items():        \n",
    "        equipo_info = jornada_info[team]\n",
    "        ptos = equipo_info[0]\n",
    "        ganados = equipo_info[2]\n",
    "        goles_favor = equipo_info[5]\n",
    "        goles_contra = equipo_info[6]        \n",
    "        lista_jornadas.append(jornada)\n",
    "        lista_ptos.append(ptos)\n",
    "        lista_ganados.append(ganados)\n",
    "        lista_goles_favor.append(goles_favor)\n",
    "        lista_goles_contra.append(goles_contra)\n",
    "    \n",
    "    df = pd.DataFrame({'jornada': lista_jornadas,\n",
    "                       'ptos': lista_ptos,\n",
    "                       'ganados': lista_ganados,\n",
    "                       'goles_favor': lista_goles_favor,\n",
    "                       'goles_contra': lista_goles_contra})\n",
    "    \n",
    "    for i in range(len(df)):\n",
    "        try:\n",
    "            if df['ganados'][i] == df['ganados'][i-1]:\n",
    "                lista_y.append(0) \n",
    "            else:\n",
    "                lista_y.append(1)\n",
    "        except:\n",
    "            lista_y.append(np.nan)\n",
    "    df['y'] = lista_y\n",
    "    df = df.dropna()\n",
    "    df = df.reset_index(drop=True)\n",
    "    df['y'] = df['y'].astype(int)\n",
    "    return df"
   ]
  },
  {
   "cell_type": "code",
   "execution_count": 4,
   "metadata": {},
   "outputs": [],
   "source": [
    "chelsea_df = create_dataframe_for_team(equipos_info, 'Chelsea')\n",
    "liverpool_df = create_dataframe_for_team(equipos_info, 'Liverpool')\n",
    "man_city_df = create_dataframe_for_team(equipos_info, 'Man. City')\n",
    "tottenham_df = create_dataframe_for_team(equipos_info, 'Tottenham')"
   ]
  },
  {
   "cell_type": "code",
   "execution_count": 5,
   "metadata": {},
   "outputs": [],
   "source": [
    "liverpool_df_final=pd.read_excel(r\"/Users/josetovar/Desktop/Python docs/proyecto final econometría/liverpool.xlsx\")\n",
    "chelsea_df_final=pd.read_excel(r\"/Users/josetovar/Desktop/Python docs/proyecto final econometría/chelsea.xlsx\")\n",
    "tottenham_df_final=pd.read_excel(r\"/Users/josetovar/Desktop/Python docs/proyecto final econometría/tottenham.xlsx\")"
   ]
  },
  {
   "cell_type": "code",
   "execution_count": 6,
   "metadata": {},
   "outputs": [],
   "source": [
    "def sigmoide_G(x):\n",
    "    rv = 1 / (1 + np.exp(-x)) \n",
    "    return rv"
   ]
  },
  {
   "cell_type": "markdown",
   "metadata": {},
   "source": [
    "# Liverpool"
   ]
  },
  {
   "cell_type": "code",
   "execution_count": 7,
   "metadata": {},
   "outputs": [
    {
     "data": {
      "text/html": [
       "<div>\n",
       "<style scoped>\n",
       "    .dataframe tbody tr th:only-of-type {\n",
       "        vertical-align: middle;\n",
       "    }\n",
       "\n",
       "    .dataframe tbody tr th {\n",
       "        vertical-align: top;\n",
       "    }\n",
       "\n",
       "    .dataframe thead th {\n",
       "        text-align: right;\n",
       "    }\n",
       "</style>\n",
       "<table border=\"1\" class=\"dataframe\">\n",
       "  <thead>\n",
       "    <tr style=\"text-align: right;\">\n",
       "      <th></th>\n",
       "      <th>jornada</th>\n",
       "      <th>y</th>\n",
       "      <th>goles_for</th>\n",
       "      <th>goles_against</th>\n",
       "      <th>dif_goles</th>\n",
       "      <th>c_v</th>\n",
       "      <th>pos</th>\n",
       "      <th>posc</th>\n",
       "    </tr>\n",
       "  </thead>\n",
       "  <tbody>\n",
       "    <tr>\n",
       "      <th>0</th>\n",
       "      <td>2</td>\n",
       "      <td>1</td>\n",
       "      <td>2</td>\n",
       "      <td>1</td>\n",
       "      <td>1</td>\n",
       "      <td>0</td>\n",
       "      <td>3</td>\n",
       "      <td>17</td>\n",
       "    </tr>\n",
       "    <tr>\n",
       "      <th>1</th>\n",
       "      <td>3</td>\n",
       "      <td>1</td>\n",
       "      <td>3</td>\n",
       "      <td>1</td>\n",
       "      <td>2</td>\n",
       "      <td>1</td>\n",
       "      <td>1</td>\n",
       "      <td>2</td>\n",
       "    </tr>\n",
       "    <tr>\n",
       "      <th>2</th>\n",
       "      <td>4</td>\n",
       "      <td>1</td>\n",
       "      <td>3</td>\n",
       "      <td>0</td>\n",
       "      <td>3</td>\n",
       "      <td>0</td>\n",
       "      <td>1</td>\n",
       "      <td>6</td>\n",
       "    </tr>\n",
       "    <tr>\n",
       "      <th>3</th>\n",
       "      <td>5</td>\n",
       "      <td>1</td>\n",
       "      <td>3</td>\n",
       "      <td>1</td>\n",
       "      <td>2</td>\n",
       "      <td>1</td>\n",
       "      <td>1</td>\n",
       "      <td>14</td>\n",
       "    </tr>\n",
       "    <tr>\n",
       "      <th>4</th>\n",
       "      <td>6</td>\n",
       "      <td>1</td>\n",
       "      <td>2</td>\n",
       "      <td>1</td>\n",
       "      <td>1</td>\n",
       "      <td>0</td>\n",
       "      <td>1</td>\n",
       "      <td>6</td>\n",
       "    </tr>\n",
       "    <tr>\n",
       "      <th>5</th>\n",
       "      <td>7</td>\n",
       "      <td>1</td>\n",
       "      <td>1</td>\n",
       "      <td>0</td>\n",
       "      <td>1</td>\n",
       "      <td>0</td>\n",
       "      <td>1</td>\n",
       "      <td>10</td>\n",
       "    </tr>\n",
       "    <tr>\n",
       "      <th>6</th>\n",
       "      <td>8</td>\n",
       "      <td>1</td>\n",
       "      <td>2</td>\n",
       "      <td>1</td>\n",
       "      <td>1</td>\n",
       "      <td>1</td>\n",
       "      <td>1</td>\n",
       "      <td>3</td>\n",
       "    </tr>\n",
       "    <tr>\n",
       "      <th>7</th>\n",
       "      <td>9</td>\n",
       "      <td>0</td>\n",
       "      <td>1</td>\n",
       "      <td>1</td>\n",
       "      <td>0</td>\n",
       "      <td>0</td>\n",
       "      <td>1</td>\n",
       "      <td>12</td>\n",
       "    </tr>\n",
       "    <tr>\n",
       "      <th>8</th>\n",
       "      <td>10</td>\n",
       "      <td>1</td>\n",
       "      <td>2</td>\n",
       "      <td>1</td>\n",
       "      <td>1</td>\n",
       "      <td>1</td>\n",
       "      <td>1</td>\n",
       "      <td>7</td>\n",
       "    </tr>\n",
       "    <tr>\n",
       "      <th>9</th>\n",
       "      <td>11</td>\n",
       "      <td>1</td>\n",
       "      <td>2</td>\n",
       "      <td>1</td>\n",
       "      <td>1</td>\n",
       "      <td>0</td>\n",
       "      <td>1</td>\n",
       "      <td>15</td>\n",
       "    </tr>\n",
       "    <tr>\n",
       "      <th>10</th>\n",
       "      <td>12</td>\n",
       "      <td>1</td>\n",
       "      <td>3</td>\n",
       "      <td>1</td>\n",
       "      <td>2</td>\n",
       "      <td>1</td>\n",
       "      <td>1</td>\n",
       "      <td>2</td>\n",
       "    </tr>\n",
       "    <tr>\n",
       "      <th>11</th>\n",
       "      <td>13</td>\n",
       "      <td>1</td>\n",
       "      <td>2</td>\n",
       "      <td>1</td>\n",
       "      <td>1</td>\n",
       "      <td>0</td>\n",
       "      <td>1</td>\n",
       "      <td>12</td>\n",
       "    </tr>\n",
       "    <tr>\n",
       "      <th>12</th>\n",
       "      <td>14</td>\n",
       "      <td>1</td>\n",
       "      <td>2</td>\n",
       "      <td>1</td>\n",
       "      <td>1</td>\n",
       "      <td>1</td>\n",
       "      <td>1</td>\n",
       "      <td>12</td>\n",
       "    </tr>\n",
       "    <tr>\n",
       "      <th>13</th>\n",
       "      <td>15</td>\n",
       "      <td>1</td>\n",
       "      <td>5</td>\n",
       "      <td>2</td>\n",
       "      <td>3</td>\n",
       "      <td>1</td>\n",
       "      <td>1</td>\n",
       "      <td>17</td>\n",
       "    </tr>\n",
       "    <tr>\n",
       "      <th>14</th>\n",
       "      <td>16</td>\n",
       "      <td>1</td>\n",
       "      <td>3</td>\n",
       "      <td>0</td>\n",
       "      <td>3</td>\n",
       "      <td>0</td>\n",
       "      <td>1</td>\n",
       "      <td>14</td>\n",
       "    </tr>\n",
       "    <tr>\n",
       "      <th>15</th>\n",
       "      <td>17</td>\n",
       "      <td>1</td>\n",
       "      <td>2</td>\n",
       "      <td>0</td>\n",
       "      <td>2</td>\n",
       "      <td>1</td>\n",
       "      <td>1</td>\n",
       "      <td>20</td>\n",
       "    </tr>\n",
       "    <tr>\n",
       "      <th>16</th>\n",
       "      <td>18</td>\n",
       "      <td>1</td>\n",
       "      <td>2</td>\n",
       "      <td>0</td>\n",
       "      <td>2</td>\n",
       "      <td>0</td>\n",
       "      <td>1</td>\n",
       "      <td>15</td>\n",
       "    </tr>\n",
       "    <tr>\n",
       "      <th>17</th>\n",
       "      <td>19</td>\n",
       "      <td>1</td>\n",
       "      <td>4</td>\n",
       "      <td>0</td>\n",
       "      <td>4</td>\n",
       "      <td>0</td>\n",
       "      <td>1</td>\n",
       "      <td>2</td>\n",
       "    </tr>\n",
       "    <tr>\n",
       "      <th>18</th>\n",
       "      <td>20</td>\n",
       "      <td>1</td>\n",
       "      <td>1</td>\n",
       "      <td>0</td>\n",
       "      <td>1</td>\n",
       "      <td>1</td>\n",
       "      <td>1</td>\n",
       "      <td>5</td>\n",
       "    </tr>\n",
       "    <tr>\n",
       "      <th>19</th>\n",
       "      <td>21</td>\n",
       "      <td>1</td>\n",
       "      <td>2</td>\n",
       "      <td>0</td>\n",
       "      <td>2</td>\n",
       "      <td>1</td>\n",
       "      <td>1</td>\n",
       "      <td>8</td>\n",
       "    </tr>\n",
       "    <tr>\n",
       "      <th>20</th>\n",
       "      <td>22</td>\n",
       "      <td>1</td>\n",
       "      <td>1</td>\n",
       "      <td>0</td>\n",
       "      <td>1</td>\n",
       "      <td>0</td>\n",
       "      <td>1</td>\n",
       "      <td>6</td>\n",
       "    </tr>\n",
       "    <tr>\n",
       "      <th>21</th>\n",
       "      <td>23</td>\n",
       "      <td>1</td>\n",
       "      <td>2</td>\n",
       "      <td>0</td>\n",
       "      <td>2</td>\n",
       "      <td>1</td>\n",
       "      <td>1</td>\n",
       "      <td>5</td>\n",
       "    </tr>\n",
       "    <tr>\n",
       "      <th>22</th>\n",
       "      <td>24</td>\n",
       "      <td>1</td>\n",
       "      <td>2</td>\n",
       "      <td>1</td>\n",
       "      <td>1</td>\n",
       "      <td>0</td>\n",
       "      <td>1</td>\n",
       "      <td>6</td>\n",
       "    </tr>\n",
       "    <tr>\n",
       "      <th>23</th>\n",
       "      <td>25</td>\n",
       "      <td>1</td>\n",
       "      <td>4</td>\n",
       "      <td>0</td>\n",
       "      <td>4</td>\n",
       "      <td>1</td>\n",
       "      <td>1</td>\n",
       "      <td>9</td>\n",
       "    </tr>\n",
       "    <tr>\n",
       "      <th>24</th>\n",
       "      <td>26</td>\n",
       "      <td>1</td>\n",
       "      <td>1</td>\n",
       "      <td>0</td>\n",
       "      <td>1</td>\n",
       "      <td>0</td>\n",
       "      <td>1</td>\n",
       "      <td>20</td>\n",
       "    </tr>\n",
       "    <tr>\n",
       "      <th>25</th>\n",
       "      <td>27</td>\n",
       "      <td>1</td>\n",
       "      <td>3</td>\n",
       "      <td>2</td>\n",
       "      <td>1</td>\n",
       "      <td>1</td>\n",
       "      <td>1</td>\n",
       "      <td>18</td>\n",
       "    </tr>\n",
       "    <tr>\n",
       "      <th>26</th>\n",
       "      <td>28</td>\n",
       "      <td>0</td>\n",
       "      <td>0</td>\n",
       "      <td>3</td>\n",
       "      <td>-3</td>\n",
       "      <td>0</td>\n",
       "      <td>1</td>\n",
       "      <td>19</td>\n",
       "    </tr>\n",
       "    <tr>\n",
       "      <th>27</th>\n",
       "      <td>29</td>\n",
       "      <td>1</td>\n",
       "      <td>2</td>\n",
       "      <td>1</td>\n",
       "      <td>1</td>\n",
       "      <td>1</td>\n",
       "      <td>1</td>\n",
       "      <td>18</td>\n",
       "    </tr>\n",
       "  </tbody>\n",
       "</table>\n",
       "</div>"
      ],
      "text/plain": [
       "    jornada  y  goles_for  goles_against  dif_goles  c_v  pos  posc\n",
       "0         2  1          2              1          1    0    3    17\n",
       "1         3  1          3              1          2    1    1     2\n",
       "2         4  1          3              0          3    0    1     6\n",
       "3         5  1          3              1          2    1    1    14\n",
       "4         6  1          2              1          1    0    1     6\n",
       "5         7  1          1              0          1    0    1    10\n",
       "6         8  1          2              1          1    1    1     3\n",
       "7         9  0          1              1          0    0    1    12\n",
       "8        10  1          2              1          1    1    1     7\n",
       "9        11  1          2              1          1    0    1    15\n",
       "10       12  1          3              1          2    1    1     2\n",
       "11       13  1          2              1          1    0    1    12\n",
       "12       14  1          2              1          1    1    1    12\n",
       "13       15  1          5              2          3    1    1    17\n",
       "14       16  1          3              0          3    0    1    14\n",
       "15       17  1          2              0          2    1    1    20\n",
       "16       18  1          2              0          2    0    1    15\n",
       "17       19  1          4              0          4    0    1     2\n",
       "18       20  1          1              0          1    1    1     5\n",
       "19       21  1          2              0          2    1    1     8\n",
       "20       22  1          1              0          1    0    1     6\n",
       "21       23  1          2              0          2    1    1     5\n",
       "22       24  1          2              1          1    0    1     6\n",
       "23       25  1          4              0          4    1    1     9\n",
       "24       26  1          1              0          1    0    1    20\n",
       "25       27  1          3              2          1    1    1    18\n",
       "26       28  0          0              3         -3    0    1    19\n",
       "27       29  1          2              1          1    1    1    18"
      ]
     },
     "execution_count": 7,
     "metadata": {},
     "output_type": "execute_result"
    }
   ],
   "source": [
    "liverpool_df_final"
   ]
  },
  {
   "cell_type": "markdown",
   "metadata": {},
   "source": [
    "# Estadísticas descriptivas "
   ]
  },
  {
   "cell_type": "code",
   "execution_count": 8,
   "metadata": {},
   "outputs": [
    {
     "data": {
      "text/html": [
       "<div>\n",
       "<style scoped>\n",
       "    .dataframe tbody tr th:only-of-type {\n",
       "        vertical-align: middle;\n",
       "    }\n",
       "\n",
       "    .dataframe tbody tr th {\n",
       "        vertical-align: top;\n",
       "    }\n",
       "\n",
       "    .dataframe thead th {\n",
       "        text-align: right;\n",
       "    }\n",
       "</style>\n",
       "<table border=\"1\" class=\"dataframe\">\n",
       "  <thead>\n",
       "    <tr style=\"text-align: right;\">\n",
       "      <th></th>\n",
       "      <th>jornada</th>\n",
       "      <th>y</th>\n",
       "      <th>goles_for</th>\n",
       "      <th>goles_against</th>\n",
       "      <th>dif_goles</th>\n",
       "      <th>c_v</th>\n",
       "      <th>pos</th>\n",
       "      <th>posc</th>\n",
       "    </tr>\n",
       "  </thead>\n",
       "  <tbody>\n",
       "    <tr>\n",
       "      <th>count</th>\n",
       "      <td>28.000000</td>\n",
       "      <td>28.000000</td>\n",
       "      <td>28.000000</td>\n",
       "      <td>28.000000</td>\n",
       "      <td>28.000000</td>\n",
       "      <td>28.000000</td>\n",
       "      <td>28.000000</td>\n",
       "      <td>28.000000</td>\n",
       "    </tr>\n",
       "    <tr>\n",
       "      <th>mean</th>\n",
       "      <td>15.500000</td>\n",
       "      <td>0.928571</td>\n",
       "      <td>2.214286</td>\n",
       "      <td>0.714286</td>\n",
       "      <td>1.500000</td>\n",
       "      <td>0.500000</td>\n",
       "      <td>1.071429</td>\n",
       "      <td>10.714286</td>\n",
       "    </tr>\n",
       "    <tr>\n",
       "      <th>std</th>\n",
       "      <td>8.225975</td>\n",
       "      <td>0.262265</td>\n",
       "      <td>1.066567</td>\n",
       "      <td>0.762896</td>\n",
       "      <td>1.319371</td>\n",
       "      <td>0.509175</td>\n",
       "      <td>0.377964</td>\n",
       "      <td>5.949523</td>\n",
       "    </tr>\n",
       "    <tr>\n",
       "      <th>min</th>\n",
       "      <td>2.000000</td>\n",
       "      <td>0.000000</td>\n",
       "      <td>0.000000</td>\n",
       "      <td>0.000000</td>\n",
       "      <td>-3.000000</td>\n",
       "      <td>0.000000</td>\n",
       "      <td>1.000000</td>\n",
       "      <td>2.000000</td>\n",
       "    </tr>\n",
       "    <tr>\n",
       "      <th>25%</th>\n",
       "      <td>8.750000</td>\n",
       "      <td>1.000000</td>\n",
       "      <td>2.000000</td>\n",
       "      <td>0.000000</td>\n",
       "      <td>1.000000</td>\n",
       "      <td>0.000000</td>\n",
       "      <td>1.000000</td>\n",
       "      <td>6.000000</td>\n",
       "    </tr>\n",
       "    <tr>\n",
       "      <th>50%</th>\n",
       "      <td>15.500000</td>\n",
       "      <td>1.000000</td>\n",
       "      <td>2.000000</td>\n",
       "      <td>1.000000</td>\n",
       "      <td>1.000000</td>\n",
       "      <td>0.500000</td>\n",
       "      <td>1.000000</td>\n",
       "      <td>11.000000</td>\n",
       "    </tr>\n",
       "    <tr>\n",
       "      <th>75%</th>\n",
       "      <td>22.250000</td>\n",
       "      <td>1.000000</td>\n",
       "      <td>3.000000</td>\n",
       "      <td>1.000000</td>\n",
       "      <td>2.000000</td>\n",
       "      <td>1.000000</td>\n",
       "      <td>1.000000</td>\n",
       "      <td>15.500000</td>\n",
       "    </tr>\n",
       "    <tr>\n",
       "      <th>max</th>\n",
       "      <td>29.000000</td>\n",
       "      <td>1.000000</td>\n",
       "      <td>5.000000</td>\n",
       "      <td>3.000000</td>\n",
       "      <td>4.000000</td>\n",
       "      <td>1.000000</td>\n",
       "      <td>3.000000</td>\n",
       "      <td>20.000000</td>\n",
       "    </tr>\n",
       "  </tbody>\n",
       "</table>\n",
       "</div>"
      ],
      "text/plain": [
       "         jornada          y  goles_for  goles_against  dif_goles        c_v  \\\n",
       "count  28.000000  28.000000  28.000000      28.000000  28.000000  28.000000   \n",
       "mean   15.500000   0.928571   2.214286       0.714286   1.500000   0.500000   \n",
       "std     8.225975   0.262265   1.066567       0.762896   1.319371   0.509175   \n",
       "min     2.000000   0.000000   0.000000       0.000000  -3.000000   0.000000   \n",
       "25%     8.750000   1.000000   2.000000       0.000000   1.000000   0.000000   \n",
       "50%    15.500000   1.000000   2.000000       1.000000   1.000000   0.500000   \n",
       "75%    22.250000   1.000000   3.000000       1.000000   2.000000   1.000000   \n",
       "max    29.000000   1.000000   5.000000       3.000000   4.000000   1.000000   \n",
       "\n",
       "             pos       posc  \n",
       "count  28.000000  28.000000  \n",
       "mean    1.071429  10.714286  \n",
       "std     0.377964   5.949523  \n",
       "min     1.000000   2.000000  \n",
       "25%     1.000000   6.000000  \n",
       "50%     1.000000  11.000000  \n",
       "75%     1.000000  15.500000  \n",
       "max     3.000000  20.000000  "
      ]
     },
     "execution_count": 8,
     "metadata": {},
     "output_type": "execute_result"
    }
   ],
   "source": [
    "liverpool_df_final.describe()"
   ]
  },
  {
   "cell_type": "code",
   "execution_count": 9,
   "metadata": {},
   "outputs": [
    {
     "data": {
      "text/plain": [
       "jornada          67.666667\n",
       "y                 0.068783\n",
       "goles_for         1.137566\n",
       "goles_against     0.582011\n",
       "dif_goles         1.740741\n",
       "c_v               0.259259\n",
       "pos               0.142857\n",
       "posc             35.396825\n",
       "dtype: float64"
      ]
     },
     "execution_count": 9,
     "metadata": {},
     "output_type": "execute_result"
    }
   ],
   "source": [
    "liverpool_df_final.var()"
   ]
  },
  {
   "cell_type": "code",
   "execution_count": 10,
   "metadata": {
    "scrolled": true
   },
   "outputs": [
    {
     "data": {
      "text/html": [
       "<div>\n",
       "<style scoped>\n",
       "    .dataframe tbody tr th:only-of-type {\n",
       "        vertical-align: middle;\n",
       "    }\n",
       "\n",
       "    .dataframe tbody tr th {\n",
       "        vertical-align: top;\n",
       "    }\n",
       "\n",
       "    .dataframe thead th {\n",
       "        text-align: right;\n",
       "    }\n",
       "</style>\n",
       "<table border=\"1\" class=\"dataframe\">\n",
       "  <thead>\n",
       "    <tr style=\"text-align: right;\">\n",
       "      <th></th>\n",
       "      <th>jornada</th>\n",
       "      <th>y</th>\n",
       "      <th>goles_for</th>\n",
       "      <th>goles_against</th>\n",
       "      <th>dif_goles</th>\n",
       "      <th>c_v</th>\n",
       "      <th>pos</th>\n",
       "      <th>posc</th>\n",
       "    </tr>\n",
       "  </thead>\n",
       "  <tbody>\n",
       "    <tr>\n",
       "      <th>jornada</th>\n",
       "      <td>1.000000</td>\n",
       "      <td>-0.103005</td>\n",
       "      <td>-0.139307</td>\n",
       "      <td>0.023607</td>\n",
       "      <td>-0.126265</td>\n",
       "      <td>0.106112</td>\n",
       "      <td>-0.321634</td>\n",
       "      <td>0.284547</td>\n",
       "    </tr>\n",
       "    <tr>\n",
       "      <th>y</th>\n",
       "      <td>-0.103005</td>\n",
       "      <td>1.000000</td>\n",
       "      <td>0.453963</td>\n",
       "      <td>-0.475997</td>\n",
       "      <td>0.642214</td>\n",
       "      <td>0.277350</td>\n",
       "      <td>0.053376</td>\n",
       "      <td>-0.227190</td>\n",
       "    </tr>\n",
       "    <tr>\n",
       "      <th>goles_for</th>\n",
       "      <td>-0.139307</td>\n",
       "      <td>0.453963</td>\n",
       "      <td>1.000000</td>\n",
       "      <td>-0.013005</td>\n",
       "      <td>0.815911</td>\n",
       "      <td>0.340997</td>\n",
       "      <td>-0.039375</td>\n",
       "      <td>-0.153421</td>\n",
       "    </tr>\n",
       "    <tr>\n",
       "      <th>goles_against</th>\n",
       "      <td>0.023607</td>\n",
       "      <td>-0.475997</td>\n",
       "      <td>-0.013005</td>\n",
       "      <td>1.000000</td>\n",
       "      <td>-0.588740</td>\n",
       "      <td>0.095346</td>\n",
       "      <td>0.073398</td>\n",
       "      <td>0.315907</td>\n",
       "    </tr>\n",
       "    <tr>\n",
       "      <th>dif_goles</th>\n",
       "      <td>-0.126265</td>\n",
       "      <td>0.642214</td>\n",
       "      <td>0.815911</td>\n",
       "      <td>-0.588740</td>\n",
       "      <td>1.000000</td>\n",
       "      <td>0.220527</td>\n",
       "      <td>-0.074271</td>\n",
       "      <td>-0.306691</td>\n",
       "    </tr>\n",
       "    <tr>\n",
       "      <th>c_v</th>\n",
       "      <td>0.106112</td>\n",
       "      <td>0.277350</td>\n",
       "      <td>0.340997</td>\n",
       "      <td>0.095346</td>\n",
       "      <td>0.220527</td>\n",
       "      <td>1.000000</td>\n",
       "      <td>-0.192450</td>\n",
       "      <td>-0.122261</td>\n",
       "    </tr>\n",
       "    <tr>\n",
       "      <th>pos</th>\n",
       "      <td>-0.321634</td>\n",
       "      <td>0.053376</td>\n",
       "      <td>-0.039375</td>\n",
       "      <td>0.073398</td>\n",
       "      <td>-0.074271</td>\n",
       "      <td>-0.192450</td>\n",
       "      <td>1.000000</td>\n",
       "      <td>0.207056</td>\n",
       "    </tr>\n",
       "    <tr>\n",
       "      <th>posc</th>\n",
       "      <td>0.284547</td>\n",
       "      <td>-0.227190</td>\n",
       "      <td>-0.153421</td>\n",
       "      <td>0.315907</td>\n",
       "      <td>-0.306691</td>\n",
       "      <td>-0.122261</td>\n",
       "      <td>0.207056</td>\n",
       "      <td>1.000000</td>\n",
       "    </tr>\n",
       "  </tbody>\n",
       "</table>\n",
       "</div>"
      ],
      "text/plain": [
       "                jornada         y  goles_for  goles_against  dif_goles  \\\n",
       "jornada        1.000000 -0.103005  -0.139307       0.023607  -0.126265   \n",
       "y             -0.103005  1.000000   0.453963      -0.475997   0.642214   \n",
       "goles_for     -0.139307  0.453963   1.000000      -0.013005   0.815911   \n",
       "goles_against  0.023607 -0.475997  -0.013005       1.000000  -0.588740   \n",
       "dif_goles     -0.126265  0.642214   0.815911      -0.588740   1.000000   \n",
       "c_v            0.106112  0.277350   0.340997       0.095346   0.220527   \n",
       "pos           -0.321634  0.053376  -0.039375       0.073398  -0.074271   \n",
       "posc           0.284547 -0.227190  -0.153421       0.315907  -0.306691   \n",
       "\n",
       "                    c_v       pos      posc  \n",
       "jornada        0.106112 -0.321634  0.284547  \n",
       "y              0.277350  0.053376 -0.227190  \n",
       "goles_for      0.340997 -0.039375 -0.153421  \n",
       "goles_against  0.095346  0.073398  0.315907  \n",
       "dif_goles      0.220527 -0.074271 -0.306691  \n",
       "c_v            1.000000 -0.192450 -0.122261  \n",
       "pos           -0.192450  1.000000  0.207056  \n",
       "posc          -0.122261  0.207056  1.000000  "
      ]
     },
     "execution_count": 10,
     "metadata": {},
     "output_type": "execute_result"
    }
   ],
   "source": [
    "liverpool_df_final.corr()"
   ]
  },
  {
   "cell_type": "markdown",
   "metadata": {},
   "source": [
    "# Gráficos"
   ]
  },
  {
   "cell_type": "code",
   "execution_count": 11,
   "metadata": {
    "scrolled": true
   },
   "outputs": [
    {
     "data": {
      "text/plain": [
       "<matplotlib.axes._subplots.AxesSubplot at 0x1a27bcce10>"
      ]
     },
     "execution_count": 11,
     "metadata": {},
     "output_type": "execute_result"
    },
    {
     "data": {
      "image/png": "[encoded data removed]",
      "text/plain": [
       "<Figure size 432x288 with 1 Axes>"
      ]
     },
     "metadata": {
      "needs_background": "light"
     },
     "output_type": "display_data"
    },
    {
     "data": {
      "image/png": "[encoded data removed]",
      "text/plain": [
       "<Figure size 432x288 with 1 Axes>"
      ]
     },
     "metadata": {
      "needs_background": "light"
     },
     "output_type": "display_data"
    },
    {
     "data": {
      "image/png": "[encoded data removed]",
      "text/plain": [
       "<Figure size 432x288 with 1 Axes>"
      ]
     },
     "metadata": {
      "needs_background": "light"
     },
     "output_type": "display_data"
    },
    {
     "data": {
      "image/png": "[encoded data removed]",
      "text/plain": [
       "<Figure size 432x288 with 1 Axes>"
      ]
     },
     "metadata": {
      "needs_background": "light"
     },
     "output_type": "display_data"
    }
   ],
   "source": [
    "pd.crosstab(liverpool_df_final.goles_for,liverpool_df_final.c_v).plot(kind = 'bar', alpha =0.5)\n",
    "# Liverpool solo tuvo diferencia de goles negativa cuando jugó de visita \n",
    "pd.crosstab(liverpool_df_final.y,liverpool_df_final.c_v).plot(kind = 'bar', alpha =0.5)\n",
    "# Liverpool nunca perdió en casa \n",
    "pd.crosstab(liverpool_df_final.y,liverpool_df_final.posc).plot(kind = 'bar', alpha =0.5)\n",
    "pd.crosstab(liverpool_df_final.y,liverpool_df_final.goles_for).plot(kind = 'bar', alpha =0.5)"
   ]
  },
  {
   "cell_type": "markdown",
   "metadata": {},
   "source": [
    "# Modelo Logit"
   ]
  },
  {
   "cell_type": "code",
   "execution_count": 12,
   "metadata": {
    "scrolled": true
   },
   "outputs": [
    {
     "name": "stdout",
     "output_type": "stream",
     "text": [
      "Warning: Maximum number of iterations has been exceeded.\n",
      "         Current function value: 0.080334\n",
      "         Iterations: 35\n",
      "                           Logit Regression Results                           \n",
      "==============================================================================\n",
      "Dep. Variable:                      y   No. Observations:                   28\n",
      "Model:                          Logit   Df Residuals:                       23\n",
      "Method:                           MLE   Df Model:                            4\n",
      "Date:                Sun, 24 May 2020   Pseudo R-squ.:                  0.6878\n",
      "Time:                        13:57:32   Log-Likelihood:                -2.2493\n",
      "converged:                      False   LL-Null:                       -7.2049\n",
      "Covariance Type:            nonrobust   LLR p-value:                   0.04195\n",
      "==============================================================================\n",
      "                 coef    std err          z      P>|z|      [0.025      0.975]\n",
      "------------------------------------------------------------------------------\n",
      "const        -22.6666   1.07e+05     -0.000      1.000   -2.09e+05    2.09e+05\n",
      "pos           -2.1419   1.07e+05  -2.01e-05      1.000   -2.09e+05    2.09e+05\n",
      "c_v           16.4903   6597.626      0.002      0.998   -1.29e+04    1.29e+04\n",
      "posc       -1.074e-09      0.226  -4.74e-09      1.000      -0.444       0.444\n",
      "goles_for     25.9072   1.96e+05      0.000      1.000   -3.83e+05    3.83e+05\n",
      "==============================================================================\n",
      "\n",
      "Possibly complete quasi-separation: A fraction 0.86 of observations can be\n",
      "perfectly predicted. This might indicate that there is complete\n",
      "quasi-separation. In this case some parameters will not be identified.\n"
     ]
    },
    {
     "name": "stderr",
     "output_type": "stream",
     "text": [
      "/opt/anaconda3/lib/python3.7/site-packages/statsmodels/base/model.py:568: ConvergenceWarning: Maximum Likelihood optimization failed to converge. Check mle_retvals\n",
      "  \"Check mle_retvals\", ConvergenceWarning)\n"
     ]
    }
   ],
   "source": [
    "x_liv= liverpool_df_final[['pos','c_v','posc','goles_for']]\n",
    "y_liv= liverpool_df_final[['y']]\n",
    "x_liv= sm.add_constant(x_liv)\n",
    "modelliv= sm.Logit(y_liv, x_liv).fit()\n",
    "print(modelliv.summary())"
   ]
  },
  {
   "cell_type": "markdown",
   "metadata": {},
   "source": [
    "# Validación Liverpool"
   ]
  },
  {
   "cell_type": "code",
   "execution_count": 13,
   "metadata": {},
   "outputs": [
    {
     "data": {
      "text/plain": [
       "0     1.000000e+00\n",
       "1     1.000000e+00\n",
       "2     1.000000e+00\n",
       "3     1.000000e+00\n",
       "4     1.000000e+00\n",
       "5     7.500000e-01\n",
       "6     1.000000e+00\n",
       "7     7.500000e-01\n",
       "8     1.000000e+00\n",
       "9     1.000000e+00\n",
       "10    1.000000e+00\n",
       "11    1.000000e+00\n",
       "12    1.000000e+00\n",
       "13    1.000000e+00\n",
       "14    1.000000e+00\n",
       "15    1.000000e+00\n",
       "16    1.000000e+00\n",
       "17    1.000000e+00\n",
       "18    1.000000e+00\n",
       "19    1.000000e+00\n",
       "20    7.500000e-01\n",
       "21    1.000000e+00\n",
       "22    1.000000e+00\n",
       "23    1.000000e+00\n",
       "24    7.500000e-01\n",
       "25    1.000000e+00\n",
       "26    1.681778e-11\n",
       "27    1.000000e+00\n",
       "dtype: float64"
      ]
     },
     "execution_count": 13,
     "metadata": {},
     "output_type": "execute_result"
    }
   ],
   "source": [
    "Y_hat_ps = modelliv.predict(x_liv)\n",
    "Y_hat_ps"
   ]
  },
  {
   "cell_type": "code",
   "execution_count": 14,
   "metadata": {},
   "outputs": [
    {
     "name": "stdout",
     "output_type": "stream",
     "text": [
      "Fitness: 0.9642857142857143\n",
      "26\n",
      "27\n"
     ]
    }
   ],
   "source": [
    "suma_correct = 0\n",
    "suma_y_1 = 0\n",
    "threshold = .5\n",
    "for i in range(28):\n",
    "    true_y = liverpool_df_final[\"y\"][i]\n",
    "    y_hat_p = Y_hat_ps[i]\n",
    "    if y_hat_p >= threshold:\n",
    "        y_hat = 1\n",
    "    else:\n",
    "        y_hat = 0\n",
    "    if true_y == y_hat:\n",
    "        suma_correct += 1\n",
    "    suma_y_1 += y_hat\n",
    "print('Fitness:', suma_correct / 28)\n",
    "print(liverpool_df_final[\"y\"].sum())\n",
    "print(suma_y_1)"
   ]
  },
  {
   "cell_type": "code",
   "execution_count": 15,
   "metadata": {},
   "outputs": [
    {
     "name": "stdout",
     "output_type": "stream",
     "text": [
      "Fitness: 0.8928571428571429\n",
      "26\n",
      "23\n"
     ]
    }
   ],
   "source": [
    "suma_correct = 0\n",
    "suma_y_1 = 0\n",
    "threshold = liverpool_df_final[\"y\"].sum()/28\n",
    "for i in range(28):\n",
    "    y_true=liverpool_df_final[\"y\"][i]\n",
    "    y_hat_p = Y_hat_ps[i]\n",
    "    if y_hat_p >= threshold:\n",
    "        y_hat = 1\n",
    "    else:\n",
    "        y_hat = 0\n",
    "    if y_true == y_hat:\n",
    "        suma_correct += 1\n",
    "    suma_y_1 += y_hat\n",
    "print('Fitness:', suma_correct / 28)\n",
    "print(liverpool_df_final[\"y\"].sum())\n",
    "print(suma_y_1)"
   ]
  },
  {
   "cell_type": "code",
   "execution_count": 16,
   "metadata": {},
   "outputs": [],
   "source": [
    "success_rates = []\n",
    "for threshold in np.linspace(0, 1, 100):\n",
    "    suma_correct = 0\n",
    "    suma_y_1 = 0\n",
    "    for i in range(28):\n",
    "        true_y = liverpool_df_final[\"y\"][i]\n",
    "        y_hat_p = Y_hat_ps[i]\n",
    "        if y_hat_p >= threshold:\n",
    "            y_hat = 1\n",
    "        else:\n",
    "            y_hat = 0\n",
    "        if true_y == y_hat:\n",
    "            suma_correct += 1\n",
    "        suma_y_1 += y_hat\n",
    "    success_rate = suma_y_1 / 28\n",
    "    success_rates.append(success_rate)"
   ]
  },
  {
   "cell_type": "code",
   "execution_count": 17,
   "metadata": {},
   "outputs": [
    {
     "data": {
      "image/png": "[encoded data removed]",
      "text/plain": [
       "<Figure size 720x360 with 1 Axes>"
      ]
     },
     "metadata": {
      "needs_background": "light"
     },
     "output_type": "display_data"
    },
    {
     "name": "stdout",
     "output_type": "stream",
     "text": [
      "\n",
      "Done!\n"
     ]
    }
   ],
   "source": [
    "fig = plt.figure(figsize=(10, 5))\n",
    "axis = plt.gca()\n",
    "plt.plot(list(np.linspace(0, 1, 100)), success_rates)\n",
    "plt.axhline(liverpool_df_final[\"y\"].sum() / 28, color='red', linewidth=1)\n",
    "plt.xlim(0, 1)\n",
    "fig.tight_layout()\n",
    "plt.show()\n",
    "plt.close(plt.gcf())\n",
    "print('\\nDone!')"
   ]
  },
  {
   "cell_type": "markdown",
   "metadata": {},
   "source": [
    "# Cambios marginales "
   ]
  },
  {
   "cell_type": "code",
   "execution_count": 18,
   "metadata": {
    "scrolled": true
   },
   "outputs": [
    {
     "name": "stdout",
     "output_type": "stream",
     "text": [
      "PEA         Logit Marginal Effects       \n",
      "=====================================\n",
      "Dep. Variable:                      y\n",
      "Method:                          dydx\n",
      "At:                              mean\n",
      "==============================================================================\n",
      "                dy/dx    std err          z      P>|z|      [0.025      0.975]\n",
      "------------------------------------------------------------------------------\n",
      "pos        -4.753e-18   8.85e-13  -5.37e-06      1.000   -1.74e-12    1.74e-12\n",
      "c_v         3.659e-17   8.43e-12   4.34e-06      1.000   -1.65e-11    1.65e-11\n",
      "posc       -2.384e-27   5.02e-19  -4.74e-09      1.000   -9.85e-19    9.85e-19\n",
      "goles_for   5.749e-17   1.28e-11   4.49e-06      1.000   -2.51e-11    2.51e-11\n",
      "==============================================================================\n"
     ]
    }
   ],
   "source": [
    "print(\"PEA\",modelliv.get_margeff(at=\"mean\").summary())"
   ]
  },
  {
   "cell_type": "markdown",
   "metadata": {},
   "source": [
    "# PEA: ¿Cómo afecta al Liverpool jugar en casa o de visita?"
   ]
  },
  {
   "cell_type": "code",
   "execution_count": 19,
   "metadata": {},
   "outputs": [
    {
     "data": {
      "text/plain": [
       "8.43769498715119e-15"
      ]
     },
     "execution_count": 19,
     "metadata": {},
     "output_type": "execute_result"
    }
   ],
   "source": [
    "sigmoide_G(-22.6666 - 2.1419*1.071429 - 1.074e-09*10.714286 + 25.9072*2.214286 + 16.4903*1) - sigmoide_G(-22.6666 - 2.1419*1.071429 - 1.074e-09*10.714286 + 25.9072*2.214286 + 16.4903*0)"
   ]
  },
  {
   "cell_type": "markdown",
   "metadata": {},
   "source": [
    "# PEA: Jugar contra un equipo 2 lugares arriba en casa"
   ]
  },
  {
   "cell_type": "code",
   "execution_count": 20,
   "metadata": {},
   "outputs": [
    {
     "data": {
      "text/plain": [
       "2.148e-09"
      ]
     },
     "execution_count": 20,
     "metadata": {},
     "output_type": "execute_result"
    }
   ],
   "source": [
    "sigmoide_G(-22.6666 - 2.1419*1.071429 - 1.074e-09*10.714286 + 25.9072*2.214286 + 16.4903*1)*( -1.074e-09)*(-2)"
   ]
  },
  {
   "cell_type": "markdown",
   "metadata": {},
   "source": [
    "# PEA: Jugar contra un equipo 2 lugares arriba de visita"
   ]
  },
  {
   "cell_type": "code",
   "execution_count": 21,
   "metadata": {},
   "outputs": [
    {
     "data": {
      "text/plain": [
       "2.147999999999982e-09"
      ]
     },
     "execution_count": 21,
     "metadata": {},
     "output_type": "execute_result"
    }
   ],
   "source": [
    "sigmoide_G(-22.6666 - 2.1419*1.071429 - 1.074e-09*10.714286 + 25.9072*2.214286 + 16.4903*0)*( -1.074e-09)*(-2)"
   ]
  },
  {
   "cell_type": "markdown",
   "metadata": {},
   "source": [
    "# PEA: Contar con un gol a favor"
   ]
  },
  {
   "cell_type": "code",
   "execution_count": 22,
   "metadata": {},
   "outputs": [
    {
     "data": {
      "text/plain": [
       "25.9072"
      ]
     },
     "execution_count": 22,
     "metadata": {},
     "output_type": "execute_result"
    }
   ],
   "source": [
    "sigmoide_G(-22.6666 - 2.1419*1.071429 - 1.074e-09*10.714286 + 25.9072*2.214286 + 16.4903*1)*(25.9072)*(1)"
   ]
  },
  {
   "cell_type": "markdown",
   "metadata": {},
   "source": [
    "# Chelsea"
   ]
  },
  {
   "cell_type": "code",
   "execution_count": 23,
   "metadata": {},
   "outputs": [
    {
     "data": {
      "text/html": [
       "<div>\n",
       "<style scoped>\n",
       "    .dataframe tbody tr th:only-of-type {\n",
       "        vertical-align: middle;\n",
       "    }\n",
       "\n",
       "    .dataframe tbody tr th {\n",
       "        vertical-align: top;\n",
       "    }\n",
       "\n",
       "    .dataframe thead th {\n",
       "        text-align: right;\n",
       "    }\n",
       "</style>\n",
       "<table border=\"1\" class=\"dataframe\">\n",
       "  <thead>\n",
       "    <tr style=\"text-align: right;\">\n",
       "      <th></th>\n",
       "      <th>jornada</th>\n",
       "      <th>y</th>\n",
       "      <th>goles_for</th>\n",
       "      <th>goles_against</th>\n",
       "      <th>dif_goles</th>\n",
       "      <th>c_v</th>\n",
       "      <th>pos</th>\n",
       "      <th>posc</th>\n",
       "    </tr>\n",
       "  </thead>\n",
       "  <tbody>\n",
       "    <tr>\n",
       "      <th>0</th>\n",
       "      <td>2</td>\n",
       "      <td>0</td>\n",
       "      <td>1</td>\n",
       "      <td>1</td>\n",
       "      <td>0</td>\n",
       "      <td>1</td>\n",
       "      <td>19</td>\n",
       "      <td>12</td>\n",
       "    </tr>\n",
       "    <tr>\n",
       "      <th>1</th>\n",
       "      <td>3</td>\n",
       "      <td>1</td>\n",
       "      <td>3</td>\n",
       "      <td>2</td>\n",
       "      <td>1</td>\n",
       "      <td>0</td>\n",
       "      <td>15</td>\n",
       "      <td>11</td>\n",
       "    </tr>\n",
       "    <tr>\n",
       "      <th>2</th>\n",
       "      <td>4</td>\n",
       "      <td>0</td>\n",
       "      <td>2</td>\n",
       "      <td>2</td>\n",
       "      <td>0</td>\n",
       "      <td>1</td>\n",
       "      <td>14</td>\n",
       "      <td>9</td>\n",
       "    </tr>\n",
       "    <tr>\n",
       "      <th>3</th>\n",
       "      <td>5</td>\n",
       "      <td>1</td>\n",
       "      <td>5</td>\n",
       "      <td>2</td>\n",
       "      <td>3</td>\n",
       "      <td>0</td>\n",
       "      <td>11</td>\n",
       "      <td>17</td>\n",
       "    </tr>\n",
       "    <tr>\n",
       "      <th>4</th>\n",
       "      <td>6</td>\n",
       "      <td>0</td>\n",
       "      <td>1</td>\n",
       "      <td>2</td>\n",
       "      <td>-1</td>\n",
       "      <td>1</td>\n",
       "      <td>6</td>\n",
       "      <td>1</td>\n",
       "    </tr>\n",
       "    <tr>\n",
       "      <th>5</th>\n",
       "      <td>7</td>\n",
       "      <td>1</td>\n",
       "      <td>2</td>\n",
       "      <td>0</td>\n",
       "      <td>2</td>\n",
       "      <td>1</td>\n",
       "      <td>11</td>\n",
       "      <td>15</td>\n",
       "    </tr>\n",
       "    <tr>\n",
       "      <th>6</th>\n",
       "      <td>8</td>\n",
       "      <td>1</td>\n",
       "      <td>4</td>\n",
       "      <td>1</td>\n",
       "      <td>3</td>\n",
       "      <td>0</td>\n",
       "      <td>7</td>\n",
       "      <td>14</td>\n",
       "    </tr>\n",
       "    <tr>\n",
       "      <th>7</th>\n",
       "      <td>9</td>\n",
       "      <td>1</td>\n",
       "      <td>1</td>\n",
       "      <td>0</td>\n",
       "      <td>1</td>\n",
       "      <td>1</td>\n",
       "      <td>5</td>\n",
       "      <td>16</td>\n",
       "    </tr>\n",
       "    <tr>\n",
       "      <th>8</th>\n",
       "      <td>10</td>\n",
       "      <td>1</td>\n",
       "      <td>4</td>\n",
       "      <td>2</td>\n",
       "      <td>2</td>\n",
       "      <td>0</td>\n",
       "      <td>4</td>\n",
       "      <td>8</td>\n",
       "    </tr>\n",
       "    <tr>\n",
       "      <th>9</th>\n",
       "      <td>11</td>\n",
       "      <td>1</td>\n",
       "      <td>2</td>\n",
       "      <td>1</td>\n",
       "      <td>1</td>\n",
       "      <td>0</td>\n",
       "      <td>4</td>\n",
       "      <td>20</td>\n",
       "    </tr>\n",
       "    <tr>\n",
       "      <th>10</th>\n",
       "      <td>12</td>\n",
       "      <td>1</td>\n",
       "      <td>2</td>\n",
       "      <td>0</td>\n",
       "      <td>2</td>\n",
       "      <td>1</td>\n",
       "      <td>4</td>\n",
       "      <td>9</td>\n",
       "    </tr>\n",
       "    <tr>\n",
       "      <th>11</th>\n",
       "      <td>13</td>\n",
       "      <td>0</td>\n",
       "      <td>1</td>\n",
       "      <td>2</td>\n",
       "      <td>-1</td>\n",
       "      <td>0</td>\n",
       "      <td>3</td>\n",
       "      <td>4</td>\n",
       "    </tr>\n",
       "    <tr>\n",
       "      <th>12</th>\n",
       "      <td>14</td>\n",
       "      <td>0</td>\n",
       "      <td>0</td>\n",
       "      <td>1</td>\n",
       "      <td>-1</td>\n",
       "      <td>1</td>\n",
       "      <td>4</td>\n",
       "      <td>17</td>\n",
       "    </tr>\n",
       "    <tr>\n",
       "      <th>13</th>\n",
       "      <td>15</td>\n",
       "      <td>1</td>\n",
       "      <td>2</td>\n",
       "      <td>1</td>\n",
       "      <td>1</td>\n",
       "      <td>1</td>\n",
       "      <td>4</td>\n",
       "      <td>15</td>\n",
       "    </tr>\n",
       "    <tr>\n",
       "      <th>14</th>\n",
       "      <td>16</td>\n",
       "      <td>0</td>\n",
       "      <td>1</td>\n",
       "      <td>3</td>\n",
       "      <td>-2</td>\n",
       "      <td>0</td>\n",
       "      <td>4</td>\n",
       "      <td>18</td>\n",
       "    </tr>\n",
       "    <tr>\n",
       "      <th>15</th>\n",
       "      <td>17</td>\n",
       "      <td>0</td>\n",
       "      <td>0</td>\n",
       "      <td>1</td>\n",
       "      <td>-1</td>\n",
       "      <td>1</td>\n",
       "      <td>4</td>\n",
       "      <td>15</td>\n",
       "    </tr>\n",
       "    <tr>\n",
       "      <th>16</th>\n",
       "      <td>18</td>\n",
       "      <td>1</td>\n",
       "      <td>2</td>\n",
       "      <td>0</td>\n",
       "      <td>2</td>\n",
       "      <td>0</td>\n",
       "      <td>4</td>\n",
       "      <td>5</td>\n",
       "    </tr>\n",
       "    <tr>\n",
       "      <th>17</th>\n",
       "      <td>19</td>\n",
       "      <td>0</td>\n",
       "      <td>0</td>\n",
       "      <td>2</td>\n",
       "      <td>-2</td>\n",
       "      <td>1</td>\n",
       "      <td>4</td>\n",
       "      <td>17</td>\n",
       "    </tr>\n",
       "    <tr>\n",
       "      <th>18</th>\n",
       "      <td>20</td>\n",
       "      <td>1</td>\n",
       "      <td>2</td>\n",
       "      <td>1</td>\n",
       "      <td>1</td>\n",
       "      <td>0</td>\n",
       "      <td>4</td>\n",
       "      <td>11</td>\n",
       "    </tr>\n",
       "    <tr>\n",
       "      <th>19</th>\n",
       "      <td>21</td>\n",
       "      <td>0</td>\n",
       "      <td>1</td>\n",
       "      <td>1</td>\n",
       "      <td>0</td>\n",
       "      <td>0</td>\n",
       "      <td>4</td>\n",
       "      <td>14</td>\n",
       "    </tr>\n",
       "    <tr>\n",
       "      <th>20</th>\n",
       "      <td>22</td>\n",
       "      <td>1</td>\n",
       "      <td>3</td>\n",
       "      <td>0</td>\n",
       "      <td>3</td>\n",
       "      <td>1</td>\n",
       "      <td>4</td>\n",
       "      <td>15</td>\n",
       "    </tr>\n",
       "    <tr>\n",
       "      <th>21</th>\n",
       "      <td>23</td>\n",
       "      <td>0</td>\n",
       "      <td>0</td>\n",
       "      <td>1</td>\n",
       "      <td>-1</td>\n",
       "      <td>0</td>\n",
       "      <td>4</td>\n",
       "      <td>13</td>\n",
       "    </tr>\n",
       "    <tr>\n",
       "      <th>22</th>\n",
       "      <td>24</td>\n",
       "      <td>0</td>\n",
       "      <td>2</td>\n",
       "      <td>2</td>\n",
       "      <td>0</td>\n",
       "      <td>1</td>\n",
       "      <td>4</td>\n",
       "      <td>10</td>\n",
       "    </tr>\n",
       "    <tr>\n",
       "      <th>23</th>\n",
       "      <td>25</td>\n",
       "      <td>0</td>\n",
       "      <td>2</td>\n",
       "      <td>2</td>\n",
       "      <td>0</td>\n",
       "      <td>0</td>\n",
       "      <td>4</td>\n",
       "      <td>3</td>\n",
       "    </tr>\n",
       "    <tr>\n",
       "      <th>24</th>\n",
       "      <td>26</td>\n",
       "      <td>0</td>\n",
       "      <td>0</td>\n",
       "      <td>2</td>\n",
       "      <td>-2</td>\n",
       "      <td>1</td>\n",
       "      <td>4</td>\n",
       "      <td>7</td>\n",
       "    </tr>\n",
       "    <tr>\n",
       "      <th>25</th>\n",
       "      <td>27</td>\n",
       "      <td>1</td>\n",
       "      <td>2</td>\n",
       "      <td>1</td>\n",
       "      <td>1</td>\n",
       "      <td>1</td>\n",
       "      <td>4</td>\n",
       "      <td>5</td>\n",
       "    </tr>\n",
       "    <tr>\n",
       "      <th>26</th>\n",
       "      <td>28</td>\n",
       "      <td>0</td>\n",
       "      <td>2</td>\n",
       "      <td>2</td>\n",
       "      <td>0</td>\n",
       "      <td>0</td>\n",
       "      <td>4</td>\n",
       "      <td>16</td>\n",
       "    </tr>\n",
       "    <tr>\n",
       "      <th>27</th>\n",
       "      <td>29</td>\n",
       "      <td>1</td>\n",
       "      <td>4</td>\n",
       "      <td>0</td>\n",
       "      <td>4</td>\n",
       "      <td>1</td>\n",
       "      <td>4</td>\n",
       "      <td>11</td>\n",
       "    </tr>\n",
       "  </tbody>\n",
       "</table>\n",
       "</div>"
      ],
      "text/plain": [
       "    jornada  y  goles_for  goles_against  dif_goles  c_v  pos  posc\n",
       "0         2  0          1              1          0    1   19    12\n",
       "1         3  1          3              2          1    0   15    11\n",
       "2         4  0          2              2          0    1   14     9\n",
       "3         5  1          5              2          3    0   11    17\n",
       "4         6  0          1              2         -1    1    6     1\n",
       "5         7  1          2              0          2    1   11    15\n",
       "6         8  1          4              1          3    0    7    14\n",
       "7         9  1          1              0          1    1    5    16\n",
       "8        10  1          4              2          2    0    4     8\n",
       "9        11  1          2              1          1    0    4    20\n",
       "10       12  1          2              0          2    1    4     9\n",
       "11       13  0          1              2         -1    0    3     4\n",
       "12       14  0          0              1         -1    1    4    17\n",
       "13       15  1          2              1          1    1    4    15\n",
       "14       16  0          1              3         -2    0    4    18\n",
       "15       17  0          0              1         -1    1    4    15\n",
       "16       18  1          2              0          2    0    4     5\n",
       "17       19  0          0              2         -2    1    4    17\n",
       "18       20  1          2              1          1    0    4    11\n",
       "19       21  0          1              1          0    0    4    14\n",
       "20       22  1          3              0          3    1    4    15\n",
       "21       23  0          0              1         -1    0    4    13\n",
       "22       24  0          2              2          0    1    4    10\n",
       "23       25  0          2              2          0    0    4     3\n",
       "24       26  0          0              2         -2    1    4     7\n",
       "25       27  1          2              1          1    1    4     5\n",
       "26       28  0          2              2          0    0    4    16\n",
       "27       29  1          4              0          4    1    4    11"
      ]
     },
     "execution_count": 23,
     "metadata": {},
     "output_type": "execute_result"
    }
   ],
   "source": [
    "chelsea_df_final"
   ]
  },
  {
   "cell_type": "markdown",
   "metadata": {},
   "source": [
    "# Estdísticas descriptivas"
   ]
  },
  {
   "cell_type": "code",
   "execution_count": 24,
   "metadata": {},
   "outputs": [
    {
     "data": {
      "text/html": [
       "<div>\n",
       "<style scoped>\n",
       "    .dataframe tbody tr th:only-of-type {\n",
       "        vertical-align: middle;\n",
       "    }\n",
       "\n",
       "    .dataframe tbody tr th {\n",
       "        vertical-align: top;\n",
       "    }\n",
       "\n",
       "    .dataframe thead th {\n",
       "        text-align: right;\n",
       "    }\n",
       "</style>\n",
       "<table border=\"1\" class=\"dataframe\">\n",
       "  <thead>\n",
       "    <tr style=\"text-align: right;\">\n",
       "      <th></th>\n",
       "      <th>jornada</th>\n",
       "      <th>y</th>\n",
       "      <th>goles_for</th>\n",
       "      <th>goles_against</th>\n",
       "      <th>dif_goles</th>\n",
       "      <th>c_v</th>\n",
       "      <th>pos</th>\n",
       "      <th>posc</th>\n",
       "    </tr>\n",
       "  </thead>\n",
       "  <tbody>\n",
       "    <tr>\n",
       "      <th>count</th>\n",
       "      <td>28.000000</td>\n",
       "      <td>28.000000</td>\n",
       "      <td>28.000000</td>\n",
       "      <td>28.000000</td>\n",
       "      <td>28.000000</td>\n",
       "      <td>28.000000</td>\n",
       "      <td>28.000000</td>\n",
       "      <td>28.000000</td>\n",
       "    </tr>\n",
       "    <tr>\n",
       "      <th>mean</th>\n",
       "      <td>15.500000</td>\n",
       "      <td>0.500000</td>\n",
       "      <td>1.821429</td>\n",
       "      <td>1.250000</td>\n",
       "      <td>0.571429</td>\n",
       "      <td>0.535714</td>\n",
       "      <td>5.964286</td>\n",
       "      <td>11.714286</td>\n",
       "    </tr>\n",
       "    <tr>\n",
       "      <th>std</th>\n",
       "      <td>8.225975</td>\n",
       "      <td>0.509175</td>\n",
       "      <td>1.334821</td>\n",
       "      <td>0.844371</td>\n",
       "      <td>1.642685</td>\n",
       "      <td>0.507875</td>\n",
       "      <td>4.086855</td>\n",
       "      <td>5.017430</td>\n",
       "    </tr>\n",
       "    <tr>\n",
       "      <th>min</th>\n",
       "      <td>2.000000</td>\n",
       "      <td>0.000000</td>\n",
       "      <td>0.000000</td>\n",
       "      <td>0.000000</td>\n",
       "      <td>-2.000000</td>\n",
       "      <td>0.000000</td>\n",
       "      <td>3.000000</td>\n",
       "      <td>1.000000</td>\n",
       "    </tr>\n",
       "    <tr>\n",
       "      <th>25%</th>\n",
       "      <td>8.750000</td>\n",
       "      <td>0.000000</td>\n",
       "      <td>1.000000</td>\n",
       "      <td>1.000000</td>\n",
       "      <td>-1.000000</td>\n",
       "      <td>0.000000</td>\n",
       "      <td>4.000000</td>\n",
       "      <td>8.750000</td>\n",
       "    </tr>\n",
       "    <tr>\n",
       "      <th>50%</th>\n",
       "      <td>15.500000</td>\n",
       "      <td>0.500000</td>\n",
       "      <td>2.000000</td>\n",
       "      <td>1.000000</td>\n",
       "      <td>0.500000</td>\n",
       "      <td>1.000000</td>\n",
       "      <td>4.000000</td>\n",
       "      <td>12.500000</td>\n",
       "    </tr>\n",
       "    <tr>\n",
       "      <th>75%</th>\n",
       "      <td>22.250000</td>\n",
       "      <td>1.000000</td>\n",
       "      <td>2.000000</td>\n",
       "      <td>2.000000</td>\n",
       "      <td>2.000000</td>\n",
       "      <td>1.000000</td>\n",
       "      <td>5.250000</td>\n",
       "      <td>15.250000</td>\n",
       "    </tr>\n",
       "    <tr>\n",
       "      <th>max</th>\n",
       "      <td>29.000000</td>\n",
       "      <td>1.000000</td>\n",
       "      <td>5.000000</td>\n",
       "      <td>3.000000</td>\n",
       "      <td>4.000000</td>\n",
       "      <td>1.000000</td>\n",
       "      <td>19.000000</td>\n",
       "      <td>20.000000</td>\n",
       "    </tr>\n",
       "  </tbody>\n",
       "</table>\n",
       "</div>"
      ],
      "text/plain": [
       "         jornada          y  goles_for  goles_against  dif_goles        c_v  \\\n",
       "count  28.000000  28.000000  28.000000      28.000000  28.000000  28.000000   \n",
       "mean   15.500000   0.500000   1.821429       1.250000   0.571429   0.535714   \n",
       "std     8.225975   0.509175   1.334821       0.844371   1.642685   0.507875   \n",
       "min     2.000000   0.000000   0.000000       0.000000  -2.000000   0.000000   \n",
       "25%     8.750000   0.000000   1.000000       1.000000  -1.000000   0.000000   \n",
       "50%    15.500000   0.500000   2.000000       1.000000   0.500000   1.000000   \n",
       "75%    22.250000   1.000000   2.000000       2.000000   2.000000   1.000000   \n",
       "max    29.000000   1.000000   5.000000       3.000000   4.000000   1.000000   \n",
       "\n",
       "             pos       posc  \n",
       "count  28.000000  28.000000  \n",
       "mean    5.964286  11.714286  \n",
       "std     4.086855   5.017430  \n",
       "min     3.000000   1.000000  \n",
       "25%     4.000000   8.750000  \n",
       "50%     4.000000  12.500000  \n",
       "75%     5.250000  15.250000  \n",
       "max    19.000000  20.000000  "
      ]
     },
     "execution_count": 24,
     "metadata": {},
     "output_type": "execute_result"
    }
   ],
   "source": [
    "chelsea_df_final.describe()"
   ]
  },
  {
   "cell_type": "code",
   "execution_count": 25,
   "metadata": {
    "scrolled": true
   },
   "outputs": [
    {
     "data": {
      "text/plain": [
       "jornada          67.666667\n",
       "y                 0.259259\n",
       "goles_for         1.781746\n",
       "goles_against     0.712963\n",
       "dif_goles         2.698413\n",
       "c_v               0.257937\n",
       "pos              16.702381\n",
       "posc             25.174603\n",
       "dtype: float64"
      ]
     },
     "execution_count": 25,
     "metadata": {},
     "output_type": "execute_result"
    }
   ],
   "source": [
    "chelsea_df_final.var()"
   ]
  },
  {
   "cell_type": "code",
   "execution_count": 26,
   "metadata": {},
   "outputs": [
    {
     "data": {
      "text/html": [
       "<div>\n",
       "<style scoped>\n",
       "    .dataframe tbody tr th:only-of-type {\n",
       "        vertical-align: middle;\n",
       "    }\n",
       "\n",
       "    .dataframe tbody tr th {\n",
       "        vertical-align: top;\n",
       "    }\n",
       "\n",
       "    .dataframe thead th {\n",
       "        text-align: right;\n",
       "    }\n",
       "</style>\n",
       "<table border=\"1\" class=\"dataframe\">\n",
       "  <thead>\n",
       "    <tr style=\"text-align: right;\">\n",
       "      <th></th>\n",
       "      <th>jornada</th>\n",
       "      <th>y</th>\n",
       "      <th>goles_for</th>\n",
       "      <th>goles_against</th>\n",
       "      <th>dif_goles</th>\n",
       "      <th>c_v</th>\n",
       "      <th>pos</th>\n",
       "      <th>posc</th>\n",
       "    </tr>\n",
       "  </thead>\n",
       "  <tbody>\n",
       "    <tr>\n",
       "      <th>jornada</th>\n",
       "      <td>1.000000</td>\n",
       "      <td>-0.185695</td>\n",
       "      <td>-0.180459</td>\n",
       "      <td>-0.055989</td>\n",
       "      <td>-0.117859</td>\n",
       "      <td>0.004433</td>\n",
       "      <td>-0.697921</td>\n",
       "      <td>-0.105889</td>\n",
       "    </tr>\n",
       "    <tr>\n",
       "      <th>y</th>\n",
       "      <td>-0.185695</td>\n",
       "      <td>1.000000</td>\n",
       "      <td>0.681171</td>\n",
       "      <td>-0.559950</td>\n",
       "      <td>0.841334</td>\n",
       "      <td>-0.071611</td>\n",
       "      <td>0.026698</td>\n",
       "      <td>0.115979</td>\n",
       "    </tr>\n",
       "    <tr>\n",
       "      <th>goles_for</th>\n",
       "      <td>-0.180459</td>\n",
       "      <td>0.681171</td>\n",
       "      <td>1.000000</td>\n",
       "      <td>-0.090368</td>\n",
       "      <td>0.859035</td>\n",
       "      <td>-0.290727</td>\n",
       "      <td>0.209256</td>\n",
       "      <td>-0.007900</td>\n",
       "    </tr>\n",
       "    <tr>\n",
       "      <th>goles_against</th>\n",
       "      <td>-0.055989</td>\n",
       "      <td>-0.559950</td>\n",
       "      <td>-0.090368</td>\n",
       "      <td>1.000000</td>\n",
       "      <td>-0.587450</td>\n",
       "      <td>-0.323875</td>\n",
       "      <td>0.077813</td>\n",
       "      <td>-0.122391</td>\n",
       "    </tr>\n",
       "    <tr>\n",
       "      <th>dif_goles</th>\n",
       "      <td>-0.117859</td>\n",
       "      <td>0.841334</td>\n",
       "      <td>0.859035</td>\n",
       "      <td>-0.587450</td>\n",
       "      <td>1.000000</td>\n",
       "      <td>-0.069762</td>\n",
       "      <td>0.130041</td>\n",
       "      <td>0.056492</td>\n",
       "    </tr>\n",
       "    <tr>\n",
       "      <th>c_v</th>\n",
       "      <td>0.004433</td>\n",
       "      <td>-0.071611</td>\n",
       "      <td>-0.290727</td>\n",
       "      <td>-0.323875</td>\n",
       "      <td>-0.069762</td>\n",
       "      <td>1.000000</td>\n",
       "      <td>0.098779</td>\n",
       "      <td>-0.024916</td>\n",
       "    </tr>\n",
       "    <tr>\n",
       "      <th>pos</th>\n",
       "      <td>-0.697921</td>\n",
       "      <td>0.026698</td>\n",
       "      <td>0.209256</td>\n",
       "      <td>0.077813</td>\n",
       "      <td>0.130041</td>\n",
       "      <td>0.098779</td>\n",
       "      <td>1.000000</td>\n",
       "      <td>0.048251</td>\n",
       "    </tr>\n",
       "    <tr>\n",
       "      <th>posc</th>\n",
       "      <td>-0.105889</td>\n",
       "      <td>0.115979</td>\n",
       "      <td>-0.007900</td>\n",
       "      <td>-0.122391</td>\n",
       "      <td>0.056492</td>\n",
       "      <td>-0.024916</td>\n",
       "      <td>0.048251</td>\n",
       "      <td>1.000000</td>\n",
       "    </tr>\n",
       "  </tbody>\n",
       "</table>\n",
       "</div>"
      ],
      "text/plain": [
       "                jornada         y  goles_for  goles_against  dif_goles  \\\n",
       "jornada        1.000000 -0.185695  -0.180459      -0.055989  -0.117859   \n",
       "y             -0.185695  1.000000   0.681171      -0.559950   0.841334   \n",
       "goles_for     -0.180459  0.681171   1.000000      -0.090368   0.859035   \n",
       "goles_against -0.055989 -0.559950  -0.090368       1.000000  -0.587450   \n",
       "dif_goles     -0.117859  0.841334   0.859035      -0.587450   1.000000   \n",
       "c_v            0.004433 -0.071611  -0.290727      -0.323875  -0.069762   \n",
       "pos           -0.697921  0.026698   0.209256       0.077813   0.130041   \n",
       "posc          -0.105889  0.115979  -0.007900      -0.122391   0.056492   \n",
       "\n",
       "                    c_v       pos      posc  \n",
       "jornada        0.004433 -0.697921 -0.105889  \n",
       "y             -0.071611  0.026698  0.115979  \n",
       "goles_for     -0.290727  0.209256 -0.007900  \n",
       "goles_against -0.323875  0.077813 -0.122391  \n",
       "dif_goles     -0.069762  0.130041  0.056492  \n",
       "c_v            1.000000  0.098779 -0.024916  \n",
       "pos            0.098779  1.000000  0.048251  \n",
       "posc          -0.024916  0.048251  1.000000  "
      ]
     },
     "execution_count": 26,
     "metadata": {},
     "output_type": "execute_result"
    }
   ],
   "source": [
    "chelsea_df_final.corr()"
   ]
  },
  {
   "cell_type": "markdown",
   "metadata": {},
   "source": [
    "# Gráficos"
   ]
  },
  {
   "cell_type": "code",
   "execution_count": 27,
   "metadata": {},
   "outputs": [
    {
     "data": {
      "text/plain": [
       "<matplotlib.axes._subplots.AxesSubplot at 0x1a27300150>"
      ]
     },
     "execution_count": 27,
     "metadata": {},
     "output_type": "execute_result"
    },
    {
     "data": {
      "image/png": "[encoded data removed]",
      "text/plain": [
       "<Figure size 432x288 with 1 Axes>"
      ]
     },
     "metadata": {
      "needs_background": "light"
     },
     "output_type": "display_data"
    },
    {
     "data": {
      "image/png": "[encoded data removed]",
      "text/plain": [
       "<Figure size 432x288 with 1 Axes>"
      ]
     },
     "metadata": {
      "needs_background": "light"
     },
     "output_type": "display_data"
    },
    {
     "data": {
      "image/png": "[encoded data removed]",
      "text/plain": [
       "<Figure size 432x288 with 1 Axes>"
      ]
     },
     "metadata": {
      "needs_background": "light"
     },
     "output_type": "display_data"
    }
   ],
   "source": [
    "pd.crosstab(chelsea_df_final.goles_for,chelsea_df_final.c_v).plot(kind = 'bar', alpha =0.5)\n",
    "# 0, 1 son los más frecuentes \n",
    "pd.crosstab(chelsea_df_final.y,chelsea_df_final.c_v).plot(kind = 'bar', alpha =0.5)\n",
    "# Chelsea perdió mas veces en casa\n",
    "pd.crosstab(chelsea_df_final.y,chelsea_df_final.posc).plot(kind = 'bar', alpha =0.5)\n",
    "# Ganó 3 veces a la posición 11 y 15"
   ]
  },
  {
   "cell_type": "markdown",
   "metadata": {},
   "source": [
    "# Modelo Logit"
   ]
  },
  {
   "cell_type": "code",
   "execution_count": 28,
   "metadata": {},
   "outputs": [
    {
     "name": "stdout",
     "output_type": "stream",
     "text": [
      "Optimization terminated successfully.\n",
      "         Current function value: 0.303812\n",
      "         Iterations 8\n",
      "                           Logit Regression Results                           \n",
      "==============================================================================\n",
      "Dep. Variable:                      y   No. Observations:                   28\n",
      "Model:                          Logit   Df Residuals:                       23\n",
      "Method:                           MLE   Df Model:                            4\n",
      "Date:                Sun, 24 May 2020   Pseudo R-squ.:                  0.5617\n",
      "Time:                        13:57:33   Log-Likelihood:                -8.5067\n",
      "converged:                       True   LL-Null:                       -19.408\n",
      "Covariance Type:            nonrobust   LLR p-value:                 0.0002194\n",
      "==============================================================================\n",
      "                 coef    std err          z      P>|z|      [0.025      0.975]\n",
      "------------------------------------------------------------------------------\n",
      "const         -6.7981      3.099     -2.194      0.028     -12.872      -0.725\n",
      "pos           -0.1992      0.181     -1.099      0.272      -0.555       0.156\n",
      "c_v            1.5203      1.372      1.108      0.268      -1.168       4.209\n",
      "posc           0.1444      0.128      1.132      0.258      -0.106       0.395\n",
      "goles_for      3.2169      1.304      2.468      0.014       0.662       5.772\n",
      "==============================================================================\n"
     ]
    }
   ],
   "source": [
    "x_chelsea= chelsea_df_final[['pos','c_v','posc','goles_for']]\n",
    "y_chelsea= chelsea_df_final[['y']]\n",
    "x_chelsea= sm.add_constant(x_chelsea)\n",
    "model_chelsea = sm.Logit(y_chelsea, x_chelsea).fit()\n",
    "print(model_chelsea.summary())"
   ]
  },
  {
   "cell_type": "markdown",
   "metadata": {},
   "source": [
    "# Validación Chelsea"
   ]
  },
  {
   "cell_type": "code",
   "execution_count": 29,
   "metadata": {},
   "outputs": [
    {
     "data": {
      "text/plain": [
       "0     0.016097\n",
       "1     0.810481\n",
       "2     0.417482\n",
       "3     0.999929\n",
       "4     0.042626\n",
       "5     0.756040\n",
       "6     0.998767\n",
       "7     0.321667\n",
       "8     0.998387\n",
       "9     0.849082\n",
       "10    0.840112\n",
       "11    0.026568\n",
       "12    0.026099\n",
       "13    0.925918\n",
       "14    0.144504\n",
       "15    0.019680\n",
       "16    0.391988\n",
       "17    0.026099\n",
       "18    0.605298\n",
       "19    0.086584\n",
       "20    0.996804\n",
       "21    0.003277\n",
       "22    0.858573\n",
       "23    0.325675\n",
       "24    0.006283\n",
       "25    0.746751\n",
       "26    0.759459\n",
       "27    0.999771\n",
       "dtype: float64"
      ]
     },
     "execution_count": 29,
     "metadata": {},
     "output_type": "execute_result"
    }
   ],
   "source": [
    "Y_hat_ps = model_chelsea.predict(x_chelsea)\n",
    "Y_hat_ps"
   ]
  },
  {
   "cell_type": "code",
   "execution_count": 30,
   "metadata": {},
   "outputs": [
    {
     "name": "stdout",
     "output_type": "stream",
     "text": [
      "Fitness: 0.8571428571428571\n",
      "14\n",
      "14\n"
     ]
    }
   ],
   "source": [
    "suma_correct = 0\n",
    "suma_y_1 = 0\n",
    "threshold = .5\n",
    "for i in range(28):\n",
    "    true_y = chelsea_df_final[\"y\"][i]\n",
    "    y_hat_p = Y_hat_ps[i]\n",
    "    if y_hat_p >= threshold:\n",
    "        y_hat = 1\n",
    "    else:\n",
    "        y_hat = 0\n",
    "    if true_y == y_hat:\n",
    "        suma_correct += 1\n",
    "    suma_y_1 += y_hat\n",
    "print('Fitness:', suma_correct / 28)\n",
    "print(chelsea_df_final[\"y\"].sum())\n",
    "print(suma_y_1)"
   ]
  },
  {
   "cell_type": "code",
   "execution_count": 31,
   "metadata": {},
   "outputs": [
    {
     "name": "stdout",
     "output_type": "stream",
     "text": [
      "Fitness: 0.8571428571428571\n",
      "14\n",
      "14\n"
     ]
    }
   ],
   "source": [
    "suma_correct = 0\n",
    "suma_y_1 = 0\n",
    "threshold = chelsea_df_final[\"y\"].sum()/28\n",
    "for i in range(28):\n",
    "    y_true=chelsea_df_final[\"y\"][i]\n",
    "    y_hat_p = Y_hat_ps[i]\n",
    "    if y_hat_p >= threshold:\n",
    "        y_hat = 1\n",
    "    else:\n",
    "        y_hat = 0\n",
    "    if y_true == y_hat:\n",
    "        suma_correct += 1\n",
    "    suma_y_1 += y_hat\n",
    "print('Fitness:', suma_correct / 28)\n",
    "print(chelsea_df_final[\"y\"].sum())\n",
    "print(suma_y_1)"
   ]
  },
  {
   "cell_type": "code",
   "execution_count": 32,
   "metadata": {},
   "outputs": [],
   "source": [
    "success_rates = []\n",
    "for threshold in np.linspace(0, 1, 100):\n",
    "    suma_correct = 0\n",
    "    suma_y_1 = 0\n",
    "    for i in range(28):\n",
    "        true_y = chelsea_df_final[\"y\"][i]\n",
    "        y_hat_p = Y_hat_ps[i]\n",
    "        if y_hat_p >= threshold:\n",
    "            y_hat = 1\n",
    "        else:\n",
    "            y_hat = 0\n",
    "        if true_y == y_hat:\n",
    "            suma_correct += 1\n",
    "        suma_y_1 += y_hat\n",
    "    success_rate = suma_y_1 / 28\n",
    "    success_rates.append(success_rate)"
   ]
  },
  {
   "cell_type": "code",
   "execution_count": 33,
   "metadata": {
    "scrolled": false
   },
   "outputs": [
    {
     "data": {
      "image/png": "[encoded data removed]",
      "text/plain": [
       "<Figure size 720x360 with 1 Axes>"
      ]
     },
     "metadata": {
      "needs_background": "light"
     },
     "output_type": "display_data"
    },
    {
     "name": "stdout",
     "output_type": "stream",
     "text": [
      "\n",
      "Done!\n"
     ]
    }
   ],
   "source": [
    "fig = plt.figure(figsize=(10, 5))\n",
    "axis = plt.gca()\n",
    "plt.plot(list(np.linspace(0, 1, 100)), success_rates)\n",
    "plt.axhline(chelsea_df_final[\"y\"].sum() / 28, color='red', linewidth=1)\n",
    "plt.xlim(0, 1)\n",
    "fig.tight_layout()\n",
    "plt.show()\n",
    "plt.close(plt.gcf())\n",
    "print('\\nDone!')"
   ]
  },
  {
   "cell_type": "markdown",
   "metadata": {},
   "source": [
    "# Cambios marginales"
   ]
  },
  {
   "cell_type": "code",
   "execution_count": 34,
   "metadata": {
    "scrolled": true
   },
   "outputs": [
    {
     "name": "stdout",
     "output_type": "stream",
     "text": [
      "PEA         Logit Marginal Effects       \n",
      "=====================================\n",
      "Dep. Variable:                      y\n",
      "Method:                          dydx\n",
      "At:                              mean\n",
      "==============================================================================\n",
      "                dy/dx    std err          z      P>|z|      [0.025      0.975]\n",
      "------------------------------------------------------------------------------\n",
      "pos           -0.0481      0.043     -1.112      0.266      -0.133       0.037\n",
      "c_v            0.3667      0.326      1.124      0.261      -0.273       1.006\n",
      "posc           0.0348      0.030      1.150      0.250      -0.025       0.094\n",
      "goles_for      0.7760      0.314      2.469      0.014       0.160       1.392\n",
      "==============================================================================\n"
     ]
    }
   ],
   "source": [
    "print(\"PEA\",model_chelsea.get_margeff(at=\"mean\").summary())"
   ]
  },
  {
   "cell_type": "markdown",
   "metadata": {},
   "source": [
    "# PEA: ¿Cómo afecta a Chelsea jugar en casa o de visita?"
   ]
  },
  {
   "cell_type": "code",
   "execution_count": 35,
   "metadata": {},
   "outputs": [
    {
     "data": {
      "text/plain": [
       "0.35457696616609313"
      ]
     },
     "execution_count": 35,
     "metadata": {},
     "output_type": "execute_result"
    }
   ],
   "source": [
    "sigmoide_G(-6.7981-0.1992*5.964286+0.1444*11.714286+3.2169*1.821429+1.5203*1) - sigmoide_G(-6.7981-0.1992*5.964286+0.1444*11.714286+3.2169*1.821429+1.5203*0)"
   ]
  },
  {
   "cell_type": "markdown",
   "metadata": {},
   "source": [
    "# PEA: Probabilidad de ganar si juega con un contrincante 5 posiciones abajo "
   ]
  },
  {
   "cell_type": "code",
   "execution_count": 36,
   "metadata": {
    "scrolled": true
   },
   "outputs": [
    {
     "data": {
      "text/plain": [
       "0.5396526186669921"
      ]
     },
     "execution_count": 36,
     "metadata": {},
     "output_type": "execute_result"
    }
   ],
   "source": [
    "sigmoide_G(-6.7981-0.1992*5.964286+0.1444*11.714286+3.2169*1.821429+1.5203*1)*(0.1444)*(5)"
   ]
  },
  {
   "cell_type": "markdown",
   "metadata": {},
   "source": [
    "# PEA: Probabilidad de ganar si juega con un contrincante 3 posiciones arriba"
   ]
  },
  {
   "cell_type": "code",
   "execution_count": 37,
   "metadata": {
    "scrolled": true
   },
   "outputs": [
    {
     "data": {
      "text/plain": [
       "-0.1488903069784831"
      ]
     },
     "execution_count": 37,
     "metadata": {},
     "output_type": "execute_result"
    }
   ],
   "source": [
    "sigmoide_G(-6.7981-0.1992*5.964286+0.1444*11.714286+3.2169*1.821429+1.5203*1)*(-0.1992)*(1)"
   ]
  },
  {
   "cell_type": "markdown",
   "metadata": {},
   "source": [
    "# Tottenham "
   ]
  },
  {
   "cell_type": "code",
   "execution_count": 38,
   "metadata": {},
   "outputs": [
    {
     "data": {
      "text/html": [
       "<div>\n",
       "<style scoped>\n",
       "    .dataframe tbody tr th:only-of-type {\n",
       "        vertical-align: middle;\n",
       "    }\n",
       "\n",
       "    .dataframe tbody tr th {\n",
       "        vertical-align: top;\n",
       "    }\n",
       "\n",
       "    .dataframe thead th {\n",
       "        text-align: right;\n",
       "    }\n",
       "</style>\n",
       "<table border=\"1\" class=\"dataframe\">\n",
       "  <thead>\n",
       "    <tr style=\"text-align: right;\">\n",
       "      <th></th>\n",
       "      <th>jornada</th>\n",
       "      <th>y</th>\n",
       "      <th>goles_favor</th>\n",
       "      <th>goles_contra</th>\n",
       "      <th>dif_goles</th>\n",
       "      <th>c_v</th>\n",
       "      <th>pos</th>\n",
       "      <th>posc</th>\n",
       "    </tr>\n",
       "  </thead>\n",
       "  <tbody>\n",
       "    <tr>\n",
       "      <th>0</th>\n",
       "      <td>2</td>\n",
       "      <td>0</td>\n",
       "      <td>2</td>\n",
       "      <td>2</td>\n",
       "      <td>0</td>\n",
       "      <td>0</td>\n",
       "      <td>6</td>\n",
       "      <td>1</td>\n",
       "    </tr>\n",
       "    <tr>\n",
       "      <th>1</th>\n",
       "      <td>3</td>\n",
       "      <td>0</td>\n",
       "      <td>0</td>\n",
       "      <td>1</td>\n",
       "      <td>-1</td>\n",
       "      <td>1</td>\n",
       "      <td>6</td>\n",
       "      <td>18</td>\n",
       "    </tr>\n",
       "    <tr>\n",
       "      <th>2</th>\n",
       "      <td>4</td>\n",
       "      <td>0</td>\n",
       "      <td>2</td>\n",
       "      <td>2</td>\n",
       "      <td>0</td>\n",
       "      <td>0</td>\n",
       "      <td>7</td>\n",
       "      <td>3</td>\n",
       "    </tr>\n",
       "    <tr>\n",
       "      <th>3</th>\n",
       "      <td>5</td>\n",
       "      <td>1</td>\n",
       "      <td>4</td>\n",
       "      <td>0</td>\n",
       "      <td>4</td>\n",
       "      <td>1</td>\n",
       "      <td>9</td>\n",
       "      <td>4</td>\n",
       "    </tr>\n",
       "    <tr>\n",
       "      <th>4</th>\n",
       "      <td>6</td>\n",
       "      <td>0</td>\n",
       "      <td>1</td>\n",
       "      <td>2</td>\n",
       "      <td>-1</td>\n",
       "      <td>0</td>\n",
       "      <td>3</td>\n",
       "      <td>5</td>\n",
       "    </tr>\n",
       "    <tr>\n",
       "      <th>5</th>\n",
       "      <td>7</td>\n",
       "      <td>1</td>\n",
       "      <td>2</td>\n",
       "      <td>1</td>\n",
       "      <td>1</td>\n",
       "      <td>1</td>\n",
       "      <td>7</td>\n",
       "      <td>13</td>\n",
       "    </tr>\n",
       "    <tr>\n",
       "      <th>6</th>\n",
       "      <td>8</td>\n",
       "      <td>0</td>\n",
       "      <td>0</td>\n",
       "      <td>3</td>\n",
       "      <td>-3</td>\n",
       "      <td>0</td>\n",
       "      <td>6</td>\n",
       "      <td>16</td>\n",
       "    </tr>\n",
       "    <tr>\n",
       "      <th>7</th>\n",
       "      <td>9</td>\n",
       "      <td>0</td>\n",
       "      <td>1</td>\n",
       "      <td>1</td>\n",
       "      <td>0</td>\n",
       "      <td>1</td>\n",
       "      <td>9</td>\n",
       "      <td>20</td>\n",
       "    </tr>\n",
       "    <tr>\n",
       "      <th>8</th>\n",
       "      <td>10</td>\n",
       "      <td>0</td>\n",
       "      <td>1</td>\n",
       "      <td>2</td>\n",
       "      <td>-1</td>\n",
       "      <td>0</td>\n",
       "      <td>7</td>\n",
       "      <td>1</td>\n",
       "    </tr>\n",
       "    <tr>\n",
       "      <th>9</th>\n",
       "      <td>11</td>\n",
       "      <td>0</td>\n",
       "      <td>1</td>\n",
       "      <td>1</td>\n",
       "      <td>0</td>\n",
       "      <td>0</td>\n",
       "      <td>11</td>\n",
       "      <td>16</td>\n",
       "    </tr>\n",
       "    <tr>\n",
       "      <th>10</th>\n",
       "      <td>12</td>\n",
       "      <td>0</td>\n",
       "      <td>1</td>\n",
       "      <td>1</td>\n",
       "      <td>0</td>\n",
       "      <td>1</td>\n",
       "      <td>11</td>\n",
       "      <td>6</td>\n",
       "    </tr>\n",
       "    <tr>\n",
       "      <th>11</th>\n",
       "      <td>13</td>\n",
       "      <td>1</td>\n",
       "      <td>3</td>\n",
       "      <td>2</td>\n",
       "      <td>1</td>\n",
       "      <td>0</td>\n",
       "      <td>14</td>\n",
       "      <td>16</td>\n",
       "    </tr>\n",
       "    <tr>\n",
       "      <th>12</th>\n",
       "      <td>14</td>\n",
       "      <td>1</td>\n",
       "      <td>3</td>\n",
       "      <td>2</td>\n",
       "      <td>1</td>\n",
       "      <td>1</td>\n",
       "      <td>10</td>\n",
       "      <td>11</td>\n",
       "    </tr>\n",
       "    <tr>\n",
       "      <th>13</th>\n",
       "      <td>15</td>\n",
       "      <td>0</td>\n",
       "      <td>1</td>\n",
       "      <td>2</td>\n",
       "      <td>-1</td>\n",
       "      <td>0</td>\n",
       "      <td>5</td>\n",
       "      <td>9</td>\n",
       "    </tr>\n",
       "    <tr>\n",
       "      <th>14</th>\n",
       "      <td>16</td>\n",
       "      <td>1</td>\n",
       "      <td>5</td>\n",
       "      <td>0</td>\n",
       "      <td>5</td>\n",
       "      <td>1</td>\n",
       "      <td>8</td>\n",
       "      <td>12</td>\n",
       "    </tr>\n",
       "    <tr>\n",
       "      <th>15</th>\n",
       "      <td>17</td>\n",
       "      <td>1</td>\n",
       "      <td>2</td>\n",
       "      <td>1</td>\n",
       "      <td>1</td>\n",
       "      <td>0</td>\n",
       "      <td>7</td>\n",
       "      <td>6</td>\n",
       "    </tr>\n",
       "    <tr>\n",
       "      <th>16</th>\n",
       "      <td>18</td>\n",
       "      <td>0</td>\n",
       "      <td>0</td>\n",
       "      <td>2</td>\n",
       "      <td>-2</td>\n",
       "      <td>1</td>\n",
       "      <td>5</td>\n",
       "      <td>4</td>\n",
       "    </tr>\n",
       "    <tr>\n",
       "      <th>17</th>\n",
       "      <td>19</td>\n",
       "      <td>1</td>\n",
       "      <td>2</td>\n",
       "      <td>1</td>\n",
       "      <td>1</td>\n",
       "      <td>1</td>\n",
       "      <td>7</td>\n",
       "      <td>13</td>\n",
       "    </tr>\n",
       "    <tr>\n",
       "      <th>18</th>\n",
       "      <td>20</td>\n",
       "      <td>0</td>\n",
       "      <td>2</td>\n",
       "      <td>2</td>\n",
       "      <td>0</td>\n",
       "      <td>0</td>\n",
       "      <td>6</td>\n",
       "      <td>20</td>\n",
       "    </tr>\n",
       "    <tr>\n",
       "      <th>19</th>\n",
       "      <td>21</td>\n",
       "      <td>0</td>\n",
       "      <td>0</td>\n",
       "      <td>1</td>\n",
       "      <td>-1</td>\n",
       "      <td>0</td>\n",
       "      <td>6</td>\n",
       "      <td>15</td>\n",
       "    </tr>\n",
       "    <tr>\n",
       "      <th>20</th>\n",
       "      <td>22</td>\n",
       "      <td>0</td>\n",
       "      <td>0</td>\n",
       "      <td>1</td>\n",
       "      <td>-1</td>\n",
       "      <td>1</td>\n",
       "      <td>6</td>\n",
       "      <td>1</td>\n",
       "    </tr>\n",
       "    <tr>\n",
       "      <th>21</th>\n",
       "      <td>23</td>\n",
       "      <td>0</td>\n",
       "      <td>0</td>\n",
       "      <td>0</td>\n",
       "      <td>0</td>\n",
       "      <td>0</td>\n",
       "      <td>8</td>\n",
       "      <td>17</td>\n",
       "    </tr>\n",
       "    <tr>\n",
       "      <th>22</th>\n",
       "      <td>24</td>\n",
       "      <td>1</td>\n",
       "      <td>2</td>\n",
       "      <td>1</td>\n",
       "      <td>1</td>\n",
       "      <td>1</td>\n",
       "      <td>8</td>\n",
       "      <td>20</td>\n",
       "    </tr>\n",
       "    <tr>\n",
       "      <th>23</th>\n",
       "      <td>25</td>\n",
       "      <td>1</td>\n",
       "      <td>2</td>\n",
       "      <td>0</td>\n",
       "      <td>2</td>\n",
       "      <td>1</td>\n",
       "      <td>6</td>\n",
       "      <td>2</td>\n",
       "    </tr>\n",
       "    <tr>\n",
       "      <th>24</th>\n",
       "      <td>26</td>\n",
       "      <td>1</td>\n",
       "      <td>3</td>\n",
       "      <td>2</td>\n",
       "      <td>1</td>\n",
       "      <td>0</td>\n",
       "      <td>5</td>\n",
       "      <td>17</td>\n",
       "    </tr>\n",
       "    <tr>\n",
       "      <th>25</th>\n",
       "      <td>27</td>\n",
       "      <td>0</td>\n",
       "      <td>1</td>\n",
       "      <td>2</td>\n",
       "      <td>-1</td>\n",
       "      <td>0</td>\n",
       "      <td>5</td>\n",
       "      <td>4</td>\n",
       "    </tr>\n",
       "    <tr>\n",
       "      <th>26</th>\n",
       "      <td>28</td>\n",
       "      <td>0</td>\n",
       "      <td>2</td>\n",
       "      <td>3</td>\n",
       "      <td>-1</td>\n",
       "      <td>1</td>\n",
       "      <td>6</td>\n",
       "      <td>8</td>\n",
       "    </tr>\n",
       "    <tr>\n",
       "      <th>27</th>\n",
       "      <td>29</td>\n",
       "      <td>0</td>\n",
       "      <td>1</td>\n",
       "      <td>1</td>\n",
       "      <td>0</td>\n",
       "      <td>0</td>\n",
       "      <td>7</td>\n",
       "      <td>9</td>\n",
       "    </tr>\n",
       "  </tbody>\n",
       "</table>\n",
       "</div>"
      ],
      "text/plain": [
       "    jornada  y  goles_favor  goles_contra  dif_goles  c_v  pos  posc\n",
       "0         2  0            2             2          0    0    6     1\n",
       "1         3  0            0             1         -1    1    6    18\n",
       "2         4  0            2             2          0    0    7     3\n",
       "3         5  1            4             0          4    1    9     4\n",
       "4         6  0            1             2         -1    0    3     5\n",
       "5         7  1            2             1          1    1    7    13\n",
       "6         8  0            0             3         -3    0    6    16\n",
       "7         9  0            1             1          0    1    9    20\n",
       "8        10  0            1             2         -1    0    7     1\n",
       "9        11  0            1             1          0    0   11    16\n",
       "10       12  0            1             1          0    1   11     6\n",
       "11       13  1            3             2          1    0   14    16\n",
       "12       14  1            3             2          1    1   10    11\n",
       "13       15  0            1             2         -1    0    5     9\n",
       "14       16  1            5             0          5    1    8    12\n",
       "15       17  1            2             1          1    0    7     6\n",
       "16       18  0            0             2         -2    1    5     4\n",
       "17       19  1            2             1          1    1    7    13\n",
       "18       20  0            2             2          0    0    6    20\n",
       "19       21  0            0             1         -1    0    6    15\n",
       "20       22  0            0             1         -1    1    6     1\n",
       "21       23  0            0             0          0    0    8    17\n",
       "22       24  1            2             1          1    1    8    20\n",
       "23       25  1            2             0          2    1    6     2\n",
       "24       26  1            3             2          1    0    5    17\n",
       "25       27  0            1             2         -1    0    5     4\n",
       "26       28  0            2             3         -1    1    6     8\n",
       "27       29  0            1             1          0    0    7     9"
      ]
     },
     "execution_count": 38,
     "metadata": {},
     "output_type": "execute_result"
    }
   ],
   "source": [
    "tottenham_df_final"
   ]
  },
  {
   "cell_type": "markdown",
   "metadata": {},
   "source": [
    "# Estadísticas descriptivas"
   ]
  },
  {
   "cell_type": "code",
   "execution_count": 39,
   "metadata": {},
   "outputs": [
    {
     "data": {
      "text/html": [
       "<div>\n",
       "<style scoped>\n",
       "    .dataframe tbody tr th:only-of-type {\n",
       "        vertical-align: middle;\n",
       "    }\n",
       "\n",
       "    .dataframe tbody tr th {\n",
       "        vertical-align: top;\n",
       "    }\n",
       "\n",
       "    .dataframe thead th {\n",
       "        text-align: right;\n",
       "    }\n",
       "</style>\n",
       "<table border=\"1\" class=\"dataframe\">\n",
       "  <thead>\n",
       "    <tr style=\"text-align: right;\">\n",
       "      <th></th>\n",
       "      <th>jornada</th>\n",
       "      <th>y</th>\n",
       "      <th>goles_favor</th>\n",
       "      <th>goles_contra</th>\n",
       "      <th>dif_goles</th>\n",
       "      <th>c_v</th>\n",
       "      <th>pos</th>\n",
       "      <th>posc</th>\n",
       "    </tr>\n",
       "  </thead>\n",
       "  <tbody>\n",
       "    <tr>\n",
       "      <th>count</th>\n",
       "      <td>28.000000</td>\n",
       "      <td>28.000000</td>\n",
       "      <td>28.000000</td>\n",
       "      <td>28.000000</td>\n",
       "      <td>28.000000</td>\n",
       "      <td>28.000000</td>\n",
       "      <td>28.000000</td>\n",
       "      <td>28.000000</td>\n",
       "    </tr>\n",
       "    <tr>\n",
       "      <th>mean</th>\n",
       "      <td>15.500000</td>\n",
       "      <td>0.357143</td>\n",
       "      <td>1.571429</td>\n",
       "      <td>1.392857</td>\n",
       "      <td>0.178571</td>\n",
       "      <td>0.464286</td>\n",
       "      <td>7.178571</td>\n",
       "      <td>10.250000</td>\n",
       "    </tr>\n",
       "    <tr>\n",
       "      <th>std</th>\n",
       "      <td>8.225975</td>\n",
       "      <td>0.487950</td>\n",
       "      <td>1.259882</td>\n",
       "      <td>0.831745</td>\n",
       "      <td>1.634208</td>\n",
       "      <td>0.507875</td>\n",
       "      <td>2.277971</td>\n",
       "      <td>6.507119</td>\n",
       "    </tr>\n",
       "    <tr>\n",
       "      <th>min</th>\n",
       "      <td>2.000000</td>\n",
       "      <td>0.000000</td>\n",
       "      <td>0.000000</td>\n",
       "      <td>0.000000</td>\n",
       "      <td>-3.000000</td>\n",
       "      <td>0.000000</td>\n",
       "      <td>3.000000</td>\n",
       "      <td>1.000000</td>\n",
       "    </tr>\n",
       "    <tr>\n",
       "      <th>25%</th>\n",
       "      <td>8.750000</td>\n",
       "      <td>0.000000</td>\n",
       "      <td>1.000000</td>\n",
       "      <td>1.000000</td>\n",
       "      <td>-1.000000</td>\n",
       "      <td>0.000000</td>\n",
       "      <td>6.000000</td>\n",
       "      <td>4.000000</td>\n",
       "    </tr>\n",
       "    <tr>\n",
       "      <th>50%</th>\n",
       "      <td>15.500000</td>\n",
       "      <td>0.000000</td>\n",
       "      <td>1.500000</td>\n",
       "      <td>1.000000</td>\n",
       "      <td>0.000000</td>\n",
       "      <td>0.000000</td>\n",
       "      <td>7.000000</td>\n",
       "      <td>10.000000</td>\n",
       "    </tr>\n",
       "    <tr>\n",
       "      <th>75%</th>\n",
       "      <td>22.250000</td>\n",
       "      <td>1.000000</td>\n",
       "      <td>2.000000</td>\n",
       "      <td>2.000000</td>\n",
       "      <td>1.000000</td>\n",
       "      <td>1.000000</td>\n",
       "      <td>8.000000</td>\n",
       "      <td>16.000000</td>\n",
       "    </tr>\n",
       "    <tr>\n",
       "      <th>max</th>\n",
       "      <td>29.000000</td>\n",
       "      <td>1.000000</td>\n",
       "      <td>5.000000</td>\n",
       "      <td>3.000000</td>\n",
       "      <td>5.000000</td>\n",
       "      <td>1.000000</td>\n",
       "      <td>14.000000</td>\n",
       "      <td>20.000000</td>\n",
       "    </tr>\n",
       "  </tbody>\n",
       "</table>\n",
       "</div>"
      ],
      "text/plain": [
       "         jornada          y  goles_favor  goles_contra  dif_goles        c_v  \\\n",
       "count  28.000000  28.000000    28.000000     28.000000  28.000000  28.000000   \n",
       "mean   15.500000   0.357143     1.571429      1.392857   0.178571   0.464286   \n",
       "std     8.225975   0.487950     1.259882      0.831745   1.634208   0.507875   \n",
       "min     2.000000   0.000000     0.000000      0.000000  -3.000000   0.000000   \n",
       "25%     8.750000   0.000000     1.000000      1.000000  -1.000000   0.000000   \n",
       "50%    15.500000   0.000000     1.500000      1.000000   0.000000   0.000000   \n",
       "75%    22.250000   1.000000     2.000000      2.000000   1.000000   1.000000   \n",
       "max    29.000000   1.000000     5.000000      3.000000   5.000000   1.000000   \n",
       "\n",
       "             pos       posc  \n",
       "count  28.000000  28.000000  \n",
       "mean    7.178571  10.250000  \n",
       "std     2.277971   6.507119  \n",
       "min     3.000000   1.000000  \n",
       "25%     6.000000   4.000000  \n",
       "50%     7.000000  10.000000  \n",
       "75%     8.000000  16.000000  \n",
       "max    14.000000  20.000000  "
      ]
     },
     "execution_count": 39,
     "metadata": {},
     "output_type": "execute_result"
    }
   ],
   "source": [
    "tottenham_df_final.describe()"
   ]
  },
  {
   "cell_type": "code",
   "execution_count": 40,
   "metadata": {},
   "outputs": [
    {
     "data": {
      "text/plain": [
       "jornada         67.666667\n",
       "y                0.238095\n",
       "goles_favor      1.587302\n",
       "goles_contra     0.691799\n",
       "dif_goles        2.670635\n",
       "c_v              0.257937\n",
       "pos              5.189153\n",
       "posc            42.342593\n",
       "dtype: float64"
      ]
     },
     "execution_count": 40,
     "metadata": {},
     "output_type": "execute_result"
    }
   ],
   "source": [
    "tottenham_df_final.var()"
   ]
  },
  {
   "cell_type": "code",
   "execution_count": 41,
   "metadata": {},
   "outputs": [
    {
     "data": {
      "text/html": [
       "<div>\n",
       "<style scoped>\n",
       "    .dataframe tbody tr th:only-of-type {\n",
       "        vertical-align: middle;\n",
       "    }\n",
       "\n",
       "    .dataframe tbody tr th {\n",
       "        vertical-align: top;\n",
       "    }\n",
       "\n",
       "    .dataframe thead th {\n",
       "        text-align: right;\n",
       "    }\n",
       "</style>\n",
       "<table border=\"1\" class=\"dataframe\">\n",
       "  <thead>\n",
       "    <tr style=\"text-align: right;\">\n",
       "      <th></th>\n",
       "      <th>jornada</th>\n",
       "      <th>y</th>\n",
       "      <th>goles_favor</th>\n",
       "      <th>goles_contra</th>\n",
       "      <th>dif_goles</th>\n",
       "      <th>c_v</th>\n",
       "      <th>pos</th>\n",
       "      <th>posc</th>\n",
       "    </tr>\n",
       "  </thead>\n",
       "  <tbody>\n",
       "    <tr>\n",
       "      <th>jornada</th>\n",
       "      <td>1.000000</td>\n",
       "      <td>0.101500</td>\n",
       "      <td>-0.042885</td>\n",
       "      <td>-0.067666</td>\n",
       "      <td>0.001378</td>\n",
       "      <td>0.004433</td>\n",
       "      <td>-0.170969</td>\n",
       "      <td>0.089605</td>\n",
       "    </tr>\n",
       "    <tr>\n",
       "      <th>y</th>\n",
       "      <td>0.101500</td>\n",
       "      <td>1.000000</td>\n",
       "      <td>0.740170</td>\n",
       "      <td>-0.358514</td>\n",
       "      <td>0.753098</td>\n",
       "      <td>0.352282</td>\n",
       "      <td>0.307025</td>\n",
       "      <td>0.134144</td>\n",
       "    </tr>\n",
       "    <tr>\n",
       "      <th>goles_favor</th>\n",
       "      <td>-0.042885</td>\n",
       "      <td>0.740170</td>\n",
       "      <td>1.000000</td>\n",
       "      <td>-0.186819</td>\n",
       "      <td>0.866026</td>\n",
       "      <td>0.206725</td>\n",
       "      <td>0.324469</td>\n",
       "      <td>-0.004518</td>\n",
       "    </tr>\n",
       "    <tr>\n",
       "      <th>goles_contra</th>\n",
       "      <td>-0.067666</td>\n",
       "      <td>-0.358514</td>\n",
       "      <td>-0.186819</td>\n",
       "      <td>1.000000</td>\n",
       "      <td>-0.652985</td>\n",
       "      <td>-0.360105</td>\n",
       "      <td>-0.253423</td>\n",
       "      <td>-0.059878</td>\n",
       "    </tr>\n",
       "    <tr>\n",
       "      <th>dif_goles</th>\n",
       "      <td>0.001378</td>\n",
       "      <td>0.753098</td>\n",
       "      <td>0.866026</td>\n",
       "      <td>-0.652985</td>\n",
       "      <td>1.000000</td>\n",
       "      <td>0.342652</td>\n",
       "      <td>0.379129</td>\n",
       "      <td>0.026992</td>\n",
       "    </tr>\n",
       "    <tr>\n",
       "      <th>c_v</th>\n",
       "      <td>0.004433</td>\n",
       "      <td>0.352282</td>\n",
       "      <td>0.206725</td>\n",
       "      <td>-0.360105</td>\n",
       "      <td>0.342652</td>\n",
       "      <td>1.000000</td>\n",
       "      <td>0.149777</td>\n",
       "      <td>-0.014009</td>\n",
       "    </tr>\n",
       "    <tr>\n",
       "      <th>pos</th>\n",
       "      <td>-0.170969</td>\n",
       "      <td>0.307025</td>\n",
       "      <td>0.324469</td>\n",
       "      <td>-0.253423</td>\n",
       "      <td>0.379129</td>\n",
       "      <td>0.149777</td>\n",
       "      <td>1.000000</td>\n",
       "      <td>0.274223</td>\n",
       "    </tr>\n",
       "    <tr>\n",
       "      <th>posc</th>\n",
       "      <td>0.089605</td>\n",
       "      <td>0.134144</td>\n",
       "      <td>-0.004518</td>\n",
       "      <td>-0.059878</td>\n",
       "      <td>0.026992</td>\n",
       "      <td>-0.014009</td>\n",
       "      <td>0.274223</td>\n",
       "      <td>1.000000</td>\n",
       "    </tr>\n",
       "  </tbody>\n",
       "</table>\n",
       "</div>"
      ],
      "text/plain": [
       "               jornada         y  goles_favor  goles_contra  dif_goles  \\\n",
       "jornada       1.000000  0.101500    -0.042885     -0.067666   0.001378   \n",
       "y             0.101500  1.000000     0.740170     -0.358514   0.753098   \n",
       "goles_favor  -0.042885  0.740170     1.000000     -0.186819   0.866026   \n",
       "goles_contra -0.067666 -0.358514    -0.186819      1.000000  -0.652985   \n",
       "dif_goles     0.001378  0.753098     0.866026     -0.652985   1.000000   \n",
       "c_v           0.004433  0.352282     0.206725     -0.360105   0.342652   \n",
       "pos          -0.170969  0.307025     0.324469     -0.253423   0.379129   \n",
       "posc          0.089605  0.134144    -0.004518     -0.059878   0.026992   \n",
       "\n",
       "                   c_v       pos      posc  \n",
       "jornada       0.004433 -0.170969  0.089605  \n",
       "y             0.352282  0.307025  0.134144  \n",
       "goles_favor   0.206725  0.324469 -0.004518  \n",
       "goles_contra -0.360105 -0.253423 -0.059878  \n",
       "dif_goles     0.342652  0.379129  0.026992  \n",
       "c_v           1.000000  0.149777 -0.014009  \n",
       "pos           0.149777  1.000000  0.274223  \n",
       "posc         -0.014009  0.274223  1.000000  "
      ]
     },
     "execution_count": 41,
     "metadata": {},
     "output_type": "execute_result"
    }
   ],
   "source": [
    "tottenham_df_final.corr()"
   ]
  },
  {
   "cell_type": "markdown",
   "metadata": {},
   "source": [
    "# Gráficos "
   ]
  },
  {
   "cell_type": "code",
   "execution_count": 42,
   "metadata": {
    "scrolled": true
   },
   "outputs": [
    {
     "data": {
      "text/plain": [
       "<matplotlib.axes._subplots.AxesSubplot at 0x1a27875ad0>"
      ]
     },
     "execution_count": 42,
     "metadata": {},
     "output_type": "execute_result"
    },
    {
     "data": {
      "image/png": "[encoded data removed]",
      "text/plain": [
       "<Figure size 432x288 with 1 Axes>"
      ]
     },
     "metadata": {
      "needs_background": "light"
     },
     "output_type": "display_data"
    },
    {
     "data": {
      "image/png": "[encoded data removed]",
      "text/plain": [
       "<Figure size 432x288 with 1 Axes>"
      ]
     },
     "metadata": {
      "needs_background": "light"
     },
     "output_type": "display_data"
    },
    {
     "data": {
      "image/png": "[encoded data removed]",
      "text/plain": [
       "<Figure size 432x288 with 1 Axes>"
      ]
     },
     "metadata": {
      "needs_background": "light"
     },
     "output_type": "display_data"
    }
   ],
   "source": [
    "pd.crosstab(tottenham_df_final.goles_favor,tottenham_df_final.c_v).plot(kind = 'bar', alpha =0.5)\n",
    "# De visita únicamente ganó 3 veces \n",
    "pd.crosstab(tottenham_df_final.y,tottenham_df_final.c_v).plot(kind = 'bar', alpha =0.5)\n",
    "# Perdió o empató 12 veces de visita \n",
    "pd.crosstab(tottenham_df_final.y,tottenham_df_final.posc).plot(kind = 'bar', alpha =0.5)\n"
   ]
  },
  {
   "cell_type": "markdown",
   "metadata": {},
   "source": [
    "# Modelo Logit"
   ]
  },
  {
   "cell_type": "code",
   "execution_count": 43,
   "metadata": {},
   "outputs": [
    {
     "name": "stdout",
     "output_type": "stream",
     "text": [
      "Warning: Maximum number of iterations has been exceeded.\n",
      "         Current function value: 0.091708\n",
      "         Iterations: 35\n",
      "                           Logit Regression Results                           \n",
      "==============================================================================\n",
      "Dep. Variable:                      y   No. Observations:                   28\n",
      "Model:                          Logit   Df Residuals:                       23\n",
      "Method:                           MLE   Df Model:                            4\n",
      "Date:                Sun, 24 May 2020   Pseudo R-squ.:                  0.8593\n",
      "Time:                        13:57:35   Log-Likelihood:                -2.5678\n",
      "converged:                      False   LL-Null:                       -18.249\n",
      "Covariance Type:            nonrobust   LLR p-value:                 2.582e-06\n",
      "===============================================================================\n",
      "                  coef    std err          z      P>|z|      [0.025      0.975]\n",
      "-------------------------------------------------------------------------------\n",
      "const        -333.5469   6.73e+05     -0.000      1.000   -1.32e+06    1.32e+06\n",
      "pos            16.7331    929.172      0.018      0.986   -1804.410    1837.876\n",
      "c_v            16.8730    929.173      0.018      0.986   -1804.272    1838.018\n",
      "posc           -0.2797      0.453     -0.617      0.537      -1.168       0.608\n",
      "goles_favor   108.8371   3.36e+05      0.000      1.000   -6.59e+05    6.59e+05\n",
      "===============================================================================\n",
      "\n",
      "Possibly complete quasi-separation: A fraction 0.86 of observations can be\n",
      "perfectly predicted. This might indicate that there is complete\n",
      "quasi-separation. In this case some parameters will not be identified.\n"
     ]
    },
    {
     "name": "stderr",
     "output_type": "stream",
     "text": [
      "/opt/anaconda3/lib/python3.7/site-packages/statsmodels/base/model.py:568: ConvergenceWarning: Maximum Likelihood optimization failed to converge. Check mle_retvals\n",
      "  \"Check mle_retvals\", ConvergenceWarning)\n"
     ]
    }
   ],
   "source": [
    "x_tot= tottenham_df_final[['pos','c_v','posc','goles_favor']]\n",
    "y_tot= tottenham_df_final[['y']]\n",
    "x_tot= sm.add_constant(x_tot)\n",
    "totmodel= sm.Logit(y_tot, x_tot).fit()\n",
    "print(totmodel.summary())"
   ]
  },
  {
   "cell_type": "markdown",
   "metadata": {},
   "source": [
    "# Validación Tottenham"
   ]
  },
  {
   "cell_type": "code",
   "execution_count": 44,
   "metadata": {},
   "outputs": [
    {
     "data": {
      "text/plain": [
       "0      1.439254e-07\n",
       "1      7.689761e-97\n",
       "2      6.033930e-01\n",
       "3      1.000000e+00\n",
       "4      4.013854e-77\n",
       "5      9.999995e-01\n",
       "6     6.325075e-104\n",
       "7      5.146713e-28\n",
       "8      1.438430e-47\n",
       "9      2.534232e-20\n",
       "10     8.843231e-12\n",
       "11     1.000000e+00\n",
       "12     1.000000e+00\n",
       "13     4.485040e-63\n",
       "14     1.000000e+00\n",
       "15     3.966072e-01\n",
       "16    2.087988e-102\n",
       "17     9.999995e-01\n",
       "18     7.075678e-10\n",
       "19    8.366789e-104\n",
       "20     8.939145e-95\n",
       "21     1.635874e-89\n",
       "22     1.000000e+00\n",
       "23     6.983053e-01\n",
       "24     1.000000e+00\n",
       "25     1.816486e-62\n",
       "26     3.016930e-01\n",
       "27     1.534418e-48\n",
       "dtype: float64"
      ]
     },
     "execution_count": 44,
     "metadata": {},
     "output_type": "execute_result"
    }
   ],
   "source": [
    "Y_hat_ps = totmodel.predict(x_tot)\n",
    "Y_hat_ps"
   ]
  },
  {
   "cell_type": "code",
   "execution_count": 45,
   "metadata": {},
   "outputs": [
    {
     "name": "stdout",
     "output_type": "stream",
     "text": [
      "Fitness: 0.9285714285714286\n",
      "10\n",
      "10\n"
     ]
    }
   ],
   "source": [
    "suma_correct = 0\n",
    "suma_y_1 = 0\n",
    "threshold = .5\n",
    "for i in range(28):\n",
    "    true_y = tottenham_df_final[\"y\"][i]\n",
    "    y_hat_p = Y_hat_ps[i]\n",
    "    if y_hat_p >= threshold:\n",
    "        y_hat = 1\n",
    "    else:\n",
    "        y_hat = 0\n",
    "    if true_y == y_hat:\n",
    "        suma_correct += 1\n",
    "    suma_y_1 += y_hat\n",
    "print('Fitness:', suma_correct / 28)\n",
    "print(tottenham_df_final[\"y\"].sum())\n",
    "print(suma_y_1)"
   ]
  },
  {
   "cell_type": "code",
   "execution_count": 46,
   "metadata": {},
   "outputs": [
    {
     "name": "stdout",
     "output_type": "stream",
     "text": [
      "Fitness: 0.9642857142857143\n",
      "10\n",
      "11\n"
     ]
    }
   ],
   "source": [
    "suma_correct = 0\n",
    "suma_y_1 = 0\n",
    "threshold = tottenham_df_final[\"y\"].sum()/28\n",
    "for i in range(28):\n",
    "    y_true=tottenham_df_final[\"y\"][i]\n",
    "    y_hat_p = Y_hat_ps[i]\n",
    "    if y_hat_p >= threshold:\n",
    "        y_hat = 1\n",
    "    else:\n",
    "        y_hat = 0\n",
    "    if y_true == y_hat:\n",
    "        suma_correct += 1\n",
    "    suma_y_1 += y_hat\n",
    "print('Fitness:', suma_correct / 28)\n",
    "print(tottenham_df_final[\"y\"].sum())\n",
    "print(suma_y_1)"
   ]
  },
  {
   "cell_type": "code",
   "execution_count": 47,
   "metadata": {},
   "outputs": [],
   "source": [
    "success_rates = []\n",
    "for threshold in np.linspace(0, 1, 100):\n",
    "    suma_correct = 0\n",
    "    suma_y_1 = 0\n",
    "    for i in range(28):\n",
    "        true_y = tottenham_df_final[\"y\"][i]\n",
    "        y_hat_p = Y_hat_ps[i]\n",
    "        if y_hat_p >= threshold:\n",
    "            y_hat = 1\n",
    "        else:\n",
    "            y_hat = 0\n",
    "        if true_y == y_hat:\n",
    "            suma_correct += 1\n",
    "        suma_y_1 += y_hat\n",
    "    success_rate = suma_y_1 / 28\n",
    "    success_rates.append(success_rate)"
   ]
  },
  {
   "cell_type": "code",
   "execution_count": 48,
   "metadata": {},
   "outputs": [
    {
     "data": {
      "image/png": "[encoded data removed]",
      "text/plain": [
       "<Figure size 720x360 with 1 Axes>"
      ]
     },
     "metadata": {
      "needs_background": "light"
     },
     "output_type": "display_data"
    },
    {
     "name": "stdout",
     "output_type": "stream",
     "text": [
      "\n",
      "Done!\n"
     ]
    }
   ],
   "source": [
    "fig = plt.figure(figsize=(10, 5))\n",
    "axis = plt.gca()\n",
    "plt.plot(list(np.linspace(0, 1, 100)), success_rates)\n",
    "plt.axhline(tottenham_df_final[\"y\"].sum() / 28, color='red', linewidth=1)\n",
    "plt.xlim(0, 1)\n",
    "fig.tight_layout()\n",
    "plt.show()\n",
    "plt.close(plt.gcf())\n",
    "print('\\nDone!')"
   ]
  },
  {
   "cell_type": "markdown",
   "metadata": {},
   "source": [
    "# Cambios marginales "
   ]
  },
  {
   "cell_type": "code",
   "execution_count": 49,
   "metadata": {
    "scrolled": false
   },
   "outputs": [
    {
     "name": "stdout",
     "output_type": "stream",
     "text": [
      "PEA         Logit Marginal Effects       \n",
      "=====================================\n",
      "Dep. Variable:                      y\n",
      "Method:                          dydx\n",
      "At:                              mean\n",
      "===============================================================================\n",
      "                 dy/dx    std err          z      P>|z|      [0.025      0.975]\n",
      "-------------------------------------------------------------------------------\n",
      "pos          9.278e-16   1.34e-10   6.94e-06      1.000   -2.62e-10    2.62e-10\n",
      "c_v          9.356e-16   1.35e-10   6.94e-06      1.000   -2.64e-10    2.64e-10\n",
      "posc        -1.551e-17   2.24e-12  -6.94e-06      1.000   -4.38e-12    4.38e-12\n",
      "goles_favor  6.035e-15   8.51e-10   7.09e-06      1.000   -1.67e-09    1.67e-09\n",
      "===============================================================================\n"
     ]
    }
   ],
   "source": [
    "print(\"PEA\",totmodel.get_margeff(at=\"mean\").summary())"
   ]
  },
  {
   "cell_type": "markdown",
   "metadata": {},
   "source": [
    "# PEA: Casa / Visitante"
   ]
  },
  {
   "cell_type": "code",
   "execution_count": 50,
   "metadata": {
    "scrolled": true
   },
   "outputs": [
    {
     "data": {
      "text/plain": [
       "4.675344163615023e-13"
      ]
     },
     "execution_count": 50,
     "metadata": {},
     "output_type": "execute_result"
    }
   ],
   "source": [
    "sigmoide_G(-333.5469+16.7331*7.178571-0.2797*10.250000+108.8371*1.571429+ 16.8730*1)-sigmoide_G(-333.5469+16.7331*7.178571-0.2797*10.250000+108.8371*1.571429+ 16.8730*0)"
   ]
  },
  {
   "cell_type": "markdown",
   "metadata": {},
   "source": [
    "# PEA: Ganar teniendo un gol a favor "
   ]
  },
  {
   "cell_type": "code",
   "execution_count": 51,
   "metadata": {},
   "outputs": [
    {
     "data": {
      "text/plain": [
       "5.08850924188606e-11"
      ]
     },
     "execution_count": 51,
     "metadata": {},
     "output_type": "execute_result"
    }
   ],
   "source": [
    "sigmoide_G(-333.5469+16.7331*7.178571-0.2797*10.250000+108.8371*1.571429+ 16.8730*1)*(108.8371)*(1)"
   ]
  },
  {
   "cell_type": "markdown",
   "metadata": {},
   "source": [
    "# PEA: Jugar con un contrincante que está una posición por debajo "
   ]
  },
  {
   "cell_type": "code",
   "execution_count": 52,
   "metadata": {},
   "outputs": [
    {
     "data": {
      "text/plain": [
       "-1.3076938240319991e-13"
      ]
     },
     "execution_count": 52,
     "metadata": {},
     "output_type": "execute_result"
    }
   ],
   "source": [
    "sigmoide_G(-333.5469+16.7331*7.178571-0.2797*10.250000+108.8371*1.571429+ 16.8730*1)*(-0.2797)*(1)"
   ]
  },
  {
   "cell_type": "code",
   "execution_count": null,
   "metadata": {},
   "outputs": [],
   "source": []
  }
 ],
 "metadata": {
  "kernelspec": {
   "display_name": "Python 3",
   "language": "python",
   "name": "python3"
  },
  "language_info": {
   "codemirror_mode": {
    "name": "ipython",
    "version": 3
   },
   "file_extension": ".py",
   "mimetype": "text/x-python",
   "name": "python",
   "nbconvert_exporter": "python",
   "pygments_lexer": "ipython3",
   "version": "3.7.6"
  }
 },
 "nbformat": 4,
 "nbformat_minor": 4
}
